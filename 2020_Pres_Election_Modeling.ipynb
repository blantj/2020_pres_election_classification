{
 "cells": [
  {
   "cell_type": "markdown",
   "id": "5db65d81",
   "metadata": {
    "id": "5db65d81"
   },
   "source": [
    "# Import Libraries"
   ]
  },
  {
   "cell_type": "code",
   "execution_count": null,
   "id": "a55157d4",
   "metadata": {
    "colab": {
     "base_uri": "https://localhost:8080/"
    },
    "id": "a55157d4",
    "outputId": "38a53d3d-ea3a-4474-cd09-424c1ce03944"
   },
   "outputs": [
    {
     "name": "stderr",
     "output_type": "stream",
     "text": [
      "/usr/local/lib/python3.7/dist-packages/statsmodels/tools/_testing.py:19: FutureWarning: pandas.util.testing is deprecated. Use the functions in the public API at pandas.testing instead.\n",
      "  import pandas.util.testing as tm\n"
     ]
    }
   ],
   "source": [
    "import pandas as pd\n",
    "import numpy as np\n",
    "from sklearn.preprocessing import StandardScaler\n",
    "from sklearn.impute import KNNImputer\n",
    "import matplotlib.pyplot as plt\n",
    "import seaborn as sns\n",
    "from sklearn.ensemble import IsolationForest\n",
    "from sklearn.model_selection import train_test_split, GridSearchCV\n",
    "from statsmodels.tools.tools import add_constant\n",
    "from statsmodels.stats.outliers_influence import variance_inflation_factor\n",
    "from sklearn.dummy import DummyClassifier\n",
    "from sklearn.metrics import f1_score, accuracy_score, confusion_matrix, precision_score, recall_score\n",
    "from sklearn.linear_model import LogisticRegression\n",
    "from sklearn.ensemble import AdaBoostClassifier, RandomForestClassifier\n",
    "from xgboost import XGBClassifier\n",
    "from sklearn.manifold import TSNE"
   ]
  },
  {
   "cell_type": "markdown",
   "id": "f9fe8e42",
   "metadata": {
    "id": "f9fe8e42"
   },
   "source": [
    "# Obtain Data"
   ]
  },
  {
   "cell_type": "markdown",
   "id": "50735d90",
   "metadata": {
    "id": "50735d90"
   },
   "source": [
    "Read csv with election results into pandas, scrub county names to match formatting of census data, filter for 2020 Biden vote proportion and drop unneeded columns"
   ]
  },
  {
   "cell_type": "code",
   "execution_count": null,
   "id": "ba3adba1",
   "metadata": {
    "colab": {
     "base_uri": "https://localhost:8080/",
     "height": 223
    },
    "id": "ba3adba1",
    "outputId": "8a883f28-de41-49de-b841-543248f6fecc"
   },
   "outputs": [
    {
     "name": "stdout",
     "output_type": "stream",
     "text": [
      "election_df shape: (3155, 4)\n"
     ]
    },
    {
     "data": {
      "text/html": [
       "<div>\n",
       "<style scoped>\n",
       "    .dataframe tbody tr th:only-of-type {\n",
       "        vertical-align: middle;\n",
       "    }\n",
       "\n",
       "    .dataframe tbody tr th {\n",
       "        vertical-align: top;\n",
       "    }\n",
       "\n",
       "    .dataframe thead th {\n",
       "        text-align: right;\n",
       "    }\n",
       "</style>\n",
       "<table border=\"1\" class=\"dataframe\">\n",
       "  <thead>\n",
       "    <tr style=\"text-align: right;\">\n",
       "      <th></th>\n",
       "      <th>County</th>\n",
       "      <th>Joseph R Biden Jr Votes</th>\n",
       "      <th>Total Votes</th>\n",
       "      <th>Donald J Trump Votes</th>\n",
       "    </tr>\n",
       "  </thead>\n",
       "  <tbody>\n",
       "    <tr>\n",
       "      <th>0</th>\n",
       "      <td>Abbeville County, South Carolina</td>\n",
       "      <td>4101.0</td>\n",
       "      <td>12433.0</td>\n",
       "      <td>8215.0</td>\n",
       "    </tr>\n",
       "    <tr>\n",
       "      <th>1</th>\n",
       "      <td>Acadia County, Louisiana</td>\n",
       "      <td>5443.0</td>\n",
       "      <td>28425.0</td>\n",
       "      <td>22596.0</td>\n",
       "    </tr>\n",
       "    <tr>\n",
       "      <th>2</th>\n",
       "      <td>Accomack County, Virginia</td>\n",
       "      <td>7578.0</td>\n",
       "      <td>16962.0</td>\n",
       "      <td>9172.0</td>\n",
       "    </tr>\n",
       "    <tr>\n",
       "      <th>3</th>\n",
       "      <td>Ada County, Idaho</td>\n",
       "      <td>120539.0</td>\n",
       "      <td>259389.0</td>\n",
       "      <td>130699.0</td>\n",
       "    </tr>\n",
       "    <tr>\n",
       "      <th>4</th>\n",
       "      <td>Adair County, Iowa</td>\n",
       "      <td>1198.0</td>\n",
       "      <td>4177.0</td>\n",
       "      <td>2922.0</td>\n",
       "    </tr>\n",
       "  </tbody>\n",
       "</table>\n",
       "</div>"
      ],
      "text/plain": [
       "                             County  ...  Donald J Trump Votes\n",
       "0  Abbeville County, South Carolina  ...                8215.0\n",
       "1          Acadia County, Louisiana  ...               22596.0\n",
       "2         Accomack County, Virginia  ...                9172.0\n",
       "3                 Ada County, Idaho  ...              130699.0\n",
       "4                Adair County, Iowa  ...                2922.0\n",
       "\n",
       "[5 rows x 4 columns]"
      ]
     },
     "execution_count": 3,
     "metadata": {},
     "output_type": "execute_result"
    }
   ],
   "source": [
    "biden_csv_df = pd.read_csv('../Data/election_results.csv')\n",
    "biden_csv_df = biden_csv_df[(biden_csv_df['year']==2020) & (biden_csv_df['candidate']=='JOSEPH R BIDEN JR')]\n",
    "biden_csv_df['County'] = biden_csv_df.apply(lambda x: x['county_name'].title() + ' County, ' + x['state'].title(),\n",
    "                                            axis=1)\n",
    "\n",
    "trump_csv_df = pd.read_csv('../Data/election_results.csv')\n",
    "trump_csv_df = trump_csv_df[(trump_csv_df['year']==2020) & (trump_csv_df['candidate']=='DONALD J TRUMP')]\n",
    "trump_csv_df['County'] = trump_csv_df.apply(lambda x: x['county_name'].title() + ' County, ' + x['state'].title(),\n",
    "                                            axis=1)\n",
    "\n",
    "def filter_election_csv(election_csv_df):\n",
    "    candidate = election_csv_df['candidate'].values[0].title()\n",
    "    election_csv_df['County'] = election_csv_df['County'].apply(lambda x: x.replace('City County', 'City'))\n",
    "    election_csv_df['County'] = election_csv_df['County'].apply(lambda x: x.replace('County County', 'County'))\n",
    "    election_csv_df['County'] = election_csv_df['County'].apply(lambda x: x.replace('Saint', 'St.'))\n",
    "    election_csv_df['County'] = election_csv_df['County'].apply(lambda x: x.replace('St ', 'St. '))\n",
    "    election_csv_df['County'] = election_csv_df['County'].apply(lambda x: x.replace('District Of Columbia County', 'District Of Columbia'))\n",
    "    election_csv_df = election_csv_df[['County', 'candidatevotes', 'totalvotes', 'mode']]\n",
    "    election_df = pd.DataFrame(election_csv_df.groupby(by='County', axis=0).sum()['candidatevotes'])\n",
    "    election_df.reset_index(inplace=True)\n",
    "    election_df.columns=['County', f'{candidate} Votes']\n",
    "    election_df['Total Votes'] = election_csv_df.groupby(by='County', axis=0).max()['totalvotes'].values\n",
    "    return election_df\n",
    "\n",
    "biden_csv_df = filter_election_csv(biden_csv_df)\n",
    "trump_csv_df = filter_election_csv(trump_csv_df)\n",
    "election_df = pd.merge(biden_csv_df, trump_csv_df, on=['County', 'Total Votes'])\n",
    "    \n",
    "print('election_df shape:', election_df.shape)\n",
    "election_df.head()"
   ]
  },
  {
   "cell_type": "markdown",
   "id": "0a5d4e8c",
   "metadata": {
    "id": "0a5d4e8c"
   },
   "source": [
    "Read csv with county areas into pandas, scrub county names to match formatting of census data and drop unneeded columns"
   ]
  },
  {
   "cell_type": "code",
   "execution_count": null,
   "id": "4b9b4f5c",
   "metadata": {
    "colab": {
     "base_uri": "https://localhost:8080/",
     "height": 223
    },
    "id": "4b9b4f5c",
    "outputId": "69330163-7045-4432-e1e7-b31b9c318c29"
   },
   "outputs": [
    {
     "name": "stdout",
     "output_type": "stream",
     "text": [
      "area_df shape: (3198, 2)\n"
     ]
    },
    {
     "data": {
      "text/html": [
       "<div>\n",
       "<style scoped>\n",
       "    .dataframe tbody tr th:only-of-type {\n",
       "        vertical-align: middle;\n",
       "    }\n",
       "\n",
       "    .dataframe tbody tr th {\n",
       "        vertical-align: top;\n",
       "    }\n",
       "\n",
       "    .dataframe thead th {\n",
       "        text-align: right;\n",
       "    }\n",
       "</style>\n",
       "<table border=\"1\" class=\"dataframe\">\n",
       "  <thead>\n",
       "    <tr style=\"text-align: right;\">\n",
       "      <th></th>\n",
       "      <th>County</th>\n",
       "      <th>Area</th>\n",
       "    </tr>\n",
       "  </thead>\n",
       "  <tbody>\n",
       "    <tr>\n",
       "      <th>0</th>\n",
       "      <td>United States</td>\n",
       "      <td>3794083.06</td>\n",
       "    </tr>\n",
       "    <tr>\n",
       "      <th>1</th>\n",
       "      <td>Alabama</td>\n",
       "      <td>52419.02</td>\n",
       "    </tr>\n",
       "    <tr>\n",
       "      <th>2</th>\n",
       "      <td>Autauga County, Alabama</td>\n",
       "      <td>604.45</td>\n",
       "    </tr>\n",
       "    <tr>\n",
       "      <th>3</th>\n",
       "      <td>Baldwin County, Alabama</td>\n",
       "      <td>2026.93</td>\n",
       "    </tr>\n",
       "    <tr>\n",
       "      <th>4</th>\n",
       "      <td>Barbour County, Alabama</td>\n",
       "      <td>904.52</td>\n",
       "    </tr>\n",
       "  </tbody>\n",
       "</table>\n",
       "</div>"
      ],
      "text/plain": [
       "                    County        Area\n",
       "0            United States  3794083.06\n",
       "1                  Alabama    52419.02\n",
       "2  Autauga County, Alabama      604.45\n",
       "3  Baldwin County, Alabama     2026.93\n",
       "4  Barbour County, Alabama      904.52"
      ]
     },
     "execution_count": 4,
     "metadata": {},
     "output_type": "execute_result"
    }
   ],
   "source": [
    "area_df = pd.read_csv('../Data/area.csv')\n",
    "area_df = area_df[['Areaname', 'LND010200D']]\n",
    "area_df.columns = ['County', 'Area']\n",
    "area_df['County']\n",
    "\n",
    "state_abbrev_df = pd.read_csv('../Data/state_abbrev.csv')\n",
    "def replace_abbrev(row):\n",
    "    if len(row.split(',')) == 1:\n",
    "        return row    \n",
    "    else:\n",
    "        state_abbrev = row.split(',')[1][1:]\n",
    "        state = state_abbrev_df[state_abbrev_df['Code']==state_abbrev]['State'].values[0]\n",
    "        return row.split(',')[0] + ' County, ' + state\n",
    "area_df['County'] = area_df['County'].apply(replace_abbrev)\n",
    "area_df['County'] = area_df['County'].apply(lambda x: x.title())\n",
    "area_df['County'] = area_df['County'].apply(lambda x: x.replace('District Of Columbia', 'District Of Columbia, District Of Columbia'))\n",
    "area_df['County'] = area_df['County'].apply(lambda x: x.replace('City County', 'City'))\n",
    "print('area_df shape:', area_df.shape)\n",
    "area_df.head()"
   ]
  },
  {
   "cell_type": "markdown",
   "id": "f408234f",
   "metadata": {
    "id": "f408234f"
   },
   "source": [
    "Update Virginia independent cities in area_df table with City instead of County to match formatting of other tables"
   ]
  },
  {
   "cell_type": "code",
   "execution_count": null,
   "id": "2bbc7f94",
   "metadata": {
    "colab": {
     "base_uri": "https://localhost:8080/",
     "height": 206
    },
    "id": "2bbc7f94",
    "outputId": "b1d198ba-c87e-4a1e-e99b-bf66ec71d49e"
   },
   "outputs": [
    {
     "data": {
      "text/html": [
       "<div>\n",
       "<style scoped>\n",
       "    .dataframe tbody tr th:only-of-type {\n",
       "        vertical-align: middle;\n",
       "    }\n",
       "\n",
       "    .dataframe tbody tr th {\n",
       "        vertical-align: top;\n",
       "    }\n",
       "\n",
       "    .dataframe thead th {\n",
       "        text-align: right;\n",
       "    }\n",
       "</style>\n",
       "<table border=\"1\" class=\"dataframe\">\n",
       "  <thead>\n",
       "    <tr style=\"text-align: right;\">\n",
       "      <th></th>\n",
       "      <th>County</th>\n",
       "      <th>Area</th>\n",
       "    </tr>\n",
       "  </thead>\n",
       "  <tbody>\n",
       "    <tr>\n",
       "      <th>0</th>\n",
       "      <td>United States</td>\n",
       "      <td>3794083.06</td>\n",
       "    </tr>\n",
       "    <tr>\n",
       "      <th>1</th>\n",
       "      <td>Alabama</td>\n",
       "      <td>52419.02</td>\n",
       "    </tr>\n",
       "    <tr>\n",
       "      <th>2</th>\n",
       "      <td>Autauga County, Alabama</td>\n",
       "      <td>604.45</td>\n",
       "    </tr>\n",
       "    <tr>\n",
       "      <th>3</th>\n",
       "      <td>Baldwin County, Alabama</td>\n",
       "      <td>2026.93</td>\n",
       "    </tr>\n",
       "    <tr>\n",
       "      <th>4</th>\n",
       "      <td>Barbour County, Alabama</td>\n",
       "      <td>904.52</td>\n",
       "    </tr>\n",
       "  </tbody>\n",
       "</table>\n",
       "</div>"
      ],
      "text/plain": [
       "                    County        Area\n",
       "0            United States  3794083.06\n",
       "1                  Alabama    52419.02\n",
       "2  Autauga County, Alabama      604.45\n",
       "3  Baldwin County, Alabama     2026.93\n",
       "4  Barbour County, Alabama      904.52"
      ]
     },
     "execution_count": 5,
     "metadata": {},
     "output_type": "execute_result"
    }
   ],
   "source": [
    "area_df['Duplicated'] = area_df['County'].duplicated()\n",
    "duplicate_counties = area_df[area_df['Duplicated']==1]['County'].values\n",
    "\n",
    "def virginia_cities(row):\n",
    "    if row['County'] not in duplicate_counties:\n",
    "        return row\n",
    "    elif row['Area'] == max(area_df[area_df['County']==row['County']]['Area'].values):\n",
    "        return row\n",
    "    else:\n",
    "        row['County'] = row['County'].replace('County', 'City')\n",
    "        return row\n",
    "area_df = area_df.apply(virginia_cities, axis=1)\n",
    "area_df.drop('Duplicated', inplace=True, axis=1)\n",
    "area_df.drop_duplicates(subset='County', inplace=True)\n",
    "area_df.head()"
   ]
  },
  {
   "cell_type": "markdown",
   "id": "2bcd5292",
   "metadata": {
    "id": "2bcd5292"
   },
   "source": [
    "Read csv with county level education data into pandas and drop unneeded columns"
   ]
  },
  {
   "cell_type": "code",
   "execution_count": null,
   "id": "af44d36e",
   "metadata": {
    "colab": {
     "base_uri": "https://localhost:8080/",
     "height": 223
    },
    "id": "af44d36e",
    "outputId": "d1db3652-4553-4ee5-85d3-730615eb6143"
   },
   "outputs": [
    {
     "name": "stdout",
     "output_type": "stream",
     "text": [
      "education_df shape:  (840, 3)\n"
     ]
    },
    {
     "data": {
      "text/html": [
       "<div>\n",
       "<style scoped>\n",
       "    .dataframe tbody tr th:only-of-type {\n",
       "        vertical-align: middle;\n",
       "    }\n",
       "\n",
       "    .dataframe tbody tr th {\n",
       "        vertical-align: top;\n",
       "    }\n",
       "\n",
       "    .dataframe thead th {\n",
       "        text-align: right;\n",
       "    }\n",
       "</style>\n",
       "<table border=\"1\" class=\"dataframe\">\n",
       "  <thead>\n",
       "    <tr style=\"text-align: right;\">\n",
       "      <th></th>\n",
       "      <th>County</th>\n",
       "      <th>Persons 25+</th>\n",
       "      <th>Persons 25+ w/ Bachelors Degree</th>\n",
       "    </tr>\n",
       "  </thead>\n",
       "  <tbody>\n",
       "    <tr>\n",
       "      <th>0</th>\n",
       "      <td>Baldwin County, Alabama</td>\n",
       "      <td>159717</td>\n",
       "      <td>51471</td>\n",
       "    </tr>\n",
       "    <tr>\n",
       "      <th>1</th>\n",
       "      <td>Calhoun County, Alabama</td>\n",
       "      <td>79084</td>\n",
       "      <td>15257</td>\n",
       "    </tr>\n",
       "    <tr>\n",
       "      <th>2</th>\n",
       "      <td>Cullman County, Alabama</td>\n",
       "      <td>58795</td>\n",
       "      <td>9241</td>\n",
       "    </tr>\n",
       "    <tr>\n",
       "      <th>3</th>\n",
       "      <td>DeKalb County, Alabama</td>\n",
       "      <td>47007</td>\n",
       "      <td>5999</td>\n",
       "    </tr>\n",
       "    <tr>\n",
       "      <th>4</th>\n",
       "      <td>Elmore County, Alabama</td>\n",
       "      <td>57553</td>\n",
       "      <td>14310</td>\n",
       "    </tr>\n",
       "  </tbody>\n",
       "</table>\n",
       "</div>"
      ],
      "text/plain": [
       "                    County  Persons 25+  Persons 25+ w/ Bachelors Degree\n",
       "0  Baldwin County, Alabama       159717                            51471\n",
       "1  Calhoun County, Alabama        79084                            15257\n",
       "2  Cullman County, Alabama        58795                             9241\n",
       "3   DeKalb County, Alabama        47007                             5999\n",
       "4   Elmore County, Alabama        57553                            14310"
      ]
     },
     "execution_count": 6,
     "metadata": {},
     "output_type": "execute_result"
    }
   ],
   "source": [
    "education_df = pd.read_csv('../Data/education.csv', header=1)\n",
    "education_df = education_df[['Geographic Area Name',\n",
    "                            'Estimate!!Total!!AGE BY EDUCATIONAL ATTAINMENT!!Population 25 years and over', \n",
    "                            \"Estimate!!Total!!AGE BY EDUCATIONAL ATTAINMENT!!Population 25 years and over!!Bachelor's degree or higher\"]]\n",
    "education_df.columns = ['County', 'Persons 25+', 'Persons 25+ w/ Bachelors Degree']\n",
    "print('education_df shape: ', education_df.shape)\n",
    "education_df.head()"
   ]
  },
  {
   "cell_type": "markdown",
   "id": "470d6961",
   "metadata": {
    "id": "470d6961"
   },
   "source": [
    "Read csv with county level economic data into pandas and drop unneeded columns"
   ]
  },
  {
   "cell_type": "code",
   "execution_count": null,
   "id": "b2c490fc",
   "metadata": {
    "colab": {
     "base_uri": "https://localhost:8080/",
     "height": 223
    },
    "id": "b2c490fc",
    "outputId": "8796c5a6-82b0-4ffc-f289-6af8c47467c2"
   },
   "outputs": [
    {
     "name": "stdout",
     "output_type": "stream",
     "text": [
      "economic_df shape:  (840, 4)\n"
     ]
    },
    {
     "data": {
      "text/html": [
       "<div>\n",
       "<style scoped>\n",
       "    .dataframe tbody tr th:only-of-type {\n",
       "        vertical-align: middle;\n",
       "    }\n",
       "\n",
       "    .dataframe tbody tr th {\n",
       "        vertical-align: top;\n",
       "    }\n",
       "\n",
       "    .dataframe thead th {\n",
       "        text-align: right;\n",
       "    }\n",
       "</style>\n",
       "<table border=\"1\" class=\"dataframe\">\n",
       "  <thead>\n",
       "    <tr style=\"text-align: right;\">\n",
       "      <th></th>\n",
       "      <th>County</th>\n",
       "      <th>Per Capita Income</th>\n",
       "      <th>Persons 16+ in Labor Force</th>\n",
       "      <th>Persons 16+ Unemployed</th>\n",
       "    </tr>\n",
       "  </thead>\n",
       "  <tbody>\n",
       "    <tr>\n",
       "      <th>0</th>\n",
       "      <td>Baldwin County, Alabama</td>\n",
       "      <td>32443</td>\n",
       "      <td>101561</td>\n",
       "      <td>5549</td>\n",
       "    </tr>\n",
       "    <tr>\n",
       "      <th>1</th>\n",
       "      <td>Calhoun County, Alabama</td>\n",
       "      <td>24579</td>\n",
       "      <td>51001</td>\n",
       "      <td>3754</td>\n",
       "    </tr>\n",
       "    <tr>\n",
       "      <th>2</th>\n",
       "      <td>Cullman County, Alabama</td>\n",
       "      <td>23968</td>\n",
       "      <td>38222</td>\n",
       "      <td>1783</td>\n",
       "    </tr>\n",
       "    <tr>\n",
       "      <th>3</th>\n",
       "      <td>DeKalb County, Alabama</td>\n",
       "      <td>21939</td>\n",
       "      <td>34492</td>\n",
       "      <td>1606</td>\n",
       "    </tr>\n",
       "    <tr>\n",
       "      <th>4</th>\n",
       "      <td>Elmore County, Alabama</td>\n",
       "      <td>31396</td>\n",
       "      <td>37693</td>\n",
       "      <td>1014</td>\n",
       "    </tr>\n",
       "  </tbody>\n",
       "</table>\n",
       "</div>"
      ],
      "text/plain": [
       "                    County  ...  Persons 16+ Unemployed\n",
       "0  Baldwin County, Alabama  ...                    5549\n",
       "1  Calhoun County, Alabama  ...                    3754\n",
       "2  Cullman County, Alabama  ...                    1783\n",
       "3   DeKalb County, Alabama  ...                    1606\n",
       "4   Elmore County, Alabama  ...                    1014\n",
       "\n",
       "[5 rows x 4 columns]"
      ]
     },
     "execution_count": 7,
     "metadata": {},
     "output_type": "execute_result"
    }
   ],
   "source": [
    "economic_df = pd.read_csv('../Data/economics.csv', header=1)\n",
    "economic_df = economic_df[['Geographic Area Name',\n",
    "                          'Estimate!!INCOME AND BENEFITS (IN 2019 INFLATION-ADJUSTED DOLLARS)!!Per capita income (dollars)',\n",
    "                          'Estimate!!EMPLOYMENT STATUS!!Population 16 years and over!!In labor force',\n",
    "                          'Estimate!!EMPLOYMENT STATUS!!Population 16 years and over!!In labor force!!Civilian labor force!!Unemployed',]]\n",
    "economic_df.columns = ['County', 'Per Capita Income', 'Persons 16+ in Labor Force', 'Persons 16+ Unemployed',]\n",
    "print('economic_df shape: ', economic_df.shape)\n",
    "economic_df.head()"
   ]
  },
  {
   "cell_type": "markdown",
   "id": "aa0dca93",
   "metadata": {
    "id": "aa0dca93"
   },
   "source": [
    "Read csv with county level ethnicity data into pandas and drop unneeded columns"
   ]
  },
  {
   "cell_type": "code",
   "execution_count": null,
   "id": "16e47e00",
   "metadata": {
    "colab": {
     "base_uri": "https://localhost:8080/",
     "height": 223
    },
    "id": "16e47e00",
    "outputId": "34add6e3-3913-42af-9f24-365d59d5b785"
   },
   "outputs": [
    {
     "name": "stdout",
     "output_type": "stream",
     "text": [
      "ethnicity_df shape:  (840, 5)\n"
     ]
    },
    {
     "data": {
      "text/html": [
       "<div>\n",
       "<style scoped>\n",
       "    .dataframe tbody tr th:only-of-type {\n",
       "        vertical-align: middle;\n",
       "    }\n",
       "\n",
       "    .dataframe tbody tr th {\n",
       "        vertical-align: top;\n",
       "    }\n",
       "\n",
       "    .dataframe thead th {\n",
       "        text-align: right;\n",
       "    }\n",
       "</style>\n",
       "<table border=\"1\" class=\"dataframe\">\n",
       "  <thead>\n",
       "    <tr style=\"text-align: right;\">\n",
       "      <th></th>\n",
       "      <th>County</th>\n",
       "      <th>Sex Ratio (M/F)</th>\n",
       "      <th>Total Persons</th>\n",
       "      <th>Hispanic Persons</th>\n",
       "      <th>White Persons</th>\n",
       "    </tr>\n",
       "  </thead>\n",
       "  <tbody>\n",
       "    <tr>\n",
       "      <th>0</th>\n",
       "      <td>Baldwin County, Alabama</td>\n",
       "      <td>95.7</td>\n",
       "      <td>223234</td>\n",
       "      <td>10534</td>\n",
       "      <td>190912</td>\n",
       "    </tr>\n",
       "    <tr>\n",
       "      <th>1</th>\n",
       "      <td>Calhoun County, Alabama</td>\n",
       "      <td>91.5</td>\n",
       "      <td>113605</td>\n",
       "      <td>4614</td>\n",
       "      <td>82323</td>\n",
       "    </tr>\n",
       "    <tr>\n",
       "      <th>2</th>\n",
       "      <td>Cullman County, Alabama</td>\n",
       "      <td>94.0</td>\n",
       "      <td>83768</td>\n",
       "      <td>3752</td>\n",
       "      <td>N</td>\n",
       "    </tr>\n",
       "    <tr>\n",
       "      <th>3</th>\n",
       "      <td>DeKalb County, Alabama</td>\n",
       "      <td>99.6</td>\n",
       "      <td>71513</td>\n",
       "      <td>10775</td>\n",
       "      <td>59305</td>\n",
       "    </tr>\n",
       "    <tr>\n",
       "      <th>4</th>\n",
       "      <td>Elmore County, Alabama</td>\n",
       "      <td>97.4</td>\n",
       "      <td>81209</td>\n",
       "      <td>2563</td>\n",
       "      <td>61634</td>\n",
       "    </tr>\n",
       "  </tbody>\n",
       "</table>\n",
       "</div>"
      ],
      "text/plain": [
       "                    County  Sex Ratio (M/F)  ...  Hispanic Persons  White Persons\n",
       "0  Baldwin County, Alabama             95.7  ...             10534         190912\n",
       "1  Calhoun County, Alabama             91.5  ...              4614          82323\n",
       "2  Cullman County, Alabama             94.0  ...              3752              N\n",
       "3   DeKalb County, Alabama             99.6  ...             10775          59305\n",
       "4   Elmore County, Alabama             97.4  ...              2563          61634\n",
       "\n",
       "[5 rows x 5 columns]"
      ]
     },
     "execution_count": 8,
     "metadata": {},
     "output_type": "execute_result"
    }
   ],
   "source": [
    "ethnicity_df = pd.read_csv('../Data/ethnicity.csv', header=1)\n",
    "ethnicity_df = ethnicity_df[['Geographic Area Name',\n",
    "                             'Estimate!!SEX AND AGE!!Total population!!Sex ratio (males per 100 females)',\n",
    "                             'Estimate!!SEX AND AGE!!Total population',\n",
    "                             'Estimate!!HISPANIC OR LATINO AND RACE!!Total population!!Hispanic or Latino (of any race)',\n",
    "                             'Estimate!!RACE!!Total population!!One race!!White']]\n",
    "ethnicity_df.columns = ['County', 'Sex Ratio (M/F)', 'Total Persons', 'Hispanic Persons', 'White Persons']\n",
    "print('ethnicity_df shape: ', ethnicity_df.shape)\n",
    "ethnicity_df.head()"
   ]
  },
  {
   "cell_type": "markdown",
   "id": "6c1b8188",
   "metadata": {
    "id": "6c1b8188"
   },
   "source": [
    "Read csv with county level disability data into pandas and drop unneeded columns"
   ]
  },
  {
   "cell_type": "code",
   "execution_count": null,
   "id": "fc3b238c",
   "metadata": {
    "colab": {
     "base_uri": "https://localhost:8080/",
     "height": 223
    },
    "id": "fc3b238c",
    "outputId": "bf2f0861-fc56-4f3a-d73c-aebfdcbc3f96"
   },
   "outputs": [
    {
     "name": "stdout",
     "output_type": "stream",
     "text": [
      "disability_df shape:  (840, 2)\n"
     ]
    },
    {
     "data": {
      "text/html": [
       "<div>\n",
       "<style scoped>\n",
       "    .dataframe tbody tr th:only-of-type {\n",
       "        vertical-align: middle;\n",
       "    }\n",
       "\n",
       "    .dataframe tbody tr th {\n",
       "        vertical-align: top;\n",
       "    }\n",
       "\n",
       "    .dataframe thead th {\n",
       "        text-align: right;\n",
       "    }\n",
       "</style>\n",
       "<table border=\"1\" class=\"dataframe\">\n",
       "  <thead>\n",
       "    <tr style=\"text-align: right;\">\n",
       "      <th></th>\n",
       "      <th>County</th>\n",
       "      <th>Disability Proportion</th>\n",
       "    </tr>\n",
       "  </thead>\n",
       "  <tbody>\n",
       "    <tr>\n",
       "      <th>0</th>\n",
       "      <td>Baldwin County, Alabama</td>\n",
       "      <td>14.4</td>\n",
       "    </tr>\n",
       "    <tr>\n",
       "      <th>1</th>\n",
       "      <td>Calhoun County, Alabama</td>\n",
       "      <td>20.0</td>\n",
       "    </tr>\n",
       "    <tr>\n",
       "      <th>2</th>\n",
       "      <td>Cullman County, Alabama</td>\n",
       "      <td>17.5</td>\n",
       "    </tr>\n",
       "    <tr>\n",
       "      <th>3</th>\n",
       "      <td>DeKalb County, Alabama</td>\n",
       "      <td>10.8</td>\n",
       "    </tr>\n",
       "    <tr>\n",
       "      <th>4</th>\n",
       "      <td>Elmore County, Alabama</td>\n",
       "      <td>12.9</td>\n",
       "    </tr>\n",
       "  </tbody>\n",
       "</table>\n",
       "</div>"
      ],
      "text/plain": [
       "                    County  Disability Proportion\n",
       "0  Baldwin County, Alabama                   14.4\n",
       "1  Calhoun County, Alabama                   20.0\n",
       "2  Cullman County, Alabama                   17.5\n",
       "3   DeKalb County, Alabama                   10.8\n",
       "4   Elmore County, Alabama                   12.9"
      ]
     },
     "execution_count": 9,
     "metadata": {},
     "output_type": "execute_result"
    }
   ],
   "source": [
    "disability_df = pd.read_csv('../Data/disability.csv', header=1)\n",
    "disability_df = disability_df[['Geographic Area Name',\n",
    "    'Estimate!!Percent with a disability!!Total civilian noninstitutionalized population']]\n",
    "disability_df.columns = ['County', 'Disability Proportion']\n",
    "print('disability_df shape: ', disability_df.shape)\n",
    "disability_df.head()"
   ]
  },
  {
   "cell_type": "markdown",
   "id": "b2e7d853",
   "metadata": {
    "id": "b2e7d853"
   },
   "source": [
    "Read csv with county level demographic data into pandas and drop unneeded columns"
   ]
  },
  {
   "cell_type": "code",
   "execution_count": null,
   "id": "d03dd26a",
   "metadata": {
    "colab": {
     "base_uri": "https://localhost:8080/",
     "height": 223
    },
    "id": "d03dd26a",
    "outputId": "2679dc0a-9055-4185-ec32-031ba976f31d"
   },
   "outputs": [
    {
     "name": "stdout",
     "output_type": "stream",
     "text": [
      "demographics_df shape:  (840, 2)\n"
     ]
    },
    {
     "data": {
      "text/html": [
       "<div>\n",
       "<style scoped>\n",
       "    .dataframe tbody tr th:only-of-type {\n",
       "        vertical-align: middle;\n",
       "    }\n",
       "\n",
       "    .dataframe tbody tr th {\n",
       "        vertical-align: top;\n",
       "    }\n",
       "\n",
       "    .dataframe thead th {\n",
       "        text-align: right;\n",
       "    }\n",
       "</style>\n",
       "<table border=\"1\" class=\"dataframe\">\n",
       "  <thead>\n",
       "    <tr style=\"text-align: right;\">\n",
       "      <th></th>\n",
       "      <th>County</th>\n",
       "      <th>Median Age</th>\n",
       "    </tr>\n",
       "  </thead>\n",
       "  <tbody>\n",
       "    <tr>\n",
       "      <th>0</th>\n",
       "      <td>Baldwin County, Alabama</td>\n",
       "      <td>43.0</td>\n",
       "    </tr>\n",
       "    <tr>\n",
       "      <th>1</th>\n",
       "      <td>Calhoun County, Alabama</td>\n",
       "      <td>39.6</td>\n",
       "    </tr>\n",
       "    <tr>\n",
       "      <th>2</th>\n",
       "      <td>Cullman County, Alabama</td>\n",
       "      <td>41.9</td>\n",
       "    </tr>\n",
       "    <tr>\n",
       "      <th>3</th>\n",
       "      <td>DeKalb County, Alabama</td>\n",
       "      <td>37.7</td>\n",
       "    </tr>\n",
       "    <tr>\n",
       "      <th>4</th>\n",
       "      <td>Elmore County, Alabama</td>\n",
       "      <td>39.0</td>\n",
       "    </tr>\n",
       "  </tbody>\n",
       "</table>\n",
       "</div>"
      ],
      "text/plain": [
       "                    County  Median Age\n",
       "0  Baldwin County, Alabama        43.0\n",
       "1  Calhoun County, Alabama        39.6\n",
       "2  Cullman County, Alabama        41.9\n",
       "3   DeKalb County, Alabama        37.7\n",
       "4   Elmore County, Alabama        39.0"
      ]
     },
     "execution_count": 10,
     "metadata": {},
     "output_type": "execute_result"
    }
   ],
   "source": [
    "demographics_df = pd.read_csv('../Data/demographics.csv', header=1)\n",
    "demographics_df = demographics_df[['Geographic Area Name',\n",
    "                                  'Estimate!!Total!!Total population!!SUMMARY INDICATORS!!Median age (years)']]\n",
    "demographics_df.columns = ['County', 'Median Age']\n",
    "print('demographics_df shape: ', demographics_df.shape)\n",
    "demographics_df.head()"
   ]
  },
  {
   "cell_type": "markdown",
   "id": "881153f5",
   "metadata": {
    "id": "881153f5"
   },
   "source": [
    "Read csv with county level veteran proprtion into pandas and drop unneeded columns"
   ]
  },
  {
   "cell_type": "code",
   "execution_count": null,
   "id": "813cd503",
   "metadata": {
    "colab": {
     "base_uri": "https://localhost:8080/",
     "height": 223
    },
    "id": "813cd503",
    "outputId": "89504f93-cb4b-4a3d-f723-e39f8ea86705"
   },
   "outputs": [
    {
     "name": "stdout",
     "output_type": "stream",
     "text": [
      "veterans_df shape:  (840, 3)\n"
     ]
    },
    {
     "data": {
      "text/html": [
       "<div>\n",
       "<style scoped>\n",
       "    .dataframe tbody tr th:only-of-type {\n",
       "        vertical-align: middle;\n",
       "    }\n",
       "\n",
       "    .dataframe tbody tr th {\n",
       "        vertical-align: top;\n",
       "    }\n",
       "\n",
       "    .dataframe thead th {\n",
       "        text-align: right;\n",
       "    }\n",
       "</style>\n",
       "<table border=\"1\" class=\"dataframe\">\n",
       "  <thead>\n",
       "    <tr style=\"text-align: right;\">\n",
       "      <th></th>\n",
       "      <th>County</th>\n",
       "      <th>Civilians 18+</th>\n",
       "      <th>Veterans 18+</th>\n",
       "    </tr>\n",
       "  </thead>\n",
       "  <tbody>\n",
       "    <tr>\n",
       "      <th>0</th>\n",
       "      <td>Baldwin County, Alabama</td>\n",
       "      <td>176331</td>\n",
       "      <td>19580</td>\n",
       "    </tr>\n",
       "    <tr>\n",
       "      <th>1</th>\n",
       "      <td>Calhoun County, Alabama</td>\n",
       "      <td>87525</td>\n",
       "      <td>8552</td>\n",
       "    </tr>\n",
       "    <tr>\n",
       "      <th>2</th>\n",
       "      <td>Cullman County, Alabama</td>\n",
       "      <td>64955</td>\n",
       "      <td>4907</td>\n",
       "    </tr>\n",
       "    <tr>\n",
       "      <th>3</th>\n",
       "      <td>DeKalb County, Alabama</td>\n",
       "      <td>53737</td>\n",
       "      <td>3499</td>\n",
       "    </tr>\n",
       "    <tr>\n",
       "      <th>4</th>\n",
       "      <td>Elmore County, Alabama</td>\n",
       "      <td>61837</td>\n",
       "      <td>6512</td>\n",
       "    </tr>\n",
       "  </tbody>\n",
       "</table>\n",
       "</div>"
      ],
      "text/plain": [
       "                    County  Civilians 18+  Veterans 18+\n",
       "0  Baldwin County, Alabama         176331         19580\n",
       "1  Calhoun County, Alabama          87525          8552\n",
       "2  Cullman County, Alabama          64955          4907\n",
       "3   DeKalb County, Alabama          53737          3499\n",
       "4   Elmore County, Alabama          61837          6512"
      ]
     },
     "execution_count": 11,
     "metadata": {},
     "output_type": "execute_result"
    }
   ],
   "source": [
    "veterans_df = pd.read_csv('../Data/veterans.csv', header=1)\n",
    "veterans_df = veterans_df[['Geographic Area Name',\n",
    "                           'Estimate!!Total!!Civilian population 18 years and over',\n",
    "                           'Estimate!!Veterans!!Civilian population 18 years and over']]\n",
    "veterans_df.columns = ['County', 'Civilians 18+', 'Veterans 18+']\n",
    "print('veterans_df shape: ', veterans_df.shape)\n",
    "veterans_df.head()"
   ]
  },
  {
   "cell_type": "markdown",
   "id": "8664d2cf",
   "metadata": {
    "id": "8664d2cf"
   },
   "source": [
    "Read csv with county level employment data into pandas and drop unneeded columns"
   ]
  },
  {
   "cell_type": "code",
   "execution_count": null,
   "id": "d5ae4073",
   "metadata": {
    "colab": {
     "base_uri": "https://localhost:8080/",
     "height": 223
    },
    "id": "d5ae4073",
    "outputId": "3c2769d0-008c-4f8b-9a2b-d2a25db2674a"
   },
   "outputs": [
    {
     "name": "stdout",
     "output_type": "stream",
     "text": [
      "occupation_df shape:  (840, 5)\n"
     ]
    },
    {
     "data": {
      "text/html": [
       "<div>\n",
       "<style scoped>\n",
       "    .dataframe tbody tr th:only-of-type {\n",
       "        vertical-align: middle;\n",
       "    }\n",
       "\n",
       "    .dataframe tbody tr th {\n",
       "        vertical-align: top;\n",
       "    }\n",
       "\n",
       "    .dataframe thead th {\n",
       "        text-align: right;\n",
       "    }\n",
       "</style>\n",
       "<table border=\"1\" class=\"dataframe\">\n",
       "  <thead>\n",
       "    <tr style=\"text-align: right;\">\n",
       "      <th></th>\n",
       "      <th>County</th>\n",
       "      <th>Employees 16+</th>\n",
       "      <th>Agriculture Employees 16+</th>\n",
       "      <th>Mining Employees 16+</th>\n",
       "      <th>Manufacturing Employees 16+</th>\n",
       "    </tr>\n",
       "  </thead>\n",
       "  <tbody>\n",
       "    <tr>\n",
       "      <th>0</th>\n",
       "      <td>Baldwin County, Alabama</td>\n",
       "      <td>96012</td>\n",
       "      <td>1090</td>\n",
       "      <td>205</td>\n",
       "      <td>8791</td>\n",
       "    </tr>\n",
       "    <tr>\n",
       "      <th>1</th>\n",
       "      <td>Calhoun County, Alabama</td>\n",
       "      <td>45641</td>\n",
       "      <td>298</td>\n",
       "      <td>714</td>\n",
       "      <td>7044</td>\n",
       "    </tr>\n",
       "    <tr>\n",
       "      <th>2</th>\n",
       "      <td>Cullman County, Alabama</td>\n",
       "      <td>36439</td>\n",
       "      <td>399</td>\n",
       "      <td>0</td>\n",
       "      <td>5282</td>\n",
       "    </tr>\n",
       "    <tr>\n",
       "      <th>3</th>\n",
       "      <td>DeKalb County, Alabama</td>\n",
       "      <td>32544</td>\n",
       "      <td>845</td>\n",
       "      <td>7</td>\n",
       "      <td>9052</td>\n",
       "    </tr>\n",
       "    <tr>\n",
       "      <th>4</th>\n",
       "      <td>Elmore County, Alabama</td>\n",
       "      <td>35358</td>\n",
       "      <td>101</td>\n",
       "      <td>77</td>\n",
       "      <td>4634</td>\n",
       "    </tr>\n",
       "  </tbody>\n",
       "</table>\n",
       "</div>"
      ],
      "text/plain": [
       "                    County  ... Manufacturing Employees 16+\n",
       "0  Baldwin County, Alabama  ...                        8791\n",
       "1  Calhoun County, Alabama  ...                        7044\n",
       "2  Cullman County, Alabama  ...                        5282\n",
       "3   DeKalb County, Alabama  ...                        9052\n",
       "4   Elmore County, Alabama  ...                        4634\n",
       "\n",
       "[5 rows x 5 columns]"
      ]
     },
     "execution_count": 12,
     "metadata": {},
     "output_type": "execute_result"
    }
   ],
   "source": [
    "occupation_df = pd.read_csv('../Data/occupation.csv', header=1)\n",
    "occupation_df = occupation_df[['Geographic Area Name',\n",
    "                           'Estimate!!Total!!Civilian employed population 16 years and over',\n",
    "                           'Estimate!!Total!!Civilian employed population 16 years and over!!Agriculture, forestry, fishing and hunting, and mining:!!Agriculture, forestry, fishing and hunting',\n",
    "                           'Estimate!!Total!!Civilian employed population 16 years and over!!Agriculture, forestry, fishing and hunting, and mining:!!Mining, quarrying, and oil and gas extraction',\n",
    "                           'Estimate!!Total!!Civilian employed population 16 years and over!!Manufacturing']]\n",
    "occupation_df.columns = ['County', 'Employees 16+', 'Agriculture Employees 16+', 'Mining Employees 16+', \n",
    "                          'Manufacturing Employees 16+']\n",
    "print('occupation_df shape: ', occupation_df.shape)\n",
    "occupation_df.head()"
   ]
  },
  {
   "cell_type": "markdown",
   "id": "8bbef959",
   "metadata": {
    "id": "8bbef959"
   },
   "source": [
    "Merge all dfs from census sources together"
   ]
  },
  {
   "cell_type": "code",
   "execution_count": null,
   "id": "16ddb6fd",
   "metadata": {
    "colab": {
     "base_uri": "https://localhost:8080/",
     "height": 469
    },
    "id": "16ddb6fd",
    "outputId": "d3ca2798-33fa-4489-cbec-fc85144b0441"
   },
   "outputs": [
    {
     "name": "stdout",
     "output_type": "stream",
     "text": [
      "df shape: (840, 18)\n"
     ]
    },
    {
     "data": {
      "text/html": [
       "<div>\n",
       "<style scoped>\n",
       "    .dataframe tbody tr th:only-of-type {\n",
       "        vertical-align: middle;\n",
       "    }\n",
       "\n",
       "    .dataframe tbody tr th {\n",
       "        vertical-align: top;\n",
       "    }\n",
       "\n",
       "    .dataframe thead th {\n",
       "        text-align: right;\n",
       "    }\n",
       "</style>\n",
       "<table border=\"1\" class=\"dataframe\">\n",
       "  <thead>\n",
       "    <tr style=\"text-align: right;\">\n",
       "      <th></th>\n",
       "      <th>County</th>\n",
       "      <th>Persons 25+</th>\n",
       "      <th>Persons 25+ w/ Bachelors Degree</th>\n",
       "      <th>Per Capita Income</th>\n",
       "      <th>Persons 16+ in Labor Force</th>\n",
       "      <th>Persons 16+ Unemployed</th>\n",
       "      <th>Sex Ratio (M/F)</th>\n",
       "      <th>Total Persons</th>\n",
       "      <th>Hispanic Persons</th>\n",
       "      <th>White Persons</th>\n",
       "      <th>Disability Proportion</th>\n",
       "      <th>Median Age</th>\n",
       "      <th>Civilians 18+</th>\n",
       "      <th>Veterans 18+</th>\n",
       "      <th>Employees 16+</th>\n",
       "      <th>Agriculture Employees 16+</th>\n",
       "      <th>Mining Employees 16+</th>\n",
       "      <th>Manufacturing Employees 16+</th>\n",
       "    </tr>\n",
       "  </thead>\n",
       "  <tbody>\n",
       "    <tr>\n",
       "      <th>0</th>\n",
       "      <td>Baldwin County, Alabama</td>\n",
       "      <td>159717</td>\n",
       "      <td>51471</td>\n",
       "      <td>32443</td>\n",
       "      <td>101561</td>\n",
       "      <td>5549</td>\n",
       "      <td>95.7</td>\n",
       "      <td>223234</td>\n",
       "      <td>10534</td>\n",
       "      <td>190912</td>\n",
       "      <td>14.4</td>\n",
       "      <td>43.0</td>\n",
       "      <td>176331</td>\n",
       "      <td>19580</td>\n",
       "      <td>96012</td>\n",
       "      <td>1090</td>\n",
       "      <td>205</td>\n",
       "      <td>8791</td>\n",
       "    </tr>\n",
       "    <tr>\n",
       "      <th>1</th>\n",
       "      <td>Calhoun County, Alabama</td>\n",
       "      <td>79084</td>\n",
       "      <td>15257</td>\n",
       "      <td>24579</td>\n",
       "      <td>51001</td>\n",
       "      <td>3754</td>\n",
       "      <td>91.5</td>\n",
       "      <td>113605</td>\n",
       "      <td>4614</td>\n",
       "      <td>82323</td>\n",
       "      <td>20.0</td>\n",
       "      <td>39.6</td>\n",
       "      <td>87525</td>\n",
       "      <td>8552</td>\n",
       "      <td>45641</td>\n",
       "      <td>298</td>\n",
       "      <td>714</td>\n",
       "      <td>7044</td>\n",
       "    </tr>\n",
       "    <tr>\n",
       "      <th>2</th>\n",
       "      <td>Cullman County, Alabama</td>\n",
       "      <td>58795</td>\n",
       "      <td>9241</td>\n",
       "      <td>23968</td>\n",
       "      <td>38222</td>\n",
       "      <td>1783</td>\n",
       "      <td>94.0</td>\n",
       "      <td>83768</td>\n",
       "      <td>3752</td>\n",
       "      <td>N</td>\n",
       "      <td>17.5</td>\n",
       "      <td>41.9</td>\n",
       "      <td>64955</td>\n",
       "      <td>4907</td>\n",
       "      <td>36439</td>\n",
       "      <td>399</td>\n",
       "      <td>0</td>\n",
       "      <td>5282</td>\n",
       "    </tr>\n",
       "    <tr>\n",
       "      <th>3</th>\n",
       "      <td>DeKalb County, Alabama</td>\n",
       "      <td>47007</td>\n",
       "      <td>5999</td>\n",
       "      <td>21939</td>\n",
       "      <td>34492</td>\n",
       "      <td>1606</td>\n",
       "      <td>99.6</td>\n",
       "      <td>71513</td>\n",
       "      <td>10775</td>\n",
       "      <td>59305</td>\n",
       "      <td>10.8</td>\n",
       "      <td>37.7</td>\n",
       "      <td>53737</td>\n",
       "      <td>3499</td>\n",
       "      <td>32544</td>\n",
       "      <td>845</td>\n",
       "      <td>7</td>\n",
       "      <td>9052</td>\n",
       "    </tr>\n",
       "    <tr>\n",
       "      <th>4</th>\n",
       "      <td>Elmore County, Alabama</td>\n",
       "      <td>57553</td>\n",
       "      <td>14310</td>\n",
       "      <td>31396</td>\n",
       "      <td>37693</td>\n",
       "      <td>1014</td>\n",
       "      <td>97.4</td>\n",
       "      <td>81209</td>\n",
       "      <td>2563</td>\n",
       "      <td>61634</td>\n",
       "      <td>12.9</td>\n",
       "      <td>39.0</td>\n",
       "      <td>61837</td>\n",
       "      <td>6512</td>\n",
       "      <td>35358</td>\n",
       "      <td>101</td>\n",
       "      <td>77</td>\n",
       "      <td>4634</td>\n",
       "    </tr>\n",
       "  </tbody>\n",
       "</table>\n",
       "</div>"
      ],
      "text/plain": [
       "                    County  ...  Manufacturing Employees 16+\n",
       "0  Baldwin County, Alabama  ...                         8791\n",
       "1  Calhoun County, Alabama  ...                         7044\n",
       "2  Cullman County, Alabama  ...                         5282\n",
       "3   DeKalb County, Alabama  ...                         9052\n",
       "4   Elmore County, Alabama  ...                         4634\n",
       "\n",
       "[5 rows x 18 columns]"
      ]
     },
     "execution_count": 13,
     "metadata": {},
     "output_type": "execute_result"
    }
   ],
   "source": [
    "df = pd.merge(education_df, economic_df, on='County')\n",
    "df = pd.merge(df, ethnicity_df, on='County')\n",
    "df = pd.merge(df, disability_df, on='County')\n",
    "df = pd.merge(df, demographics_df, on='County')\n",
    "df = pd.merge(df, veterans_df, on='County')\n",
    "df = pd.merge(df, occupation_df, on='County')\n",
    "print('df shape:', df.shape)\n",
    "df.head()"
   ]
  },
  {
   "cell_type": "markdown",
   "id": "ea79fbb3",
   "metadata": {
    "id": "ea79fbb3"
   },
   "source": [
    "Scrub county names in df with census data to match county names in other dfs for subsequent merger"
   ]
  },
  {
   "cell_type": "code",
   "execution_count": null,
   "id": "6bab4cd7",
   "metadata": {
    "id": "6bab4cd7"
   },
   "outputs": [],
   "source": [
    "def scrub_county(name):\n",
    "    name = name.replace('Parish', 'County')\n",
    "    name = name.replace('ñ', 'n')\n",
    "    name = name.replace('Saint', 'St.')\n",
    "    name = name.replace('City County', 'City')\n",
    "    name = name.title()\n",
    "    return name\n",
    "df['County'] = df['County'].apply(scrub_county)"
   ]
  },
  {
   "cell_type": "markdown",
   "id": "ff79b90a",
   "metadata": {
    "id": "ff79b90a"
   },
   "source": [
    "Merge df with election results df"
   ]
  },
  {
   "cell_type": "code",
   "execution_count": null,
   "id": "53f9cb73",
   "metadata": {
    "colab": {
     "base_uri": "https://localhost:8080/",
     "height": 486
    },
    "id": "53f9cb73",
    "outputId": "d77ab2db-0d07-43a6-c3f8-617fabf11c95"
   },
   "outputs": [
    {
     "name": "stdout",
     "output_type": "stream",
     "text": [
      "df shape: (826, 21)\n"
     ]
    },
    {
     "data": {
      "text/html": [
       "<div>\n",
       "<style scoped>\n",
       "    .dataframe tbody tr th:only-of-type {\n",
       "        vertical-align: middle;\n",
       "    }\n",
       "\n",
       "    .dataframe tbody tr th {\n",
       "        vertical-align: top;\n",
       "    }\n",
       "\n",
       "    .dataframe thead th {\n",
       "        text-align: right;\n",
       "    }\n",
       "</style>\n",
       "<table border=\"1\" class=\"dataframe\">\n",
       "  <thead>\n",
       "    <tr style=\"text-align: right;\">\n",
       "      <th></th>\n",
       "      <th>County</th>\n",
       "      <th>Persons 25+</th>\n",
       "      <th>Persons 25+ w/ Bachelors Degree</th>\n",
       "      <th>Per Capita Income</th>\n",
       "      <th>Persons 16+ in Labor Force</th>\n",
       "      <th>Persons 16+ Unemployed</th>\n",
       "      <th>Sex Ratio (M/F)</th>\n",
       "      <th>Total Persons</th>\n",
       "      <th>Hispanic Persons</th>\n",
       "      <th>White Persons</th>\n",
       "      <th>Disability Proportion</th>\n",
       "      <th>Median Age</th>\n",
       "      <th>Civilians 18+</th>\n",
       "      <th>Veterans 18+</th>\n",
       "      <th>Employees 16+</th>\n",
       "      <th>Agriculture Employees 16+</th>\n",
       "      <th>Mining Employees 16+</th>\n",
       "      <th>Manufacturing Employees 16+</th>\n",
       "      <th>Joseph R Biden Jr Votes</th>\n",
       "      <th>Total Votes</th>\n",
       "      <th>Donald J Trump Votes</th>\n",
       "    </tr>\n",
       "  </thead>\n",
       "  <tbody>\n",
       "    <tr>\n",
       "      <th>0</th>\n",
       "      <td>Baldwin County, Alabama</td>\n",
       "      <td>159717</td>\n",
       "      <td>51471</td>\n",
       "      <td>32443</td>\n",
       "      <td>101561</td>\n",
       "      <td>5549</td>\n",
       "      <td>95.7</td>\n",
       "      <td>223234</td>\n",
       "      <td>10534</td>\n",
       "      <td>190912</td>\n",
       "      <td>14.4</td>\n",
       "      <td>43.0</td>\n",
       "      <td>176331</td>\n",
       "      <td>19580</td>\n",
       "      <td>96012</td>\n",
       "      <td>1090</td>\n",
       "      <td>205</td>\n",
       "      <td>8791</td>\n",
       "      <td>24578.0</td>\n",
       "      <td>109679.0</td>\n",
       "      <td>83544.0</td>\n",
       "    </tr>\n",
       "    <tr>\n",
       "      <th>1</th>\n",
       "      <td>Calhoun County, Alabama</td>\n",
       "      <td>79084</td>\n",
       "      <td>15257</td>\n",
       "      <td>24579</td>\n",
       "      <td>51001</td>\n",
       "      <td>3754</td>\n",
       "      <td>91.5</td>\n",
       "      <td>113605</td>\n",
       "      <td>4614</td>\n",
       "      <td>82323</td>\n",
       "      <td>20.0</td>\n",
       "      <td>39.6</td>\n",
       "      <td>87525</td>\n",
       "      <td>8552</td>\n",
       "      <td>45641</td>\n",
       "      <td>298</td>\n",
       "      <td>714</td>\n",
       "      <td>7044</td>\n",
       "      <td>15216.0</td>\n",
       "      <td>50983.0</td>\n",
       "      <td>35101.0</td>\n",
       "    </tr>\n",
       "    <tr>\n",
       "      <th>2</th>\n",
       "      <td>Cullman County, Alabama</td>\n",
       "      <td>58795</td>\n",
       "      <td>9241</td>\n",
       "      <td>23968</td>\n",
       "      <td>38222</td>\n",
       "      <td>1783</td>\n",
       "      <td>94.0</td>\n",
       "      <td>83768</td>\n",
       "      <td>3752</td>\n",
       "      <td>N</td>\n",
       "      <td>17.5</td>\n",
       "      <td>41.9</td>\n",
       "      <td>64955</td>\n",
       "      <td>4907</td>\n",
       "      <td>36439</td>\n",
       "      <td>399</td>\n",
       "      <td>0</td>\n",
       "      <td>5282</td>\n",
       "      <td>4478.0</td>\n",
       "      <td>41851.0</td>\n",
       "      <td>36880.0</td>\n",
       "    </tr>\n",
       "    <tr>\n",
       "      <th>3</th>\n",
       "      <td>Dekalb County, Alabama</td>\n",
       "      <td>47007</td>\n",
       "      <td>5999</td>\n",
       "      <td>21939</td>\n",
       "      <td>34492</td>\n",
       "      <td>1606</td>\n",
       "      <td>99.6</td>\n",
       "      <td>71513</td>\n",
       "      <td>10775</td>\n",
       "      <td>59305</td>\n",
       "      <td>10.8</td>\n",
       "      <td>37.7</td>\n",
       "      <td>53737</td>\n",
       "      <td>3499</td>\n",
       "      <td>32544</td>\n",
       "      <td>845</td>\n",
       "      <td>7</td>\n",
       "      <td>9052</td>\n",
       "      <td>4281.0</td>\n",
       "      <td>29356.0</td>\n",
       "      <td>24767.0</td>\n",
       "    </tr>\n",
       "    <tr>\n",
       "      <th>4</th>\n",
       "      <td>Elmore County, Alabama</td>\n",
       "      <td>57553</td>\n",
       "      <td>14310</td>\n",
       "      <td>31396</td>\n",
       "      <td>37693</td>\n",
       "      <td>1014</td>\n",
       "      <td>97.4</td>\n",
       "      <td>81209</td>\n",
       "      <td>2563</td>\n",
       "      <td>61634</td>\n",
       "      <td>12.9</td>\n",
       "      <td>39.0</td>\n",
       "      <td>61837</td>\n",
       "      <td>6512</td>\n",
       "      <td>35358</td>\n",
       "      <td>101</td>\n",
       "      <td>77</td>\n",
       "      <td>4634</td>\n",
       "      <td>10367.0</td>\n",
       "      <td>41030.0</td>\n",
       "      <td>30164.0</td>\n",
       "    </tr>\n",
       "  </tbody>\n",
       "</table>\n",
       "</div>"
      ],
      "text/plain": [
       "                    County  Persons 25+  ...  Total Votes  Donald J Trump Votes\n",
       "0  Baldwin County, Alabama       159717  ...     109679.0               83544.0\n",
       "1  Calhoun County, Alabama        79084  ...      50983.0               35101.0\n",
       "2  Cullman County, Alabama        58795  ...      41851.0               36880.0\n",
       "3   Dekalb County, Alabama        47007  ...      29356.0               24767.0\n",
       "4   Elmore County, Alabama        57553  ...      41030.0               30164.0\n",
       "\n",
       "[5 rows x 21 columns]"
      ]
     },
     "execution_count": 15,
     "metadata": {},
     "output_type": "execute_result"
    }
   ],
   "source": [
    "df = pd.merge(df, election_df, on='County')\n",
    "print('df shape:', df.shape)\n",
    "df.head()"
   ]
  },
  {
   "cell_type": "markdown",
   "id": "eb7f4c18",
   "metadata": {
    "id": "eb7f4c18"
   },
   "source": [
    "Scrub area_df county names to match df county names"
   ]
  },
  {
   "cell_type": "code",
   "execution_count": null,
   "id": "878b54ff",
   "metadata": {
    "id": "878b54ff"
   },
   "outputs": [],
   "source": [
    "missing_counties = pd.merge(area_df, df, on='County', how='right')[pd.merge(area_df, df, on='County', how='right').isna().max(axis=1)]['County'].values\n",
    "replacement_counties = []\n",
    "for county in missing_counties:\n",
    "    replacement_counties.append(county.replace('City', 'County'))\n",
    "for num in range(0, len(missing_counties)):\n",
    "    area_df['County'] = area_df['County'].apply(lambda x: x.replace(replacement_counties[num], missing_counties[num]))"
   ]
  },
  {
   "cell_type": "markdown",
   "id": "243401e0",
   "metadata": {
    "id": "243401e0"
   },
   "source": [
    "Merge df with area_df"
   ]
  },
  {
   "cell_type": "code",
   "execution_count": null,
   "id": "0d3ddf1b",
   "metadata": {
    "colab": {
     "base_uri": "https://localhost:8080/",
     "height": 486
    },
    "id": "0d3ddf1b",
    "outputId": "ac927c00-0449-492d-9d4b-778012a002f6"
   },
   "outputs": [
    {
     "name": "stdout",
     "output_type": "stream",
     "text": [
      "df shape: (826, 22)\n"
     ]
    },
    {
     "data": {
      "text/html": [
       "<div>\n",
       "<style scoped>\n",
       "    .dataframe tbody tr th:only-of-type {\n",
       "        vertical-align: middle;\n",
       "    }\n",
       "\n",
       "    .dataframe tbody tr th {\n",
       "        vertical-align: top;\n",
       "    }\n",
       "\n",
       "    .dataframe thead th {\n",
       "        text-align: right;\n",
       "    }\n",
       "</style>\n",
       "<table border=\"1\" class=\"dataframe\">\n",
       "  <thead>\n",
       "    <tr style=\"text-align: right;\">\n",
       "      <th></th>\n",
       "      <th>County</th>\n",
       "      <th>Persons 25+</th>\n",
       "      <th>Persons 25+ w/ Bachelors Degree</th>\n",
       "      <th>Per Capita Income</th>\n",
       "      <th>Persons 16+ in Labor Force</th>\n",
       "      <th>Persons 16+ Unemployed</th>\n",
       "      <th>Sex Ratio (M/F)</th>\n",
       "      <th>Total Persons</th>\n",
       "      <th>Hispanic Persons</th>\n",
       "      <th>White Persons</th>\n",
       "      <th>Disability Proportion</th>\n",
       "      <th>Median Age</th>\n",
       "      <th>Civilians 18+</th>\n",
       "      <th>Veterans 18+</th>\n",
       "      <th>Employees 16+</th>\n",
       "      <th>Agriculture Employees 16+</th>\n",
       "      <th>Mining Employees 16+</th>\n",
       "      <th>Manufacturing Employees 16+</th>\n",
       "      <th>Joseph R Biden Jr Votes</th>\n",
       "      <th>Total Votes</th>\n",
       "      <th>Donald J Trump Votes</th>\n",
       "      <th>Area</th>\n",
       "    </tr>\n",
       "  </thead>\n",
       "  <tbody>\n",
       "    <tr>\n",
       "      <th>0</th>\n",
       "      <td>Baldwin County, Alabama</td>\n",
       "      <td>159717</td>\n",
       "      <td>51471</td>\n",
       "      <td>32443</td>\n",
       "      <td>101561</td>\n",
       "      <td>5549</td>\n",
       "      <td>95.7</td>\n",
       "      <td>223234</td>\n",
       "      <td>10534</td>\n",
       "      <td>190912</td>\n",
       "      <td>14.4</td>\n",
       "      <td>43.0</td>\n",
       "      <td>176331</td>\n",
       "      <td>19580</td>\n",
       "      <td>96012</td>\n",
       "      <td>1090</td>\n",
       "      <td>205</td>\n",
       "      <td>8791</td>\n",
       "      <td>24578.0</td>\n",
       "      <td>109679.0</td>\n",
       "      <td>83544.0</td>\n",
       "      <td>2026.93</td>\n",
       "    </tr>\n",
       "    <tr>\n",
       "      <th>1</th>\n",
       "      <td>Calhoun County, Alabama</td>\n",
       "      <td>79084</td>\n",
       "      <td>15257</td>\n",
       "      <td>24579</td>\n",
       "      <td>51001</td>\n",
       "      <td>3754</td>\n",
       "      <td>91.5</td>\n",
       "      <td>113605</td>\n",
       "      <td>4614</td>\n",
       "      <td>82323</td>\n",
       "      <td>20.0</td>\n",
       "      <td>39.6</td>\n",
       "      <td>87525</td>\n",
       "      <td>8552</td>\n",
       "      <td>45641</td>\n",
       "      <td>298</td>\n",
       "      <td>714</td>\n",
       "      <td>7044</td>\n",
       "      <td>15216.0</td>\n",
       "      <td>50983.0</td>\n",
       "      <td>35101.0</td>\n",
       "      <td>612.32</td>\n",
       "    </tr>\n",
       "    <tr>\n",
       "      <th>2</th>\n",
       "      <td>Cullman County, Alabama</td>\n",
       "      <td>58795</td>\n",
       "      <td>9241</td>\n",
       "      <td>23968</td>\n",
       "      <td>38222</td>\n",
       "      <td>1783</td>\n",
       "      <td>94.0</td>\n",
       "      <td>83768</td>\n",
       "      <td>3752</td>\n",
       "      <td>N</td>\n",
       "      <td>17.5</td>\n",
       "      <td>41.9</td>\n",
       "      <td>64955</td>\n",
       "      <td>4907</td>\n",
       "      <td>36439</td>\n",
       "      <td>399</td>\n",
       "      <td>0</td>\n",
       "      <td>5282</td>\n",
       "      <td>4478.0</td>\n",
       "      <td>41851.0</td>\n",
       "      <td>36880.0</td>\n",
       "      <td>754.82</td>\n",
       "    </tr>\n",
       "    <tr>\n",
       "      <th>3</th>\n",
       "      <td>Dekalb County, Alabama</td>\n",
       "      <td>47007</td>\n",
       "      <td>5999</td>\n",
       "      <td>21939</td>\n",
       "      <td>34492</td>\n",
       "      <td>1606</td>\n",
       "      <td>99.6</td>\n",
       "      <td>71513</td>\n",
       "      <td>10775</td>\n",
       "      <td>59305</td>\n",
       "      <td>10.8</td>\n",
       "      <td>37.7</td>\n",
       "      <td>53737</td>\n",
       "      <td>3499</td>\n",
       "      <td>32544</td>\n",
       "      <td>845</td>\n",
       "      <td>7</td>\n",
       "      <td>9052</td>\n",
       "      <td>4281.0</td>\n",
       "      <td>29356.0</td>\n",
       "      <td>24767.0</td>\n",
       "      <td>778.65</td>\n",
       "    </tr>\n",
       "    <tr>\n",
       "      <th>4</th>\n",
       "      <td>Elmore County, Alabama</td>\n",
       "      <td>57553</td>\n",
       "      <td>14310</td>\n",
       "      <td>31396</td>\n",
       "      <td>37693</td>\n",
       "      <td>1014</td>\n",
       "      <td>97.4</td>\n",
       "      <td>81209</td>\n",
       "      <td>2563</td>\n",
       "      <td>61634</td>\n",
       "      <td>12.9</td>\n",
       "      <td>39.0</td>\n",
       "      <td>61837</td>\n",
       "      <td>6512</td>\n",
       "      <td>35358</td>\n",
       "      <td>101</td>\n",
       "      <td>77</td>\n",
       "      <td>4634</td>\n",
       "      <td>10367.0</td>\n",
       "      <td>41030.0</td>\n",
       "      <td>30164.0</td>\n",
       "      <td>657.21</td>\n",
       "    </tr>\n",
       "  </tbody>\n",
       "</table>\n",
       "</div>"
      ],
      "text/plain": [
       "                    County  Persons 25+  ...  Donald J Trump Votes     Area\n",
       "0  Baldwin County, Alabama       159717  ...               83544.0  2026.93\n",
       "1  Calhoun County, Alabama        79084  ...               35101.0   612.32\n",
       "2  Cullman County, Alabama        58795  ...               36880.0   754.82\n",
       "3   Dekalb County, Alabama        47007  ...               24767.0   778.65\n",
       "4   Elmore County, Alabama        57553  ...               30164.0   657.21\n",
       "\n",
       "[5 rows x 22 columns]"
      ]
     },
     "execution_count": 17,
     "metadata": {},
     "output_type": "execute_result"
    }
   ],
   "source": [
    "df = pd.merge(df, area_df, on='County')\n",
    "print('df shape:', df.shape)\n",
    "df.head()"
   ]
  },
  {
   "cell_type": "markdown",
   "id": "d0006e20",
   "metadata": {
    "id": "d0006e20"
   },
   "source": [
    "# Scrub Data"
   ]
  },
  {
   "cell_type": "markdown",
   "id": "f3729319",
   "metadata": {
    "id": "f3729319"
   },
   "source": [
    "Use df.info() to see what data scrubbing needed"
   ]
  },
  {
   "cell_type": "code",
   "execution_count": null,
   "id": "b4e69073",
   "metadata": {
    "colab": {
     "base_uri": "https://localhost:8080/"
    },
    "id": "b4e69073",
    "outputId": "be03537a-14b3-4579-b59b-0a20475040e5"
   },
   "outputs": [
    {
     "name": "stdout",
     "output_type": "stream",
     "text": [
      "<class 'pandas.core.frame.DataFrame'>\n",
      "Int64Index: 826 entries, 0 to 825\n",
      "Data columns (total 22 columns):\n",
      " #   Column                           Non-Null Count  Dtype  \n",
      "---  ------                           --------------  -----  \n",
      " 0   County                           826 non-null    object \n",
      " 1   Persons 25+                      826 non-null    int64  \n",
      " 2   Persons 25+ w/ Bachelors Degree  826 non-null    int64  \n",
      " 3   Per Capita Income                826 non-null    int64  \n",
      " 4   Persons 16+ in Labor Force       826 non-null    int64  \n",
      " 5   Persons 16+ Unemployed           826 non-null    int64  \n",
      " 6   Sex Ratio (M/F)                  826 non-null    float64\n",
      " 7   Total Persons                    826 non-null    int64  \n",
      " 8   Hispanic Persons                 826 non-null    int64  \n",
      " 9   White Persons                    826 non-null    object \n",
      " 10  Disability Proportion            826 non-null    float64\n",
      " 11  Median Age                       826 non-null    float64\n",
      " 12  Civilians 18+                    826 non-null    int64  \n",
      " 13  Veterans 18+                     826 non-null    int64  \n",
      " 14  Employees 16+                    826 non-null    object \n",
      " 15  Agriculture Employees 16+        826 non-null    object \n",
      " 16  Mining Employees 16+             826 non-null    object \n",
      " 17  Manufacturing Employees 16+      826 non-null    object \n",
      " 18  Joseph R Biden Jr Votes          826 non-null    float64\n",
      " 19  Total Votes                      825 non-null    float64\n",
      " 20  Donald J Trump Votes             826 non-null    float64\n",
      " 21  Area                             826 non-null    float64\n",
      "dtypes: float64(7), int64(9), object(6)\n",
      "memory usage: 148.4+ KB\n"
     ]
    }
   ],
   "source": [
    "df.info()"
   ]
  },
  {
   "cell_type": "markdown",
   "id": "597888a8",
   "metadata": {
    "id": "597888a8"
   },
   "source": [
    "Replace all N datapoints, signifying a missing value, with np.nan and change column data types to int"
   ]
  },
  {
   "cell_type": "code",
   "execution_count": null,
   "id": "f60c3cc2",
   "metadata": {
    "colab": {
     "base_uri": "https://localhost:8080/",
     "height": 469
    },
    "id": "f60c3cc2",
    "outputId": "34431dce-072c-458d-ddec-31c1d7995bd0"
   },
   "outputs": [
    {
     "data": {
      "text/html": [
       "<div>\n",
       "<style scoped>\n",
       "    .dataframe tbody tr th:only-of-type {\n",
       "        vertical-align: middle;\n",
       "    }\n",
       "\n",
       "    .dataframe tbody tr th {\n",
       "        vertical-align: top;\n",
       "    }\n",
       "\n",
       "    .dataframe thead th {\n",
       "        text-align: right;\n",
       "    }\n",
       "</style>\n",
       "<table border=\"1\" class=\"dataframe\">\n",
       "  <thead>\n",
       "    <tr style=\"text-align: right;\">\n",
       "      <th></th>\n",
       "      <th>County</th>\n",
       "      <th>Persons 25+</th>\n",
       "      <th>Persons 25+ w/ Bachelors Degree</th>\n",
       "      <th>Per Capita Income</th>\n",
       "      <th>Persons 16+ in Labor Force</th>\n",
       "      <th>Persons 16+ Unemployed</th>\n",
       "      <th>Sex Ratio (M/F)</th>\n",
       "      <th>Total Persons</th>\n",
       "      <th>Hispanic Persons</th>\n",
       "      <th>White Persons</th>\n",
       "      <th>Disability Proportion</th>\n",
       "      <th>Median Age</th>\n",
       "      <th>Civilians 18+</th>\n",
       "      <th>Veterans 18+</th>\n",
       "      <th>Employees 16+</th>\n",
       "      <th>Agriculture Employees 16+</th>\n",
       "      <th>Mining Employees 16+</th>\n",
       "      <th>Manufacturing Employees 16+</th>\n",
       "      <th>Joseph R Biden Jr Votes</th>\n",
       "      <th>Total Votes</th>\n",
       "      <th>Donald J Trump Votes</th>\n",
       "      <th>Area</th>\n",
       "    </tr>\n",
       "  </thead>\n",
       "  <tbody>\n",
       "    <tr>\n",
       "      <th>0</th>\n",
       "      <td>Baldwin County, Alabama</td>\n",
       "      <td>159717</td>\n",
       "      <td>51471</td>\n",
       "      <td>32443</td>\n",
       "      <td>101561</td>\n",
       "      <td>5549</td>\n",
       "      <td>95.7</td>\n",
       "      <td>223234</td>\n",
       "      <td>10534</td>\n",
       "      <td>190912.0</td>\n",
       "      <td>14.4</td>\n",
       "      <td>43.0</td>\n",
       "      <td>176331</td>\n",
       "      <td>19580</td>\n",
       "      <td>96012.0</td>\n",
       "      <td>1090.0</td>\n",
       "      <td>205.0</td>\n",
       "      <td>8791.0</td>\n",
       "      <td>24578.0</td>\n",
       "      <td>109679.0</td>\n",
       "      <td>83544.0</td>\n",
       "      <td>2026.93</td>\n",
       "    </tr>\n",
       "    <tr>\n",
       "      <th>1</th>\n",
       "      <td>Calhoun County, Alabama</td>\n",
       "      <td>79084</td>\n",
       "      <td>15257</td>\n",
       "      <td>24579</td>\n",
       "      <td>51001</td>\n",
       "      <td>3754</td>\n",
       "      <td>91.5</td>\n",
       "      <td>113605</td>\n",
       "      <td>4614</td>\n",
       "      <td>82323.0</td>\n",
       "      <td>20.0</td>\n",
       "      <td>39.6</td>\n",
       "      <td>87525</td>\n",
       "      <td>8552</td>\n",
       "      <td>45641.0</td>\n",
       "      <td>298.0</td>\n",
       "      <td>714.0</td>\n",
       "      <td>7044.0</td>\n",
       "      <td>15216.0</td>\n",
       "      <td>50983.0</td>\n",
       "      <td>35101.0</td>\n",
       "      <td>612.32</td>\n",
       "    </tr>\n",
       "    <tr>\n",
       "      <th>2</th>\n",
       "      <td>Cullman County, Alabama</td>\n",
       "      <td>58795</td>\n",
       "      <td>9241</td>\n",
       "      <td>23968</td>\n",
       "      <td>38222</td>\n",
       "      <td>1783</td>\n",
       "      <td>94.0</td>\n",
       "      <td>83768</td>\n",
       "      <td>3752</td>\n",
       "      <td>NaN</td>\n",
       "      <td>17.5</td>\n",
       "      <td>41.9</td>\n",
       "      <td>64955</td>\n",
       "      <td>4907</td>\n",
       "      <td>36439.0</td>\n",
       "      <td>399.0</td>\n",
       "      <td>0.0</td>\n",
       "      <td>5282.0</td>\n",
       "      <td>4478.0</td>\n",
       "      <td>41851.0</td>\n",
       "      <td>36880.0</td>\n",
       "      <td>754.82</td>\n",
       "    </tr>\n",
       "    <tr>\n",
       "      <th>3</th>\n",
       "      <td>Dekalb County, Alabama</td>\n",
       "      <td>47007</td>\n",
       "      <td>5999</td>\n",
       "      <td>21939</td>\n",
       "      <td>34492</td>\n",
       "      <td>1606</td>\n",
       "      <td>99.6</td>\n",
       "      <td>71513</td>\n",
       "      <td>10775</td>\n",
       "      <td>59305.0</td>\n",
       "      <td>10.8</td>\n",
       "      <td>37.7</td>\n",
       "      <td>53737</td>\n",
       "      <td>3499</td>\n",
       "      <td>32544.0</td>\n",
       "      <td>845.0</td>\n",
       "      <td>7.0</td>\n",
       "      <td>9052.0</td>\n",
       "      <td>4281.0</td>\n",
       "      <td>29356.0</td>\n",
       "      <td>24767.0</td>\n",
       "      <td>778.65</td>\n",
       "    </tr>\n",
       "    <tr>\n",
       "      <th>4</th>\n",
       "      <td>Elmore County, Alabama</td>\n",
       "      <td>57553</td>\n",
       "      <td>14310</td>\n",
       "      <td>31396</td>\n",
       "      <td>37693</td>\n",
       "      <td>1014</td>\n",
       "      <td>97.4</td>\n",
       "      <td>81209</td>\n",
       "      <td>2563</td>\n",
       "      <td>61634.0</td>\n",
       "      <td>12.9</td>\n",
       "      <td>39.0</td>\n",
       "      <td>61837</td>\n",
       "      <td>6512</td>\n",
       "      <td>35358.0</td>\n",
       "      <td>101.0</td>\n",
       "      <td>77.0</td>\n",
       "      <td>4634.0</td>\n",
       "      <td>10367.0</td>\n",
       "      <td>41030.0</td>\n",
       "      <td>30164.0</td>\n",
       "      <td>657.21</td>\n",
       "    </tr>\n",
       "  </tbody>\n",
       "</table>\n",
       "</div>"
      ],
      "text/plain": [
       "                    County  Persons 25+  ...  Donald J Trump Votes     Area\n",
       "0  Baldwin County, Alabama       159717  ...               83544.0  2026.93\n",
       "1  Calhoun County, Alabama        79084  ...               35101.0   612.32\n",
       "2  Cullman County, Alabama        58795  ...               36880.0   754.82\n",
       "3   Dekalb County, Alabama        47007  ...               24767.0   778.65\n",
       "4   Elmore County, Alabama        57553  ...               30164.0   657.21\n",
       "\n",
       "[5 rows x 22 columns]"
      ]
     },
     "execution_count": 19,
     "metadata": {},
     "output_type": "execute_result"
    }
   ],
   "source": [
    "replace_dict = {'N': np.nan}\n",
    "df = df.replace(replace_dict)\n",
    "dtype_dict = {'White Persons': float, 'Employees 16+': float, 'Agriculture Employees 16+': float,\n",
    "              'Mining Employees 16+': float, 'Manufacturing Employees 16+': float}\n",
    "df = df.astype(dtype_dict)\n",
    "df.head()"
   ]
  },
  {
   "cell_type": "markdown",
   "id": "ce3b97bc",
   "metadata": {
    "id": "ce3b97bc"
   },
   "source": [
    "Fill in missing vote total for San Joaquin County, California with manually researched number"
   ]
  },
  {
   "cell_type": "code",
   "execution_count": null,
   "id": "8b464168",
   "metadata": {
    "colab": {
     "base_uri": "https://localhost:8080/",
     "height": 205
    },
    "id": "8b464168",
    "outputId": "1728675c-471b-4706-c1d8-6fdeeafe2b3f"
   },
   "outputs": [
    {
     "data": {
      "text/html": [
       "<div>\n",
       "<style scoped>\n",
       "    .dataframe tbody tr th:only-of-type {\n",
       "        vertical-align: middle;\n",
       "    }\n",
       "\n",
       "    .dataframe tbody tr th {\n",
       "        vertical-align: top;\n",
       "    }\n",
       "\n",
       "    .dataframe thead th {\n",
       "        text-align: right;\n",
       "    }\n",
       "</style>\n",
       "<table border=\"1\" class=\"dataframe\">\n",
       "  <thead>\n",
       "    <tr style=\"text-align: right;\">\n",
       "      <th></th>\n",
       "      <th>County</th>\n",
       "      <th>Persons 25+</th>\n",
       "      <th>Persons 25+ w/ Bachelors Degree</th>\n",
       "      <th>Per Capita Income</th>\n",
       "      <th>Persons 16+ in Labor Force</th>\n",
       "      <th>Persons 16+ Unemployed</th>\n",
       "      <th>Sex Ratio (M/F)</th>\n",
       "      <th>Total Persons</th>\n",
       "      <th>Hispanic Persons</th>\n",
       "      <th>White Persons</th>\n",
       "      <th>Disability Proportion</th>\n",
       "      <th>Median Age</th>\n",
       "      <th>Civilians 18+</th>\n",
       "      <th>Veterans 18+</th>\n",
       "      <th>Employees 16+</th>\n",
       "      <th>Agriculture Employees 16+</th>\n",
       "      <th>Mining Employees 16+</th>\n",
       "      <th>Manufacturing Employees 16+</th>\n",
       "      <th>Joseph R Biden Jr Votes</th>\n",
       "      <th>Total Votes</th>\n",
       "      <th>Donald J Trump Votes</th>\n",
       "      <th>Area</th>\n",
       "    </tr>\n",
       "  </thead>\n",
       "  <tbody>\n",
       "    <tr>\n",
       "      <th>67</th>\n",
       "      <td>San Joaquin County, California</td>\n",
       "      <td>484712</td>\n",
       "      <td>96795</td>\n",
       "      <td>28919</td>\n",
       "      <td>348301</td>\n",
       "      <td>21705</td>\n",
       "      <td>99.9</td>\n",
       "      <td>762148</td>\n",
       "      <td>320334</td>\n",
       "      <td>431364.0</td>\n",
       "      <td>12.6</td>\n",
       "      <td>34.7</td>\n",
       "      <td>558269</td>\n",
       "      <td>25650</td>\n",
       "      <td>326476.0</td>\n",
       "      <td>16456.0</td>\n",
       "      <td>447.0</td>\n",
       "      <td>26476.0</td>\n",
       "      <td>161137.0</td>\n",
       "      <td>288492.0</td>\n",
       "      <td>121098.0</td>\n",
       "      <td>1426.25</td>\n",
       "    </tr>\n",
       "  </tbody>\n",
       "</table>\n",
       "</div>"
      ],
      "text/plain": [
       "                            County  Persons 25+  ...  Donald J Trump Votes     Area\n",
       "67  San Joaquin County, California       484712  ...              121098.0  1426.25\n",
       "\n",
       "[1 rows x 22 columns]"
      ]
     },
     "execution_count": 20,
     "metadata": {},
     "output_type": "execute_result"
    }
   ],
   "source": [
    "df.loc[df[df['County']=='San Joaquin County, California'].index, 'Total Votes'] = 288492\n",
    "df[df['County']=='San Joaquin County, California']"
   ]
  },
  {
   "cell_type": "markdown",
   "id": "fb7fae6a",
   "metadata": {
    "id": "fb7fae6a"
   },
   "source": [
    "Fill in missing area for Broomfield County, Colorado with manually researched number"
   ]
  },
  {
   "cell_type": "code",
   "execution_count": null,
   "id": "5f37bb88",
   "metadata": {
    "colab": {
     "base_uri": "https://localhost:8080/",
     "height": 205
    },
    "id": "5f37bb88",
    "outputId": "5b2a0304-aaa1-4781-b5a6-68b3343da08e"
   },
   "outputs": [
    {
     "data": {
      "text/html": [
       "<div>\n",
       "<style scoped>\n",
       "    .dataframe tbody tr th:only-of-type {\n",
       "        vertical-align: middle;\n",
       "    }\n",
       "\n",
       "    .dataframe tbody tr th {\n",
       "        vertical-align: top;\n",
       "    }\n",
       "\n",
       "    .dataframe thead th {\n",
       "        text-align: right;\n",
       "    }\n",
       "</style>\n",
       "<table border=\"1\" class=\"dataframe\">\n",
       "  <thead>\n",
       "    <tr style=\"text-align: right;\">\n",
       "      <th></th>\n",
       "      <th>County</th>\n",
       "      <th>Persons 25+</th>\n",
       "      <th>Persons 25+ w/ Bachelors Degree</th>\n",
       "      <th>Per Capita Income</th>\n",
       "      <th>Persons 16+ in Labor Force</th>\n",
       "      <th>Persons 16+ Unemployed</th>\n",
       "      <th>Sex Ratio (M/F)</th>\n",
       "      <th>Total Persons</th>\n",
       "      <th>Hispanic Persons</th>\n",
       "      <th>White Persons</th>\n",
       "      <th>Disability Proportion</th>\n",
       "      <th>Median Age</th>\n",
       "      <th>Civilians 18+</th>\n",
       "      <th>Veterans 18+</th>\n",
       "      <th>Employees 16+</th>\n",
       "      <th>Agriculture Employees 16+</th>\n",
       "      <th>Mining Employees 16+</th>\n",
       "      <th>Manufacturing Employees 16+</th>\n",
       "      <th>Joseph R Biden Jr Votes</th>\n",
       "      <th>Total Votes</th>\n",
       "      <th>Donald J Trump Votes</th>\n",
       "      <th>Area</th>\n",
       "    </tr>\n",
       "  </thead>\n",
       "  <tbody>\n",
       "    <tr>\n",
       "      <th>86</th>\n",
       "      <td>Broomfield County, Colorado</td>\n",
       "      <td>49543</td>\n",
       "      <td>28176</td>\n",
       "      <td>57213</td>\n",
       "      <td>42235</td>\n",
       "      <td>832</td>\n",
       "      <td>102.0</td>\n",
       "      <td>70465</td>\n",
       "      <td>8964</td>\n",
       "      <td>60615.0</td>\n",
       "      <td>7.6</td>\n",
       "      <td>38.9</td>\n",
       "      <td>54923</td>\n",
       "      <td>3876</td>\n",
       "      <td>41403.0</td>\n",
       "      <td>146.0</td>\n",
       "      <td>109.0</td>\n",
       "      <td>3734.0</td>\n",
       "      <td>29077.0</td>\n",
       "      <td>46632.0</td>\n",
       "      <td>16295.0</td>\n",
       "      <td>33.03</td>\n",
       "    </tr>\n",
       "  </tbody>\n",
       "</table>\n",
       "</div>"
      ],
      "text/plain": [
       "                         County  Persons 25+  ...  Donald J Trump Votes   Area\n",
       "86  Broomfield County, Colorado        49543  ...               16295.0  33.03\n",
       "\n",
       "[1 rows x 22 columns]"
      ]
     },
     "execution_count": 21,
     "metadata": {},
     "output_type": "execute_result"
    }
   ],
   "source": [
    "df.loc[df[df['County']=='Broomfield County, Colorado'].index, 'Area'] = 33.03\n",
    "df[df['County']=='Broomfield County, Colorado']"
   ]
  },
  {
   "cell_type": "markdown",
   "id": "a35195bb",
   "metadata": {
    "id": "a35195bb"
   },
   "source": [
    "Replace all 0 Agriculture Employees 16+ and Mining Employees 16+ values with np.nan to subsequently impute"
   ]
  },
  {
   "cell_type": "code",
   "execution_count": null,
   "id": "eba66256",
   "metadata": {
    "colab": {
     "base_uri": "https://localhost:8080/",
     "height": 469
    },
    "id": "eba66256",
    "outputId": "f18fea96-7e3a-4f8f-ef8f-e4552da1c051"
   },
   "outputs": [
    {
     "data": {
      "text/html": [
       "<div>\n",
       "<style scoped>\n",
       "    .dataframe tbody tr th:only-of-type {\n",
       "        vertical-align: middle;\n",
       "    }\n",
       "\n",
       "    .dataframe tbody tr th {\n",
       "        vertical-align: top;\n",
       "    }\n",
       "\n",
       "    .dataframe thead th {\n",
       "        text-align: right;\n",
       "    }\n",
       "</style>\n",
       "<table border=\"1\" class=\"dataframe\">\n",
       "  <thead>\n",
       "    <tr style=\"text-align: right;\">\n",
       "      <th></th>\n",
       "      <th>County</th>\n",
       "      <th>Persons 25+</th>\n",
       "      <th>Persons 25+ w/ Bachelors Degree</th>\n",
       "      <th>Per Capita Income</th>\n",
       "      <th>Persons 16+ in Labor Force</th>\n",
       "      <th>Persons 16+ Unemployed</th>\n",
       "      <th>Sex Ratio (M/F)</th>\n",
       "      <th>Total Persons</th>\n",
       "      <th>Hispanic Persons</th>\n",
       "      <th>White Persons</th>\n",
       "      <th>Disability Proportion</th>\n",
       "      <th>Median Age</th>\n",
       "      <th>Civilians 18+</th>\n",
       "      <th>Veterans 18+</th>\n",
       "      <th>Employees 16+</th>\n",
       "      <th>Agriculture Employees 16+</th>\n",
       "      <th>Mining Employees 16+</th>\n",
       "      <th>Manufacturing Employees 16+</th>\n",
       "      <th>Joseph R Biden Jr Votes</th>\n",
       "      <th>Total Votes</th>\n",
       "      <th>Donald J Trump Votes</th>\n",
       "      <th>Area</th>\n",
       "    </tr>\n",
       "  </thead>\n",
       "  <tbody>\n",
       "    <tr>\n",
       "      <th>0</th>\n",
       "      <td>Baldwin County, Alabama</td>\n",
       "      <td>159717</td>\n",
       "      <td>51471</td>\n",
       "      <td>32443</td>\n",
       "      <td>101561</td>\n",
       "      <td>5549</td>\n",
       "      <td>95.7</td>\n",
       "      <td>223234</td>\n",
       "      <td>10534</td>\n",
       "      <td>190912.0</td>\n",
       "      <td>14.4</td>\n",
       "      <td>43.0</td>\n",
       "      <td>176331</td>\n",
       "      <td>19580</td>\n",
       "      <td>96012.0</td>\n",
       "      <td>1090.0</td>\n",
       "      <td>205.0</td>\n",
       "      <td>8791.0</td>\n",
       "      <td>24578.0</td>\n",
       "      <td>109679.0</td>\n",
       "      <td>83544.0</td>\n",
       "      <td>2026.93</td>\n",
       "    </tr>\n",
       "    <tr>\n",
       "      <th>1</th>\n",
       "      <td>Calhoun County, Alabama</td>\n",
       "      <td>79084</td>\n",
       "      <td>15257</td>\n",
       "      <td>24579</td>\n",
       "      <td>51001</td>\n",
       "      <td>3754</td>\n",
       "      <td>91.5</td>\n",
       "      <td>113605</td>\n",
       "      <td>4614</td>\n",
       "      <td>82323.0</td>\n",
       "      <td>20.0</td>\n",
       "      <td>39.6</td>\n",
       "      <td>87525</td>\n",
       "      <td>8552</td>\n",
       "      <td>45641.0</td>\n",
       "      <td>298.0</td>\n",
       "      <td>714.0</td>\n",
       "      <td>7044.0</td>\n",
       "      <td>15216.0</td>\n",
       "      <td>50983.0</td>\n",
       "      <td>35101.0</td>\n",
       "      <td>612.32</td>\n",
       "    </tr>\n",
       "    <tr>\n",
       "      <th>2</th>\n",
       "      <td>Cullman County, Alabama</td>\n",
       "      <td>58795</td>\n",
       "      <td>9241</td>\n",
       "      <td>23968</td>\n",
       "      <td>38222</td>\n",
       "      <td>1783</td>\n",
       "      <td>94.0</td>\n",
       "      <td>83768</td>\n",
       "      <td>3752</td>\n",
       "      <td>NaN</td>\n",
       "      <td>17.5</td>\n",
       "      <td>41.9</td>\n",
       "      <td>64955</td>\n",
       "      <td>4907</td>\n",
       "      <td>36439.0</td>\n",
       "      <td>399.0</td>\n",
       "      <td>NaN</td>\n",
       "      <td>5282.0</td>\n",
       "      <td>4478.0</td>\n",
       "      <td>41851.0</td>\n",
       "      <td>36880.0</td>\n",
       "      <td>754.82</td>\n",
       "    </tr>\n",
       "    <tr>\n",
       "      <th>3</th>\n",
       "      <td>Dekalb County, Alabama</td>\n",
       "      <td>47007</td>\n",
       "      <td>5999</td>\n",
       "      <td>21939</td>\n",
       "      <td>34492</td>\n",
       "      <td>1606</td>\n",
       "      <td>99.6</td>\n",
       "      <td>71513</td>\n",
       "      <td>10775</td>\n",
       "      <td>59305.0</td>\n",
       "      <td>10.8</td>\n",
       "      <td>37.7</td>\n",
       "      <td>53737</td>\n",
       "      <td>3499</td>\n",
       "      <td>32544.0</td>\n",
       "      <td>845.0</td>\n",
       "      <td>7.0</td>\n",
       "      <td>9052.0</td>\n",
       "      <td>4281.0</td>\n",
       "      <td>29356.0</td>\n",
       "      <td>24767.0</td>\n",
       "      <td>778.65</td>\n",
       "    </tr>\n",
       "    <tr>\n",
       "      <th>4</th>\n",
       "      <td>Elmore County, Alabama</td>\n",
       "      <td>57553</td>\n",
       "      <td>14310</td>\n",
       "      <td>31396</td>\n",
       "      <td>37693</td>\n",
       "      <td>1014</td>\n",
       "      <td>97.4</td>\n",
       "      <td>81209</td>\n",
       "      <td>2563</td>\n",
       "      <td>61634.0</td>\n",
       "      <td>12.9</td>\n",
       "      <td>39.0</td>\n",
       "      <td>61837</td>\n",
       "      <td>6512</td>\n",
       "      <td>35358.0</td>\n",
       "      <td>101.0</td>\n",
       "      <td>77.0</td>\n",
       "      <td>4634.0</td>\n",
       "      <td>10367.0</td>\n",
       "      <td>41030.0</td>\n",
       "      <td>30164.0</td>\n",
       "      <td>657.21</td>\n",
       "    </tr>\n",
       "  </tbody>\n",
       "</table>\n",
       "</div>"
      ],
      "text/plain": [
       "                    County  Persons 25+  ...  Donald J Trump Votes     Area\n",
       "0  Baldwin County, Alabama       159717  ...               83544.0  2026.93\n",
       "1  Calhoun County, Alabama        79084  ...               35101.0   612.32\n",
       "2  Cullman County, Alabama        58795  ...               36880.0   754.82\n",
       "3   Dekalb County, Alabama        47007  ...               24767.0   778.65\n",
       "4   Elmore County, Alabama        57553  ...               30164.0   657.21\n",
       "\n",
       "[5 rows x 22 columns]"
      ]
     },
     "execution_count": 22,
     "metadata": {},
     "output_type": "execute_result"
    }
   ],
   "source": [
    "zero_replace_dict = {0: np.nan}\n",
    "df['Agriculture Employees 16+'] = df['Agriculture Employees 16+'].replace(zero_replace_dict)\n",
    "df['Mining Employees 16+'] = df['Mining Employees 16+'].replace(zero_replace_dict)\n",
    "df.head()"
   ]
  },
  {
   "cell_type": "markdown",
   "id": "39c85443",
   "metadata": {
    "id": "39c85443"
   },
   "source": [
    "Calculate interaction independent variables and drop variables used to calculate interacitons"
   ]
  },
  {
   "cell_type": "code",
   "execution_count": null,
   "id": "99b164f1",
   "metadata": {
    "colab": {
     "base_uri": "https://localhost:8080/",
     "height": 434
    },
    "id": "99b164f1",
    "outputId": "5b1cab8f-756f-45f7-ab2d-dadb41de1b58"
   },
   "outputs": [
    {
     "data": {
      "text/html": [
       "<div>\n",
       "<style scoped>\n",
       "    .dataframe tbody tr th:only-of-type {\n",
       "        vertical-align: middle;\n",
       "    }\n",
       "\n",
       "    .dataframe tbody tr th {\n",
       "        vertical-align: top;\n",
       "    }\n",
       "\n",
       "    .dataframe thead th {\n",
       "        text-align: right;\n",
       "    }\n",
       "</style>\n",
       "<table border=\"1\" class=\"dataframe\">\n",
       "  <thead>\n",
       "    <tr style=\"text-align: right;\">\n",
       "      <th></th>\n",
       "      <th>County</th>\n",
       "      <th>Per Capita Income</th>\n",
       "      <th>Sex Ratio (M/F)</th>\n",
       "      <th>Disability Proportion</th>\n",
       "      <th>Median Age</th>\n",
       "      <th>Bachelors Degree Proportion</th>\n",
       "      <th>Unemployment Rate</th>\n",
       "      <th>Hispanic Population Proportion</th>\n",
       "      <th>White Population Proportion</th>\n",
       "      <th>Veteran Population Proportion</th>\n",
       "      <th>Agriculture Employment Proportion</th>\n",
       "      <th>Mining Employment Proportion</th>\n",
       "      <th>Manufacturing Employment Proportion</th>\n",
       "      <th>Biden Vote Proportion</th>\n",
       "      <th>Trump Vote Proportion</th>\n",
       "      <th>Population Density</th>\n",
       "    </tr>\n",
       "  </thead>\n",
       "  <tbody>\n",
       "    <tr>\n",
       "      <th>0</th>\n",
       "      <td>Baldwin County, Alabama</td>\n",
       "      <td>32443</td>\n",
       "      <td>95.7</td>\n",
       "      <td>14.4</td>\n",
       "      <td>43.0</td>\n",
       "      <td>0.322264</td>\n",
       "      <td>0.054637</td>\n",
       "      <td>0.047188</td>\n",
       "      <td>0.855210</td>\n",
       "      <td>0.111041</td>\n",
       "      <td>0.011353</td>\n",
       "      <td>0.002135</td>\n",
       "      <td>0.091561</td>\n",
       "      <td>0.224090</td>\n",
       "      <td>0.761714</td>\n",
       "      <td>110.134045</td>\n",
       "    </tr>\n",
       "    <tr>\n",
       "      <th>1</th>\n",
       "      <td>Calhoun County, Alabama</td>\n",
       "      <td>24579</td>\n",
       "      <td>91.5</td>\n",
       "      <td>20.0</td>\n",
       "      <td>39.6</td>\n",
       "      <td>0.192921</td>\n",
       "      <td>0.073606</td>\n",
       "      <td>0.040614</td>\n",
       "      <td>0.724642</td>\n",
       "      <td>0.097709</td>\n",
       "      <td>0.006529</td>\n",
       "      <td>0.015644</td>\n",
       "      <td>0.154335</td>\n",
       "      <td>0.298452</td>\n",
       "      <td>0.688484</td>\n",
       "      <td>185.532075</td>\n",
       "    </tr>\n",
       "    <tr>\n",
       "      <th>2</th>\n",
       "      <td>Cullman County, Alabama</td>\n",
       "      <td>23968</td>\n",
       "      <td>94.0</td>\n",
       "      <td>17.5</td>\n",
       "      <td>41.9</td>\n",
       "      <td>0.157173</td>\n",
       "      <td>0.046649</td>\n",
       "      <td>0.044790</td>\n",
       "      <td>NaN</td>\n",
       "      <td>0.075545</td>\n",
       "      <td>0.010950</td>\n",
       "      <td>NaN</td>\n",
       "      <td>0.144955</td>\n",
       "      <td>0.106999</td>\n",
       "      <td>0.881221</td>\n",
       "      <td>110.977452</td>\n",
       "    </tr>\n",
       "    <tr>\n",
       "      <th>3</th>\n",
       "      <td>Dekalb County, Alabama</td>\n",
       "      <td>21939</td>\n",
       "      <td>99.6</td>\n",
       "      <td>10.8</td>\n",
       "      <td>37.7</td>\n",
       "      <td>0.127619</td>\n",
       "      <td>0.046562</td>\n",
       "      <td>0.150672</td>\n",
       "      <td>0.829290</td>\n",
       "      <td>0.065113</td>\n",
       "      <td>0.025965</td>\n",
       "      <td>0.000215</td>\n",
       "      <td>0.278147</td>\n",
       "      <td>0.145830</td>\n",
       "      <td>0.843678</td>\n",
       "      <td>91.842291</td>\n",
       "    </tr>\n",
       "    <tr>\n",
       "      <th>4</th>\n",
       "      <td>Elmore County, Alabama</td>\n",
       "      <td>31396</td>\n",
       "      <td>97.4</td>\n",
       "      <td>12.9</td>\n",
       "      <td>39.0</td>\n",
       "      <td>0.248640</td>\n",
       "      <td>0.026902</td>\n",
       "      <td>0.031561</td>\n",
       "      <td>0.758955</td>\n",
       "      <td>0.105309</td>\n",
       "      <td>0.002856</td>\n",
       "      <td>0.002178</td>\n",
       "      <td>0.131059</td>\n",
       "      <td>0.252669</td>\n",
       "      <td>0.735169</td>\n",
       "      <td>123.566288</td>\n",
       "    </tr>\n",
       "  </tbody>\n",
       "</table>\n",
       "</div>"
      ],
      "text/plain": [
       "                    County  ...  Population Density\n",
       "0  Baldwin County, Alabama  ...          110.134045\n",
       "1  Calhoun County, Alabama  ...          185.532075\n",
       "2  Cullman County, Alabama  ...          110.977452\n",
       "3   Dekalb County, Alabama  ...           91.842291\n",
       "4   Elmore County, Alabama  ...          123.566288\n",
       "\n",
       "[5 rows x 16 columns]"
      ]
     },
     "execution_count": 23,
     "metadata": {},
     "output_type": "execute_result"
    }
   ],
   "source": [
    "df['Bachelors Degree Proportion'] = df['Persons 25+ w/ Bachelors Degree']/df['Persons 25+']\n",
    "df.drop(columns=['Persons 25+ w/ Bachelors Degree', 'Persons 25+'], inplace=True)\n",
    "\n",
    "df['Unemployment Rate'] = df['Persons 16+ Unemployed']/df['Persons 16+ in Labor Force']\n",
    "df.drop(columns=['Persons 16+ Unemployed', 'Persons 16+ in Labor Force'], inplace=True)\n",
    "\n",
    "df['Hispanic Population Proportion'] = df['Hispanic Persons']/df['Total Persons']\n",
    "df.drop(columns=['Hispanic Persons'], inplace=True)\n",
    "\n",
    "df['White Population Proportion'] = df['White Persons']/df['Total Persons']\n",
    "df.drop(columns=['White Persons'], inplace=True)\n",
    "\n",
    "df['Veteran Population Proportion'] = df['Veterans 18+']/df['Civilians 18+']\n",
    "df.drop(columns=['Veterans 18+', 'Civilians 18+'], inplace=True)\n",
    "\n",
    "df['Agriculture Employment Proportion'] = df['Agriculture Employees 16+']/df['Employees 16+']\n",
    "df.drop(columns=['Agriculture Employees 16+'], inplace=True)\n",
    "\n",
    "df['Mining Employment Proportion'] = df['Mining Employees 16+']/df['Employees 16+']\n",
    "df.drop(columns=['Mining Employees 16+'], inplace=True)\n",
    "\n",
    "df['Manufacturing Employment Proportion'] = df['Manufacturing Employees 16+']/df['Employees 16+']\n",
    "df.drop(columns=['Manufacturing Employees 16+', 'Employees 16+'], inplace=True)\n",
    "\n",
    "df['Biden Vote Proportion'] = df['Joseph R Biden Jr Votes']/df['Total Votes']\n",
    "df.drop(columns=['Joseph R Biden Jr Votes'], inplace=True)\n",
    "\n",
    "df['Trump Vote Proportion'] = df['Donald J Trump Votes']/df['Total Votes']\n",
    "df.drop(columns=['Donald J Trump Votes', 'Total Votes'], inplace=True)\n",
    "\n",
    "df['Population Density'] = df['Total Persons']/df['Area']\n",
    "df.drop(columns=['Total Persons', 'Area'], inplace=True)\n",
    "\n",
    "df.head()"
   ]
  },
  {
   "cell_type": "markdown",
   "id": "0a622017",
   "metadata": {
    "id": "0a622017"
   },
   "source": [
    "Calculate election winner variable in each county"
   ]
  },
  {
   "cell_type": "code",
   "execution_count": null,
   "id": "05db2996",
   "metadata": {
    "colab": {
     "base_uri": "https://localhost:8080/",
     "height": 434
    },
    "id": "05db2996",
    "outputId": "e28390c2-a716-49bf-b5b8-62506ecc2eb5"
   },
   "outputs": [
    {
     "data": {
      "text/html": [
       "<div>\n",
       "<style scoped>\n",
       "    .dataframe tbody tr th:only-of-type {\n",
       "        vertical-align: middle;\n",
       "    }\n",
       "\n",
       "    .dataframe tbody tr th {\n",
       "        vertical-align: top;\n",
       "    }\n",
       "\n",
       "    .dataframe thead th {\n",
       "        text-align: right;\n",
       "    }\n",
       "</style>\n",
       "<table border=\"1\" class=\"dataframe\">\n",
       "  <thead>\n",
       "    <tr style=\"text-align: right;\">\n",
       "      <th></th>\n",
       "      <th>County</th>\n",
       "      <th>Per Capita Income</th>\n",
       "      <th>Sex Ratio (M/F)</th>\n",
       "      <th>Disability Proportion</th>\n",
       "      <th>Median Age</th>\n",
       "      <th>Bachelors Degree Proportion</th>\n",
       "      <th>Unemployment Rate</th>\n",
       "      <th>Hispanic Population Proportion</th>\n",
       "      <th>White Population Proportion</th>\n",
       "      <th>Veteran Population Proportion</th>\n",
       "      <th>Agriculture Employment Proportion</th>\n",
       "      <th>Mining Employment Proportion</th>\n",
       "      <th>Manufacturing Employment Proportion</th>\n",
       "      <th>Population Density</th>\n",
       "      <th>Winning Candidate</th>\n",
       "    </tr>\n",
       "  </thead>\n",
       "  <tbody>\n",
       "    <tr>\n",
       "      <th>0</th>\n",
       "      <td>Baldwin County, Alabama</td>\n",
       "      <td>32443</td>\n",
       "      <td>95.7</td>\n",
       "      <td>14.4</td>\n",
       "      <td>43.0</td>\n",
       "      <td>0.322264</td>\n",
       "      <td>0.054637</td>\n",
       "      <td>0.047188</td>\n",
       "      <td>0.855210</td>\n",
       "      <td>0.111041</td>\n",
       "      <td>0.011353</td>\n",
       "      <td>0.002135</td>\n",
       "      <td>0.091561</td>\n",
       "      <td>110.134045</td>\n",
       "      <td>0</td>\n",
       "    </tr>\n",
       "    <tr>\n",
       "      <th>1</th>\n",
       "      <td>Calhoun County, Alabama</td>\n",
       "      <td>24579</td>\n",
       "      <td>91.5</td>\n",
       "      <td>20.0</td>\n",
       "      <td>39.6</td>\n",
       "      <td>0.192921</td>\n",
       "      <td>0.073606</td>\n",
       "      <td>0.040614</td>\n",
       "      <td>0.724642</td>\n",
       "      <td>0.097709</td>\n",
       "      <td>0.006529</td>\n",
       "      <td>0.015644</td>\n",
       "      <td>0.154335</td>\n",
       "      <td>185.532075</td>\n",
       "      <td>0</td>\n",
       "    </tr>\n",
       "    <tr>\n",
       "      <th>2</th>\n",
       "      <td>Cullman County, Alabama</td>\n",
       "      <td>23968</td>\n",
       "      <td>94.0</td>\n",
       "      <td>17.5</td>\n",
       "      <td>41.9</td>\n",
       "      <td>0.157173</td>\n",
       "      <td>0.046649</td>\n",
       "      <td>0.044790</td>\n",
       "      <td>NaN</td>\n",
       "      <td>0.075545</td>\n",
       "      <td>0.010950</td>\n",
       "      <td>NaN</td>\n",
       "      <td>0.144955</td>\n",
       "      <td>110.977452</td>\n",
       "      <td>0</td>\n",
       "    </tr>\n",
       "    <tr>\n",
       "      <th>3</th>\n",
       "      <td>Dekalb County, Alabama</td>\n",
       "      <td>21939</td>\n",
       "      <td>99.6</td>\n",
       "      <td>10.8</td>\n",
       "      <td>37.7</td>\n",
       "      <td>0.127619</td>\n",
       "      <td>0.046562</td>\n",
       "      <td>0.150672</td>\n",
       "      <td>0.829290</td>\n",
       "      <td>0.065113</td>\n",
       "      <td>0.025965</td>\n",
       "      <td>0.000215</td>\n",
       "      <td>0.278147</td>\n",
       "      <td>91.842291</td>\n",
       "      <td>0</td>\n",
       "    </tr>\n",
       "    <tr>\n",
       "      <th>4</th>\n",
       "      <td>Elmore County, Alabama</td>\n",
       "      <td>31396</td>\n",
       "      <td>97.4</td>\n",
       "      <td>12.9</td>\n",
       "      <td>39.0</td>\n",
       "      <td>0.248640</td>\n",
       "      <td>0.026902</td>\n",
       "      <td>0.031561</td>\n",
       "      <td>0.758955</td>\n",
       "      <td>0.105309</td>\n",
       "      <td>0.002856</td>\n",
       "      <td>0.002178</td>\n",
       "      <td>0.131059</td>\n",
       "      <td>123.566288</td>\n",
       "      <td>0</td>\n",
       "    </tr>\n",
       "  </tbody>\n",
       "</table>\n",
       "</div>"
      ],
      "text/plain": [
       "                    County  ...  Winning Candidate\n",
       "0  Baldwin County, Alabama  ...                  0\n",
       "1  Calhoun County, Alabama  ...                  0\n",
       "2  Cullman County, Alabama  ...                  0\n",
       "3   Dekalb County, Alabama  ...                  0\n",
       "4   Elmore County, Alabama  ...                  0\n",
       "\n",
       "[5 rows x 15 columns]"
      ]
     },
     "execution_count": 24,
     "metadata": {},
     "output_type": "execute_result"
    }
   ],
   "source": [
    "def winner(row):\n",
    "    if row['Trump Vote Proportion'] > row['Biden Vote Proportion']:\n",
    "        return 0\n",
    "    elif row['Biden Vote Proportion'] > row['Trump Vote Proportion']:\n",
    "        return 1\n",
    "        \n",
    "df['Winning Candidate'] = df.apply(winner, axis=1)\n",
    "df.drop(columns=['Trump Vote Proportion','Biden Vote Proportion'], inplace=True)\n",
    "df.head()"
   ]
  },
  {
   "cell_type": "markdown",
   "id": "9ad052fc",
   "metadata": {
    "id": "9ad052fc"
   },
   "source": [
    "Drop columns not useful for modeling"
   ]
  },
  {
   "cell_type": "code",
   "execution_count": null,
   "id": "66324244",
   "metadata": {
    "id": "66324244"
   },
   "outputs": [],
   "source": [
    "df.drop(columns=['County'], inplace=True)"
   ]
  },
  {
   "cell_type": "markdown",
   "id": "7c314bf1",
   "metadata": {
    "id": "7c314bf1"
   },
   "source": [
    "Impute missing values"
   ]
  },
  {
   "cell_type": "code",
   "execution_count": null,
   "id": "c5f29b9d",
   "metadata": {
    "colab": {
     "base_uri": "https://localhost:8080/",
     "height": 292
    },
    "id": "c5f29b9d",
    "outputId": "e482209f-8c70-4182-ac9c-69d4123ae454"
   },
   "outputs": [
    {
     "data": {
      "text/html": [
       "<div>\n",
       "<style scoped>\n",
       "    .dataframe tbody tr th:only-of-type {\n",
       "        vertical-align: middle;\n",
       "    }\n",
       "\n",
       "    .dataframe tbody tr th {\n",
       "        vertical-align: top;\n",
       "    }\n",
       "\n",
       "    .dataframe thead th {\n",
       "        text-align: right;\n",
       "    }\n",
       "</style>\n",
       "<table border=\"1\" class=\"dataframe\">\n",
       "  <thead>\n",
       "    <tr style=\"text-align: right;\">\n",
       "      <th></th>\n",
       "      <th>Per Capita Income</th>\n",
       "      <th>Sex Ratio (M/F)</th>\n",
       "      <th>Disability Proportion</th>\n",
       "      <th>Median Age</th>\n",
       "      <th>Bachelors Degree Proportion</th>\n",
       "      <th>Unemployment Rate</th>\n",
       "      <th>Hispanic Population Proportion</th>\n",
       "      <th>White Population Proportion</th>\n",
       "      <th>Veteran Population Proportion</th>\n",
       "      <th>Agriculture Employment Proportion</th>\n",
       "      <th>Mining Employment Proportion</th>\n",
       "      <th>Manufacturing Employment Proportion</th>\n",
       "      <th>Population Density</th>\n",
       "      <th>Winning Candidate</th>\n",
       "    </tr>\n",
       "    <tr>\n",
       "      <th>Index</th>\n",
       "      <th></th>\n",
       "      <th></th>\n",
       "      <th></th>\n",
       "      <th></th>\n",
       "      <th></th>\n",
       "      <th></th>\n",
       "      <th></th>\n",
       "      <th></th>\n",
       "      <th></th>\n",
       "      <th></th>\n",
       "      <th></th>\n",
       "      <th></th>\n",
       "      <th></th>\n",
       "      <th></th>\n",
       "    </tr>\n",
       "  </thead>\n",
       "  <tbody>\n",
       "    <tr>\n",
       "      <th>0</th>\n",
       "      <td>32443.0</td>\n",
       "      <td>95.7</td>\n",
       "      <td>14.4</td>\n",
       "      <td>43.0</td>\n",
       "      <td>0.322264</td>\n",
       "      <td>0.054637</td>\n",
       "      <td>0.047188</td>\n",
       "      <td>0.855210</td>\n",
       "      <td>0.111041</td>\n",
       "      <td>0.011353</td>\n",
       "      <td>0.002135</td>\n",
       "      <td>0.091561</td>\n",
       "      <td>110.134045</td>\n",
       "      <td>0</td>\n",
       "    </tr>\n",
       "    <tr>\n",
       "      <th>1</th>\n",
       "      <td>24579.0</td>\n",
       "      <td>91.5</td>\n",
       "      <td>20.0</td>\n",
       "      <td>39.6</td>\n",
       "      <td>0.192921</td>\n",
       "      <td>0.073606</td>\n",
       "      <td>0.040614</td>\n",
       "      <td>0.724642</td>\n",
       "      <td>0.097709</td>\n",
       "      <td>0.006529</td>\n",
       "      <td>0.015644</td>\n",
       "      <td>0.154335</td>\n",
       "      <td>185.532075</td>\n",
       "      <td>0</td>\n",
       "    </tr>\n",
       "    <tr>\n",
       "      <th>2</th>\n",
       "      <td>23968.0</td>\n",
       "      <td>94.0</td>\n",
       "      <td>17.5</td>\n",
       "      <td>41.9</td>\n",
       "      <td>0.157173</td>\n",
       "      <td>0.046649</td>\n",
       "      <td>0.044790</td>\n",
       "      <td>0.860815</td>\n",
       "      <td>0.075545</td>\n",
       "      <td>0.010950</td>\n",
       "      <td>0.009974</td>\n",
       "      <td>0.144955</td>\n",
       "      <td>110.977452</td>\n",
       "      <td>0</td>\n",
       "    </tr>\n",
       "    <tr>\n",
       "      <th>3</th>\n",
       "      <td>21939.0</td>\n",
       "      <td>99.6</td>\n",
       "      <td>10.8</td>\n",
       "      <td>37.7</td>\n",
       "      <td>0.127619</td>\n",
       "      <td>0.046562</td>\n",
       "      <td>0.150672</td>\n",
       "      <td>0.829290</td>\n",
       "      <td>0.065113</td>\n",
       "      <td>0.025965</td>\n",
       "      <td>0.000215</td>\n",
       "      <td>0.278147</td>\n",
       "      <td>91.842291</td>\n",
       "      <td>0</td>\n",
       "    </tr>\n",
       "    <tr>\n",
       "      <th>4</th>\n",
       "      <td>31396.0</td>\n",
       "      <td>97.4</td>\n",
       "      <td>12.9</td>\n",
       "      <td>39.0</td>\n",
       "      <td>0.248640</td>\n",
       "      <td>0.026902</td>\n",
       "      <td>0.031561</td>\n",
       "      <td>0.758955</td>\n",
       "      <td>0.105309</td>\n",
       "      <td>0.002856</td>\n",
       "      <td>0.002178</td>\n",
       "      <td>0.131059</td>\n",
       "      <td>123.566288</td>\n",
       "      <td>0</td>\n",
       "    </tr>\n",
       "  </tbody>\n",
       "</table>\n",
       "</div>"
      ],
      "text/plain": [
       "       Per Capita Income  ...  Winning Candidate\n",
       "Index                     ...                   \n",
       "0                32443.0  ...                  0\n",
       "1                24579.0  ...                  0\n",
       "2                23968.0  ...                  0\n",
       "3                21939.0  ...                  0\n",
       "4                31396.0  ...                  0\n",
       "\n",
       "[5 rows x 14 columns]"
      ]
     },
     "execution_count": 26,
     "metadata": {},
     "output_type": "execute_result"
    }
   ],
   "source": [
    "impute_x = df.drop(columns=['Winning Candidate'])\n",
    "impute_y = df['Winning Candidate']\n",
    "impute_x_train, impute_x_test, impute_y_train, impute_y_test = train_test_split(impute_x, impute_y, random_state=31, test_size=.2)\n",
    "imputed_train_index = impute_x_train.index\n",
    "imputed_test_index = impute_x_test.index\n",
    "\n",
    "train_imputer_ss = StandardScaler()\n",
    "ss_impute_x_train = pd.DataFrame(train_imputer_ss.fit_transform(impute_x_train), columns=impute_x_train.columns)\n",
    "train_imputer = KNNImputer()\n",
    "imputed_x_train = pd.DataFrame(train_imputer.fit_transform(ss_impute_x_train), columns=ss_impute_x_train.columns)\n",
    "imputed_x_train = pd.DataFrame(train_imputer_ss.inverse_transform(imputed_x_train), columns = imputed_x_train.columns)\n",
    "imputed_x_train['Index'] = imputed_train_index\n",
    "\n",
    "ss_impute_x_test = pd.DataFrame(train_imputer_ss.transform(impute_x_test), columns=impute_x_test.columns)\n",
    "imputed_x_test = pd.DataFrame(train_imputer.transform(ss_impute_x_test), columns=ss_impute_x_test.columns)\n",
    "imputed_x_test = pd.DataFrame(train_imputer_ss.inverse_transform(imputed_x_test), columns = imputed_x_test.columns)\n",
    "imputed_x_test['Index'] = imputed_test_index\n",
    "\n",
    "df = pd.concat([imputed_x_train, imputed_x_test])\n",
    "df.sort_values(by='Index', inplace=True)\n",
    "df.set_index('Index', drop=True, inplace=True)\n",
    "df['Winning Candidate'] = impute_y\n",
    "df.head()"
   ]
  },
  {
   "cell_type": "markdown",
   "id": "38385cdd",
   "metadata": {
    "id": "38385cdd"
   },
   "source": [
    "Confirm data is scrubbed with df.info()"
   ]
  },
  {
   "cell_type": "code",
   "execution_count": null,
   "id": "229cdae9",
   "metadata": {
    "colab": {
     "base_uri": "https://localhost:8080/"
    },
    "id": "229cdae9",
    "outputId": "b23f7994-80d4-45e5-e484-67f392ceca91"
   },
   "outputs": [
    {
     "name": "stdout",
     "output_type": "stream",
     "text": [
      "<class 'pandas.core.frame.DataFrame'>\n",
      "Int64Index: 826 entries, 0 to 825\n",
      "Data columns (total 14 columns):\n",
      " #   Column                               Non-Null Count  Dtype  \n",
      "---  ------                               --------------  -----  \n",
      " 0   Per Capita Income                    826 non-null    float64\n",
      " 1   Sex Ratio (M/F)                      826 non-null    float64\n",
      " 2   Disability Proportion                826 non-null    float64\n",
      " 3   Median Age                           826 non-null    float64\n",
      " 4   Bachelors Degree Proportion          826 non-null    float64\n",
      " 5   Unemployment Rate                    826 non-null    float64\n",
      " 6   Hispanic Population Proportion       826 non-null    float64\n",
      " 7   White Population Proportion          826 non-null    float64\n",
      " 8   Veteran Population Proportion        826 non-null    float64\n",
      " 9   Agriculture Employment Proportion    826 non-null    float64\n",
      " 10  Mining Employment Proportion         826 non-null    float64\n",
      " 11  Manufacturing Employment Proportion  826 non-null    float64\n",
      " 12  Population Density                   826 non-null    float64\n",
      " 13  Winning Candidate                    826 non-null    int64  \n",
      "dtypes: float64(13), int64(1)\n",
      "memory usage: 96.8 KB\n"
     ]
    }
   ],
   "source": [
    "df.info()"
   ]
  },
  {
   "cell_type": "markdown",
   "id": "aaaf6975",
   "metadata": {
    "id": "aaaf6975"
   },
   "source": [
    "# Explore Data"
   ]
  },
  {
   "cell_type": "markdown",
   "id": "438ef394",
   "metadata": {
    "id": "438ef394"
   },
   "source": [
    "Find the 10 greatest outlier datapoints with isolation forest"
   ]
  },
  {
   "cell_type": "code",
   "execution_count": null,
   "id": "75ae415a",
   "metadata": {
    "colab": {
     "base_uri": "https://localhost:8080/",
     "height": 452
    },
    "id": "75ae415a",
    "outputId": "94529e57-dbaf-4fba-cd22-0f31e4046a99"
   },
   "outputs": [
    {
     "name": "stderr",
     "output_type": "stream",
     "text": [
      "/usr/local/lib/python3.7/dist-packages/sklearn/base.py:446: UserWarning: X does not have valid feature names, but IsolationForest was fitted with feature names\n",
      "  \"X does not have valid feature names, but\"\n"
     ]
    },
    {
     "data": {
      "text/html": [
       "<div>\n",
       "<style scoped>\n",
       "    .dataframe tbody tr th:only-of-type {\n",
       "        vertical-align: middle;\n",
       "    }\n",
       "\n",
       "    .dataframe tbody tr th {\n",
       "        vertical-align: top;\n",
       "    }\n",
       "\n",
       "    .dataframe thead th {\n",
       "        text-align: right;\n",
       "    }\n",
       "</style>\n",
       "<table border=\"1\" class=\"dataframe\">\n",
       "  <thead>\n",
       "    <tr style=\"text-align: right;\">\n",
       "      <th></th>\n",
       "      <th>Per Capita Income</th>\n",
       "      <th>Sex Ratio (M/F)</th>\n",
       "      <th>Disability Proportion</th>\n",
       "      <th>Median Age</th>\n",
       "      <th>Bachelors Degree Proportion</th>\n",
       "      <th>Unemployment Rate</th>\n",
       "      <th>Hispanic Population Proportion</th>\n",
       "      <th>White Population Proportion</th>\n",
       "      <th>Veteran Population Proportion</th>\n",
       "      <th>Agriculture Employment Proportion</th>\n",
       "      <th>Mining Employment Proportion</th>\n",
       "      <th>Manufacturing Employment Proportion</th>\n",
       "      <th>Population Density</th>\n",
       "    </tr>\n",
       "  </thead>\n",
       "  <tbody>\n",
       "    <tr>\n",
       "      <th>121</th>\n",
       "      <td>4.9</td>\n",
       "      <td>0.2</td>\n",
       "      <td>-2.1</td>\n",
       "      <td>-0.9</td>\n",
       "      <td>4.0</td>\n",
       "      <td>-1.4</td>\n",
       "      <td>0.2</td>\n",
       "      <td>-0.4</td>\n",
       "      <td>-0.5</td>\n",
       "      <td>-0.6</td>\n",
       "      <td>-0.4</td>\n",
       "      <td>-1.6</td>\n",
       "      <td>5.5</td>\n",
       "    </tr>\n",
       "    <tr>\n",
       "      <th>135</th>\n",
       "      <td>-1.8</td>\n",
       "      <td>1.6</td>\n",
       "      <td>0.2</td>\n",
       "      <td>-1.4</td>\n",
       "      <td>-1.1</td>\n",
       "      <td>3.9</td>\n",
       "      <td>5.3</td>\n",
       "      <td>-0.6</td>\n",
       "      <td>-1.2</td>\n",
       "      <td>4.3</td>\n",
       "      <td>0.1</td>\n",
       "      <td>-1.5</td>\n",
       "      <td>-0.4</td>\n",
       "    </tr>\n",
       "    <tr>\n",
       "      <th>169</th>\n",
       "      <td>-1.3</td>\n",
       "      <td>0.5</td>\n",
       "      <td>-0.8</td>\n",
       "      <td>-1.6</td>\n",
       "      <td>-1.5</td>\n",
       "      <td>2.5</td>\n",
       "      <td>3.9</td>\n",
       "      <td>-0.7</td>\n",
       "      <td>-0.9</td>\n",
       "      <td>7.9</td>\n",
       "      <td>-0.4</td>\n",
       "      <td>-0.5</td>\n",
       "      <td>-0.3</td>\n",
       "    </tr>\n",
       "    <tr>\n",
       "      <th>274</th>\n",
       "      <td>-0.6</td>\n",
       "      <td>1.3</td>\n",
       "      <td>-1.2</td>\n",
       "      <td>-1.7</td>\n",
       "      <td>-1.4</td>\n",
       "      <td>-1.2</td>\n",
       "      <td>3.6</td>\n",
       "      <td>0.0</td>\n",
       "      <td>-1.1</td>\n",
       "      <td>-0.6</td>\n",
       "      <td>10.7</td>\n",
       "      <td>-0.8</td>\n",
       "      <td>-0.3</td>\n",
       "    </tr>\n",
       "    <tr>\n",
       "      <th>282</th>\n",
       "      <td>-1.1</td>\n",
       "      <td>1.0</td>\n",
       "      <td>-0.1</td>\n",
       "      <td>-1.6</td>\n",
       "      <td>-1.5</td>\n",
       "      <td>3.0</td>\n",
       "      <td>3.5</td>\n",
       "      <td>-1.9</td>\n",
       "      <td>-1.2</td>\n",
       "      <td>6.8</td>\n",
       "      <td>-0.4</td>\n",
       "      <td>-0.0</td>\n",
       "      <td>-0.3</td>\n",
       "    </tr>\n",
       "    <tr>\n",
       "      <th>345</th>\n",
       "      <td>-1.3</td>\n",
       "      <td>-1.5</td>\n",
       "      <td>0.5</td>\n",
       "      <td>-0.9</td>\n",
       "      <td>-0.9</td>\n",
       "      <td>2.6</td>\n",
       "      <td>3.2</td>\n",
       "      <td>-3.8</td>\n",
       "      <td>-1.9</td>\n",
       "      <td>-0.6</td>\n",
       "      <td>-0.4</td>\n",
       "      <td>-1.4</td>\n",
       "      <td>15.7</td>\n",
       "    </tr>\n",
       "    <tr>\n",
       "      <th>536</th>\n",
       "      <td>-1.4</td>\n",
       "      <td>1.8</td>\n",
       "      <td>-0.2</td>\n",
       "      <td>-0.9</td>\n",
       "      <td>-1.5</td>\n",
       "      <td>5.6</td>\n",
       "      <td>3.8</td>\n",
       "      <td>0.7</td>\n",
       "      <td>0.2</td>\n",
       "      <td>5.4</td>\n",
       "      <td>-0.4</td>\n",
       "      <td>-0.8</td>\n",
       "      <td>-0.4</td>\n",
       "    </tr>\n",
       "    <tr>\n",
       "      <th>549</th>\n",
       "      <td>-1.6</td>\n",
       "      <td>-0.3</td>\n",
       "      <td>-0.0</td>\n",
       "      <td>-2.1</td>\n",
       "      <td>-0.9</td>\n",
       "      <td>-0.0</td>\n",
       "      <td>6.0</td>\n",
       "      <td>1.3</td>\n",
       "      <td>-1.9</td>\n",
       "      <td>-0.5</td>\n",
       "      <td>2.0</td>\n",
       "      <td>-1.3</td>\n",
       "      <td>-0.3</td>\n",
       "    </tr>\n",
       "    <tr>\n",
       "      <th>579</th>\n",
       "      <td>-1.5</td>\n",
       "      <td>2.7</td>\n",
       "      <td>2.8</td>\n",
       "      <td>-0.1</td>\n",
       "      <td>-1.5</td>\n",
       "      <td>2.5</td>\n",
       "      <td>1.9</td>\n",
       "      <td>0.0</td>\n",
       "      <td>2.0</td>\n",
       "      <td>0.6</td>\n",
       "      <td>0.1</td>\n",
       "      <td>-1.7</td>\n",
       "      <td>-0.4</td>\n",
       "    </tr>\n",
       "    <tr>\n",
       "      <th>624</th>\n",
       "      <td>3.2</td>\n",
       "      <td>-1.4</td>\n",
       "      <td>-0.7</td>\n",
       "      <td>-1.0</td>\n",
       "      <td>2.6</td>\n",
       "      <td>1.0</td>\n",
       "      <td>-0.1</td>\n",
       "      <td>-2.4</td>\n",
       "      <td>-1.3</td>\n",
       "      <td>-0.6</td>\n",
       "      <td>-0.4</td>\n",
       "      <td>-1.7</td>\n",
       "      <td>6.3</td>\n",
       "    </tr>\n",
       "  </tbody>\n",
       "</table>\n",
       "</div>"
      ],
      "text/plain": [
       "     Per Capita Income  ...  Population Density\n",
       "121                4.9  ...                 5.5\n",
       "135               -1.8  ...                -0.4\n",
       "169               -1.3  ...                -0.3\n",
       "274               -0.6  ...                -0.3\n",
       "282               -1.1  ...                -0.3\n",
       "345               -1.3  ...                15.7\n",
       "536               -1.4  ...                -0.4\n",
       "549               -1.6  ...                -0.3\n",
       "579               -1.5  ...                -0.4\n",
       "624                3.2  ...                 6.3\n",
       "\n",
       "[10 rows x 13 columns]"
      ]
     },
     "execution_count": 28,
     "metadata": {},
     "output_type": "execute_result"
    }
   ],
   "source": [
    "isf_x = df.drop(columns=['Winning Candidate'])\n",
    "isf_y = df['Winning Candidate']\n",
    "isf_x_train, isf_x_test, isf_y_train, isf_y_test = train_test_split(isf_x, isf_y, random_state=31, test_size=.2)\n",
    "\n",
    "\n",
    "isf_ss = StandardScaler()\n",
    "ss_isf_x_train = pd.DataFrame(isf_ss.fit_transform(isf_x_train), columns=isf_x_train.columns)\n",
    "isolation_forest = IsolationForest(contamination=.014)\n",
    "ss_isf_x_train['Outlier'] = isolation_forest.fit_predict(ss_isf_x_train)\n",
    "ss_isf_x_train[ss_isf_x_train['Outlier']==-1].round(decimals=1).drop(columns='Outlier')"
   ]
  },
  {
   "cell_type": "markdown",
   "id": "bbabbbd1",
   "metadata": {
    "id": "bbabbbd1"
   },
   "source": [
    "Replace all outlier datapoints greater than 5 standard deviations from mean with 5 standard deviations value"
   ]
  },
  {
   "cell_type": "code",
   "execution_count": null,
   "id": "506821d7",
   "metadata": {
    "colab": {
     "base_uri": "https://localhost:8080/",
     "height": 292
    },
    "id": "506821d7",
    "outputId": "24a4c9f9-0105-47ed-e57f-52ce117b622d"
   },
   "outputs": [
    {
     "data": {
      "text/html": [
       "<div>\n",
       "<style scoped>\n",
       "    .dataframe tbody tr th:only-of-type {\n",
       "        vertical-align: middle;\n",
       "    }\n",
       "\n",
       "    .dataframe tbody tr th {\n",
       "        vertical-align: top;\n",
       "    }\n",
       "\n",
       "    .dataframe thead th {\n",
       "        text-align: right;\n",
       "    }\n",
       "</style>\n",
       "<table border=\"1\" class=\"dataframe\">\n",
       "  <thead>\n",
       "    <tr style=\"text-align: right;\">\n",
       "      <th></th>\n",
       "      <th>Per Capita Income</th>\n",
       "      <th>Sex Ratio (M/F)</th>\n",
       "      <th>Disability Proportion</th>\n",
       "      <th>Median Age</th>\n",
       "      <th>Bachelors Degree Proportion</th>\n",
       "      <th>Unemployment Rate</th>\n",
       "      <th>Hispanic Population Proportion</th>\n",
       "      <th>White Population Proportion</th>\n",
       "      <th>Veteran Population Proportion</th>\n",
       "      <th>Agriculture Employment Proportion</th>\n",
       "      <th>Mining Employment Proportion</th>\n",
       "      <th>Manufacturing Employment Proportion</th>\n",
       "      <th>Population Density</th>\n",
       "      <th>Winning Candidate</th>\n",
       "    </tr>\n",
       "    <tr>\n",
       "      <th>Index</th>\n",
       "      <th></th>\n",
       "      <th></th>\n",
       "      <th></th>\n",
       "      <th></th>\n",
       "      <th></th>\n",
       "      <th></th>\n",
       "      <th></th>\n",
       "      <th></th>\n",
       "      <th></th>\n",
       "      <th></th>\n",
       "      <th></th>\n",
       "      <th></th>\n",
       "      <th></th>\n",
       "      <th></th>\n",
       "    </tr>\n",
       "  </thead>\n",
       "  <tbody>\n",
       "    <tr>\n",
       "      <th>0</th>\n",
       "      <td>32443.0</td>\n",
       "      <td>95.7</td>\n",
       "      <td>14.4</td>\n",
       "      <td>43.0</td>\n",
       "      <td>0.322264</td>\n",
       "      <td>0.054637</td>\n",
       "      <td>0.047188</td>\n",
       "      <td>0.855210</td>\n",
       "      <td>0.111041</td>\n",
       "      <td>0.011353</td>\n",
       "      <td>0.002135</td>\n",
       "      <td>0.091561</td>\n",
       "      <td>110.134045</td>\n",
       "      <td>0</td>\n",
       "    </tr>\n",
       "    <tr>\n",
       "      <th>1</th>\n",
       "      <td>24579.0</td>\n",
       "      <td>91.5</td>\n",
       "      <td>20.0</td>\n",
       "      <td>39.6</td>\n",
       "      <td>0.192921</td>\n",
       "      <td>0.073606</td>\n",
       "      <td>0.040614</td>\n",
       "      <td>0.724642</td>\n",
       "      <td>0.097709</td>\n",
       "      <td>0.006529</td>\n",
       "      <td>0.015644</td>\n",
       "      <td>0.154335</td>\n",
       "      <td>185.532075</td>\n",
       "      <td>0</td>\n",
       "    </tr>\n",
       "    <tr>\n",
       "      <th>2</th>\n",
       "      <td>23968.0</td>\n",
       "      <td>94.0</td>\n",
       "      <td>17.5</td>\n",
       "      <td>41.9</td>\n",
       "      <td>0.157173</td>\n",
       "      <td>0.046649</td>\n",
       "      <td>0.044790</td>\n",
       "      <td>0.860815</td>\n",
       "      <td>0.075545</td>\n",
       "      <td>0.010950</td>\n",
       "      <td>0.009974</td>\n",
       "      <td>0.144955</td>\n",
       "      <td>110.977452</td>\n",
       "      <td>0</td>\n",
       "    </tr>\n",
       "    <tr>\n",
       "      <th>3</th>\n",
       "      <td>21939.0</td>\n",
       "      <td>99.6</td>\n",
       "      <td>10.8</td>\n",
       "      <td>37.7</td>\n",
       "      <td>0.127619</td>\n",
       "      <td>0.046562</td>\n",
       "      <td>0.150672</td>\n",
       "      <td>0.829290</td>\n",
       "      <td>0.065113</td>\n",
       "      <td>0.025965</td>\n",
       "      <td>0.000215</td>\n",
       "      <td>0.278147</td>\n",
       "      <td>91.842291</td>\n",
       "      <td>0</td>\n",
       "    </tr>\n",
       "    <tr>\n",
       "      <th>4</th>\n",
       "      <td>31396.0</td>\n",
       "      <td>97.4</td>\n",
       "      <td>12.9</td>\n",
       "      <td>39.0</td>\n",
       "      <td>0.248640</td>\n",
       "      <td>0.026902</td>\n",
       "      <td>0.031561</td>\n",
       "      <td>0.758955</td>\n",
       "      <td>0.105309</td>\n",
       "      <td>0.002856</td>\n",
       "      <td>0.002178</td>\n",
       "      <td>0.131059</td>\n",
       "      <td>123.566288</td>\n",
       "      <td>0</td>\n",
       "    </tr>\n",
       "  </tbody>\n",
       "</table>\n",
       "</div>"
      ],
      "text/plain": [
       "       Per Capita Income  ...  Winning Candidate\n",
       "Index                     ...                   \n",
       "0                32443.0  ...                  0\n",
       "1                24579.0  ...                  0\n",
       "2                23968.0  ...                  0\n",
       "3                21939.0  ...                  0\n",
       "4                31396.0  ...                  0\n",
       "\n",
       "[5 rows x 14 columns]"
      ]
     },
     "execution_count": 29,
     "metadata": {},
     "output_type": "execute_result"
    }
   ],
   "source": [
    "replacement_x = df.drop(columns=['Winning Candidate'])\n",
    "replacement_y = df['Winning Candidate']\n",
    "replacement_x_train, replacement_x_test, replacement_y_train, replacement_y_test = train_test_split(\n",
    "    replacement_x, replacement_y, random_state=31, test_size=.2)\n",
    "replacement_train_index = replacement_x_train.index\n",
    "replacement_test_index = replacement_x_test.index\n",
    "\n",
    "replacement_ss = StandardScaler()\n",
    "replacement_ss.fit(replacement_x_train)\n",
    "replacement_x_train = pd.DataFrame(replacement_ss.transform(replacement_x_train), columns=replacement_x_train.columns)\n",
    "replacement_x_test = pd.DataFrame(replacement_ss.transform(replacement_x_test), columns=replacement_x_test.columns)\n",
    "\n",
    "def replace_outliers(row):\n",
    "    output_row = []\n",
    "    for val in row.values:\n",
    "        if val > 5:\n",
    "            output_row.append(5)\n",
    "        elif val < -5:\n",
    "            output_row.append(-5)\n",
    "        else:\n",
    "            output_row.append(val)\n",
    "    return pd.Series(output_row, index=row.index)\n",
    "            \n",
    "replacement_x_train = replacement_x_train.apply(replace_outliers, axis=1)\n",
    "replacement_x_train = pd.DataFrame(replacement_ss.inverse_transform(replacement_x_train), \n",
    "                                   columns=replacement_x_train.columns, index=replacement_train_index)\n",
    "\n",
    "replacement_x_test = replacement_x_test.apply(replace_outliers, axis=1)\n",
    "replacement_x_test = pd.DataFrame(replacement_ss.inverse_transform(replacement_x_test), \n",
    "                                   columns=replacement_x_test.columns, index=replacement_test_index)\n",
    "\n",
    "df = pd.concat([replacement_x_train, replacement_x_test])\n",
    "df.sort_index(inplace=True)\n",
    "df['Winning Candidate'] = replacement_y\n",
    "df.head()\n"
   ]
  },
  {
   "cell_type": "markdown",
   "id": "9edcb688",
   "metadata": {
    "id": "9edcb688"
   },
   "source": [
    "Find the 10 greatest outlier datapoints with isolation forest after replacing outlier values"
   ]
  },
  {
   "cell_type": "code",
   "execution_count": null,
   "id": "dd292d62",
   "metadata": {
    "colab": {
     "base_uri": "https://localhost:8080/",
     "height": 452
    },
    "id": "dd292d62",
    "outputId": "ee13d87e-05b2-487c-d449-3fc91979d9ff"
   },
   "outputs": [
    {
     "name": "stderr",
     "output_type": "stream",
     "text": [
      "/usr/local/lib/python3.7/dist-packages/sklearn/base.py:446: UserWarning: X does not have valid feature names, but IsolationForest was fitted with feature names\n",
      "  \"X does not have valid feature names, but\"\n"
     ]
    },
    {
     "data": {
      "text/html": [
       "<div>\n",
       "<style scoped>\n",
       "    .dataframe tbody tr th:only-of-type {\n",
       "        vertical-align: middle;\n",
       "    }\n",
       "\n",
       "    .dataframe tbody tr th {\n",
       "        vertical-align: top;\n",
       "    }\n",
       "\n",
       "    .dataframe thead th {\n",
       "        text-align: right;\n",
       "    }\n",
       "</style>\n",
       "<table border=\"1\" class=\"dataframe\">\n",
       "  <thead>\n",
       "    <tr style=\"text-align: right;\">\n",
       "      <th></th>\n",
       "      <th>Per Capita Income</th>\n",
       "      <th>Sex Ratio (M/F)</th>\n",
       "      <th>Disability Proportion</th>\n",
       "      <th>Median Age</th>\n",
       "      <th>Bachelors Degree Proportion</th>\n",
       "      <th>Unemployment Rate</th>\n",
       "      <th>Hispanic Population Proportion</th>\n",
       "      <th>White Population Proportion</th>\n",
       "      <th>Veteran Population Proportion</th>\n",
       "      <th>Agriculture Employment Proportion</th>\n",
       "      <th>Mining Employment Proportion</th>\n",
       "      <th>Manufacturing Employment Proportion</th>\n",
       "      <th>Population Density</th>\n",
       "      <th>Outlier</th>\n",
       "    </tr>\n",
       "  </thead>\n",
       "  <tbody>\n",
       "    <tr>\n",
       "      <th>13</th>\n",
       "      <td>4.206572</td>\n",
       "      <td>-0.793733</td>\n",
       "      <td>-2.050982</td>\n",
       "      <td>-0.444087</td>\n",
       "      <td>3.167813</td>\n",
       "      <td>-0.989985</td>\n",
       "      <td>0.326628</td>\n",
       "      <td>-0.992698</td>\n",
       "      <td>0.208067</td>\n",
       "      <td>-0.645124</td>\n",
       "      <td>-0.511912</td>\n",
       "      <td>-1.535592</td>\n",
       "      <td>7.156002</td>\n",
       "      <td>-1</td>\n",
       "    </tr>\n",
       "    <tr>\n",
       "      <th>121</th>\n",
       "      <td>4.940630</td>\n",
       "      <td>0.237715</td>\n",
       "      <td>-2.137580</td>\n",
       "      <td>-0.885257</td>\n",
       "      <td>3.977076</td>\n",
       "      <td>-1.359119</td>\n",
       "      <td>0.252076</td>\n",
       "      <td>-0.390812</td>\n",
       "      <td>-0.528282</td>\n",
       "      <td>-0.642562</td>\n",
       "      <td>-0.470645</td>\n",
       "      <td>-1.573229</td>\n",
       "      <td>7.156002</td>\n",
       "      <td>-1</td>\n",
       "    </tr>\n",
       "    <tr>\n",
       "      <th>135</th>\n",
       "      <td>-1.768811</td>\n",
       "      <td>1.732260</td>\n",
       "      <td>0.200576</td>\n",
       "      <td>-1.452476</td>\n",
       "      <td>-1.103772</td>\n",
       "      <td>3.894889</td>\n",
       "      <td>5.122885</td>\n",
       "      <td>-0.579571</td>\n",
       "      <td>-1.237780</td>\n",
       "      <td>4.979523</td>\n",
       "      <td>0.138785</td>\n",
       "      <td>-1.546031</td>\n",
       "      <td>-0.488665</td>\n",
       "      <td>-1</td>\n",
       "    </tr>\n",
       "    <tr>\n",
       "      <th>274</th>\n",
       "      <td>-0.591285</td>\n",
       "      <td>1.416511</td>\n",
       "      <td>-1.242730</td>\n",
       "      <td>-1.725582</td>\n",
       "      <td>-1.397943</td>\n",
       "      <td>-1.201827</td>\n",
       "      <td>3.727754</td>\n",
       "      <td>0.049530</td>\n",
       "      <td>-1.122743</td>\n",
       "      <td>-0.714330</td>\n",
       "      <td>6.578459</td>\n",
       "      <td>-0.841490</td>\n",
       "      <td>-0.355384</td>\n",
       "      <td>-1</td>\n",
       "    </tr>\n",
       "    <tr>\n",
       "      <th>282</th>\n",
       "      <td>-1.058106</td>\n",
       "      <td>1.079712</td>\n",
       "      <td>-0.145818</td>\n",
       "      <td>-1.578525</td>\n",
       "      <td>-1.460786</td>\n",
       "      <td>3.040175</td>\n",
       "      <td>3.613904</td>\n",
       "      <td>-1.858650</td>\n",
       "      <td>-1.151481</td>\n",
       "      <td>5.769158</td>\n",
       "      <td>-0.461419</td>\n",
       "      <td>-0.035275</td>\n",
       "      <td>-0.395696</td>\n",
       "      <td>-1</td>\n",
       "    </tr>\n",
       "    <tr>\n",
       "      <th>345</th>\n",
       "      <td>-1.305721</td>\n",
       "      <td>-1.614680</td>\n",
       "      <td>0.518103</td>\n",
       "      <td>-0.927273</td>\n",
       "      <td>-0.925487</td>\n",
       "      <td>2.663003</td>\n",
       "      <td>3.270390</td>\n",
       "      <td>-3.788016</td>\n",
       "      <td>-1.933822</td>\n",
       "      <td>-0.667507</td>\n",
       "      <td>-0.503321</td>\n",
       "      <td>-1.366751</td>\n",
       "      <td>7.156002</td>\n",
       "      <td>-1</td>\n",
       "    </tr>\n",
       "    <tr>\n",
       "      <th>408</th>\n",
       "      <td>-1.079774</td>\n",
       "      <td>1.605961</td>\n",
       "      <td>-0.780872</td>\n",
       "      <td>-1.536509</td>\n",
       "      <td>-1.222652</td>\n",
       "      <td>1.996338</td>\n",
       "      <td>3.138950</td>\n",
       "      <td>-0.424902</td>\n",
       "      <td>-0.931067</td>\n",
       "      <td>5.769158</td>\n",
       "      <td>2.150454</td>\n",
       "      <td>-0.853261</td>\n",
       "      <td>-0.423962</td>\n",
       "      <td>-1</td>\n",
       "    </tr>\n",
       "    <tr>\n",
       "      <th>536</th>\n",
       "      <td>-1.411773</td>\n",
       "      <td>1.963810</td>\n",
       "      <td>-0.203550</td>\n",
       "      <td>-0.864249</td>\n",
       "      <td>-1.484678</td>\n",
       "      <td>5.025256</td>\n",
       "      <td>3.879661</td>\n",
       "      <td>0.727222</td>\n",
       "      <td>0.169499</td>\n",
       "      <td>5.769158</td>\n",
       "      <td>-0.504640</td>\n",
       "      <td>-0.800076</td>\n",
       "      <td>-0.490237</td>\n",
       "      <td>-1</td>\n",
       "    </tr>\n",
       "    <tr>\n",
       "      <th>579</th>\n",
       "      <td>-1.499528</td>\n",
       "      <td>2.911057</td>\n",
       "      <td>2.827393</td>\n",
       "      <td>-0.065941</td>\n",
       "      <td>-1.477753</td>\n",
       "      <td>2.490474</td>\n",
       "      <td>1.952497</td>\n",
       "      <td>0.015119</td>\n",
       "      <td>1.976890</td>\n",
       "      <td>0.723027</td>\n",
       "      <td>0.129685</td>\n",
       "      <td>-1.731921</td>\n",
       "      <td>-0.516681</td>\n",
       "      <td>-1</td>\n",
       "    </tr>\n",
       "    <tr>\n",
       "      <th>624</th>\n",
       "      <td>3.167600</td>\n",
       "      <td>-1.488381</td>\n",
       "      <td>-0.694274</td>\n",
       "      <td>-1.032314</td>\n",
       "      <td>2.608564</td>\n",
       "      <td>1.002210</td>\n",
       "      <td>-0.069174</td>\n",
       "      <td>-2.426729</td>\n",
       "      <td>-1.280132</td>\n",
       "      <td>-0.614283</td>\n",
       "      <td>-0.503321</td>\n",
       "      <td>-1.744300</td>\n",
       "      <td>7.156002</td>\n",
       "      <td>-1</td>\n",
       "    </tr>\n",
       "  </tbody>\n",
       "</table>\n",
       "</div>"
      ],
      "text/plain": [
       "     Per Capita Income  Sex Ratio (M/F)  ...  Population Density  Outlier\n",
       "13            4.206572        -0.793733  ...            7.156002       -1\n",
       "121           4.940630         0.237715  ...            7.156002       -1\n",
       "135          -1.768811         1.732260  ...           -0.488665       -1\n",
       "274          -0.591285         1.416511  ...           -0.355384       -1\n",
       "282          -1.058106         1.079712  ...           -0.395696       -1\n",
       "345          -1.305721        -1.614680  ...            7.156002       -1\n",
       "408          -1.079774         1.605961  ...           -0.423962       -1\n",
       "536          -1.411773         1.963810  ...           -0.490237       -1\n",
       "579          -1.499528         2.911057  ...           -0.516681       -1\n",
       "624           3.167600        -1.488381  ...            7.156002       -1\n",
       "\n",
       "[10 rows x 14 columns]"
      ]
     },
     "execution_count": 30,
     "metadata": {},
     "output_type": "execute_result"
    }
   ],
   "source": [
    "isf2_x = df.drop(columns=['Winning Candidate'])\n",
    "isf2_y = df['Winning Candidate']\n",
    "isf2_x_train, isf2_x_test, isf2_y_train, isf2_y_test = train_test_split(isf2_x, isf2_y, random_state=31, test_size=.2)\n",
    "\n",
    "\n",
    "isf2_ss = StandardScaler()\n",
    "ss_isf2_x_train = pd.DataFrame(isf2_ss.fit_transform(isf2_x_train), columns=isf2_x_train.columns)\n",
    "isolation_forest_2 = IsolationForest(contamination=.014)\n",
    "ss_isf2_x_train['Outlier'] = isolation_forest_2.fit_predict(ss_isf2_x_train)\n",
    "ss_isf2_x_train[ss_isf2_x_train['Outlier']==-1]"
   ]
  },
  {
   "cell_type": "markdown",
   "id": "741c6a88",
   "metadata": {
    "id": "741c6a88"
   },
   "source": [
    "Calculate descriptive statistics for each variable"
   ]
  },
  {
   "cell_type": "code",
   "execution_count": null,
   "id": "bfb0f0c0",
   "metadata": {
    "colab": {
     "base_uri": "https://localhost:8080/",
     "height": 355
    },
    "id": "bfb0f0c0",
    "outputId": "e27297e3-41a8-4b45-d5b2-9a291ce1e2ca"
   },
   "outputs": [
    {
     "data": {
      "text/html": [
       "<div>\n",
       "<style scoped>\n",
       "    .dataframe tbody tr th:only-of-type {\n",
       "        vertical-align: middle;\n",
       "    }\n",
       "\n",
       "    .dataframe tbody tr th {\n",
       "        vertical-align: top;\n",
       "    }\n",
       "\n",
       "    .dataframe thead th {\n",
       "        text-align: right;\n",
       "    }\n",
       "</style>\n",
       "<table border=\"1\" class=\"dataframe\">\n",
       "  <thead>\n",
       "    <tr style=\"text-align: right;\">\n",
       "      <th></th>\n",
       "      <th>Per Capita Income</th>\n",
       "      <th>Sex Ratio (M/F)</th>\n",
       "      <th>Disability Proportion</th>\n",
       "      <th>Median Age</th>\n",
       "      <th>Bachelors Degree Proportion</th>\n",
       "      <th>Unemployment Rate</th>\n",
       "      <th>Hispanic Population Proportion</th>\n",
       "      <th>White Population Proportion</th>\n",
       "      <th>Veteran Population Proportion</th>\n",
       "      <th>Agriculture Employment Proportion</th>\n",
       "      <th>Mining Employment Proportion</th>\n",
       "      <th>Manufacturing Employment Proportion</th>\n",
       "      <th>Population Density</th>\n",
       "      <th>Winning Candidate</th>\n",
       "    </tr>\n",
       "  </thead>\n",
       "  <tbody>\n",
       "    <tr>\n",
       "      <th>count</th>\n",
       "      <td>826.000000</td>\n",
       "      <td>826.000000</td>\n",
       "      <td>826.000000</td>\n",
       "      <td>826.000000</td>\n",
       "      <td>826.000000</td>\n",
       "      <td>826.000000</td>\n",
       "      <td>826.000000</td>\n",
       "      <td>826.000000</td>\n",
       "      <td>826.000000</td>\n",
       "      <td>826.000000</td>\n",
       "      <td>826.000000</td>\n",
       "      <td>826.000000</td>\n",
       "      <td>826.000000</td>\n",
       "      <td>826.000000</td>\n",
       "    </tr>\n",
       "    <tr>\n",
       "      <th>mean</th>\n",
       "      <td>33678.308393</td>\n",
       "      <td>97.082772</td>\n",
       "      <td>13.616707</td>\n",
       "      <td>39.262788</td>\n",
       "      <td>0.307534</td>\n",
       "      <td>0.044540</td>\n",
       "      <td>0.122801</td>\n",
       "      <td>0.779710</td>\n",
       "      <td>0.079587</td>\n",
       "      <td>0.012715</td>\n",
       "      <td>0.005764</td>\n",
       "      <td>0.109984</td>\n",
       "      <td>577.368809</td>\n",
       "      <td>0.381356</td>\n",
       "    </tr>\n",
       "    <tr>\n",
       "      <th>std</th>\n",
       "      <td>8356.694070</td>\n",
       "      <td>4.745306</td>\n",
       "      <td>3.445047</td>\n",
       "      <td>4.648390</td>\n",
       "      <td>0.109472</td>\n",
       "      <td>0.016668</td>\n",
       "      <td>0.134460</td>\n",
       "      <td>0.147056</td>\n",
       "      <td>0.028496</td>\n",
       "      <td>0.017339</td>\n",
       "      <td>0.010678</td>\n",
       "      <td>0.057762</td>\n",
       "      <td>1098.380729</td>\n",
       "      <td>0.486014</td>\n",
       "    </tr>\n",
       "    <tr>\n",
       "      <th>min</th>\n",
       "      <td>15589.000000</td>\n",
       "      <td>84.200000</td>\n",
       "      <td>5.800000</td>\n",
       "      <td>25.100000</td>\n",
       "      <td>0.110110</td>\n",
       "      <td>0.009905</td>\n",
       "      <td>0.003816</td>\n",
       "      <td>0.117057</td>\n",
       "      <td>0.016730</td>\n",
       "      <td>0.000018</td>\n",
       "      <td>0.000023</td>\n",
       "      <td>0.010764</td>\n",
       "      <td>6.407943</td>\n",
       "      <td>0.000000</td>\n",
       "    </tr>\n",
       "    <tr>\n",
       "      <th>25%</th>\n",
       "      <td>28126.000000</td>\n",
       "      <td>94.125000</td>\n",
       "      <td>11.200000</td>\n",
       "      <td>36.600000</td>\n",
       "      <td>0.224982</td>\n",
       "      <td>0.033157</td>\n",
       "      <td>0.043011</td>\n",
       "      <td>0.716623</td>\n",
       "      <td>0.063076</td>\n",
       "      <td>0.003647</td>\n",
       "      <td>0.000745</td>\n",
       "      <td>0.068397</td>\n",
       "      <td>131.004177</td>\n",
       "      <td>0.000000</td>\n",
       "    </tr>\n",
       "    <tr>\n",
       "      <th>50%</th>\n",
       "      <td>32221.000000</td>\n",
       "      <td>96.700000</td>\n",
       "      <td>13.300000</td>\n",
       "      <td>39.000000</td>\n",
       "      <td>0.293635</td>\n",
       "      <td>0.042425</td>\n",
       "      <td>0.072993</td>\n",
       "      <td>0.816722</td>\n",
       "      <td>0.075534</td>\n",
       "      <td>0.007133</td>\n",
       "      <td>0.001938</td>\n",
       "      <td>0.100442</td>\n",
       "      <td>242.342727</td>\n",
       "      <td>0.000000</td>\n",
       "    </tr>\n",
       "    <tr>\n",
       "      <th>75%</th>\n",
       "      <td>37359.500000</td>\n",
       "      <td>99.200000</td>\n",
       "      <td>15.700000</td>\n",
       "      <td>41.675000</td>\n",
       "      <td>0.369708</td>\n",
       "      <td>0.052915</td>\n",
       "      <td>0.143834</td>\n",
       "      <td>0.885531</td>\n",
       "      <td>0.090464</td>\n",
       "      <td>0.014119</td>\n",
       "      <td>0.005937</td>\n",
       "      <td>0.143238</td>\n",
       "      <td>517.696332</td>\n",
       "      <td>1.000000</td>\n",
       "    </tr>\n",
       "    <tr>\n",
       "      <th>max</th>\n",
       "      <td>75032.244302</td>\n",
       "      <td>122.234870</td>\n",
       "      <td>27.600000</td>\n",
       "      <td>63.262564</td>\n",
       "      <td>0.748842</td>\n",
       "      <td>0.131134</td>\n",
       "      <td>0.814073</td>\n",
       "      <td>0.964707</td>\n",
       "      <td>0.213289</td>\n",
       "      <td>0.109196</td>\n",
       "      <td>0.074971</td>\n",
       "      <td>0.398269</td>\n",
       "      <td>8294.995164</td>\n",
       "      <td>1.000000</td>\n",
       "    </tr>\n",
       "  </tbody>\n",
       "</table>\n",
       "</div>"
      ],
      "text/plain": [
       "       Per Capita Income  ...  Winning Candidate\n",
       "count         826.000000  ...         826.000000\n",
       "mean        33678.308393  ...           0.381356\n",
       "std          8356.694070  ...           0.486014\n",
       "min         15589.000000  ...           0.000000\n",
       "25%         28126.000000  ...           0.000000\n",
       "50%         32221.000000  ...           0.000000\n",
       "75%         37359.500000  ...           1.000000\n",
       "max         75032.244302  ...           1.000000\n",
       "\n",
       "[8 rows x 14 columns]"
      ]
     },
     "execution_count": 31,
     "metadata": {},
     "output_type": "execute_result"
    }
   ],
   "source": [
    "df.describe()"
   ]
  },
  {
   "cell_type": "markdown",
   "id": "e3976254",
   "metadata": {
    "id": "e3976254"
   },
   "source": [
    "Plot the class distribution for the dependent variable"
   ]
  },
  {
   "cell_type": "code",
   "execution_count": null,
   "id": "4b5a4977",
   "metadata": {
    "colab": {
     "base_uri": "https://localhost:8080/",
     "height": 312
    },
    "id": "4b5a4977",
    "outputId": "fa7102de-6fa5-4abd-e914-3ff9e76005fe"
   },
   "outputs": [
    {
     "data": {
      "text/plain": [
       "[Text(0, 0, 'Trump'), Text(0, 0, 'Biden')]"
      ]
     },
     "execution_count": 32,
     "metadata": {},
     "output_type": "execute_result"
    },
    {
     "data": {
      "image/png": "[encoded data removed]",
      "text/plain": [
       "<Figure size 432x288 with 1 Axes>"
      ]
     },
     "metadata": {
      "needs_background": "light"
     },
     "output_type": "display_data"
    }
   ],
   "source": [
    "fig, ax = plt.subplots()\n",
    "sns.countplot(x='Winning Candidate', data=df, ax=ax)\n",
    "ax.set_title('2020 Presidential Election County Winner Class Distribution')\n",
    "ax.set_ylabel('Counties Won')\n",
    "ax.set_xticklabels(['Trump', 'Biden'])\n"
   ]
  },
  {
   "cell_type": "markdown",
   "id": "ba9e995d",
   "metadata": {
    "id": "ba9e995d"
   },
   "source": [
    "Plot distribution of each variable in dataset"
   ]
  },
  {
   "cell_type": "code",
   "execution_count": null,
   "id": "786d8e91",
   "metadata": {
    "colab": {
     "base_uri": "https://localhost:8080/",
     "height": 1000
    },
    "id": "786d8e91",
    "outputId": "19a22de3-ddb7-4233-b3b8-b92891432e8a",
    "scrolled": false
   },
   "outputs": [
    {
     "name": "stderr",
     "output_type": "stream",
     "text": [
      "/usr/local/lib/python3.7/dist-packages/seaborn/distributions.py:2619: FutureWarning: `distplot` is a deprecated function and will be removed in a future version. Please adapt your code to use either `displot` (a figure-level function with similar flexibility) or `histplot` (an axes-level function for histograms).\n",
      "  warnings.warn(msg, FutureWarning)\n",
      "/usr/local/lib/python3.7/dist-packages/seaborn/distributions.py:2619: FutureWarning: `distplot` is a deprecated function and will be removed in a future version. Please adapt your code to use either `displot` (a figure-level function with similar flexibility) or `histplot` (an axes-level function for histograms).\n",
      "  warnings.warn(msg, FutureWarning)\n",
      "/usr/local/lib/python3.7/dist-packages/seaborn/distributions.py:2619: FutureWarning: `distplot` is a deprecated function and will be removed in a future version. Please adapt your code to use either `displot` (a figure-level function with similar flexibility) or `histplot` (an axes-level function for histograms).\n",
      "  warnings.warn(msg, FutureWarning)\n",
      "/usr/local/lib/python3.7/dist-packages/seaborn/distributions.py:2619: FutureWarning: `distplot` is a deprecated function and will be removed in a future version. Please adapt your code to use either `displot` (a figure-level function with similar flexibility) or `histplot` (an axes-level function for histograms).\n",
      "  warnings.warn(msg, FutureWarning)\n",
      "/usr/local/lib/python3.7/dist-packages/seaborn/distributions.py:2619: FutureWarning: `distplot` is a deprecated function and will be removed in a future version. Please adapt your code to use either `displot` (a figure-level function with similar flexibility) or `histplot` (an axes-level function for histograms).\n",
      "  warnings.warn(msg, FutureWarning)\n",
      "/usr/local/lib/python3.7/dist-packages/seaborn/distributions.py:2619: FutureWarning: `distplot` is a deprecated function and will be removed in a future version. Please adapt your code to use either `displot` (a figure-level function with similar flexibility) or `histplot` (an axes-level function for histograms).\n",
      "  warnings.warn(msg, FutureWarning)\n",
      "/usr/local/lib/python3.7/dist-packages/seaborn/distributions.py:2619: FutureWarning: `distplot` is a deprecated function and will be removed in a future version. Please adapt your code to use either `displot` (a figure-level function with similar flexibility) or `histplot` (an axes-level function for histograms).\n",
      "  warnings.warn(msg, FutureWarning)\n",
      "/usr/local/lib/python3.7/dist-packages/seaborn/distributions.py:2619: FutureWarning: `distplot` is a deprecated function and will be removed in a future version. Please adapt your code to use either `displot` (a figure-level function with similar flexibility) or `histplot` (an axes-level function for histograms).\n",
      "  warnings.warn(msg, FutureWarning)\n",
      "/usr/local/lib/python3.7/dist-packages/seaborn/distributions.py:2619: FutureWarning: `distplot` is a deprecated function and will be removed in a future version. Please adapt your code to use either `displot` (a figure-level function with similar flexibility) or `histplot` (an axes-level function for histograms).\n",
      "  warnings.warn(msg, FutureWarning)\n",
      "/usr/local/lib/python3.7/dist-packages/seaborn/distributions.py:2619: FutureWarning: `distplot` is a deprecated function and will be removed in a future version. Please adapt your code to use either `displot` (a figure-level function with similar flexibility) or `histplot` (an axes-level function for histograms).\n",
      "  warnings.warn(msg, FutureWarning)\n",
      "/usr/local/lib/python3.7/dist-packages/seaborn/distributions.py:2619: FutureWarning: `distplot` is a deprecated function and will be removed in a future version. Please adapt your code to use either `displot` (a figure-level function with similar flexibility) or `histplot` (an axes-level function for histograms).\n",
      "  warnings.warn(msg, FutureWarning)\n",
      "/usr/local/lib/python3.7/dist-packages/seaborn/distributions.py:2619: FutureWarning: `distplot` is a deprecated function and will be removed in a future version. Please adapt your code to use either `displot` (a figure-level function with similar flexibility) or `histplot` (an axes-level function for histograms).\n",
      "  warnings.warn(msg, FutureWarning)\n",
      "/usr/local/lib/python3.7/dist-packages/seaborn/distributions.py:2619: FutureWarning: `distplot` is a deprecated function and will be removed in a future version. Please adapt your code to use either `displot` (a figure-level function with similar flexibility) or `histplot` (an axes-level function for histograms).\n",
      "  warnings.warn(msg, FutureWarning)\n"
     ]
    },
    {
     "data": {
      "image/png": "[encoded data removed]",
      "text/plain": [
       "<Figure size 432x288 with 1 Axes>"
      ]
     },
     "metadata": {
      "needs_background": "light"
     },
     "output_type": "display_data"
    },
    {
     "data": {
      "image/png": "[encoded data removed]",
      "text/plain": [
       "<Figure size 432x288 with 1 Axes>"
      ]
     },
     "metadata": {
      "needs_background": "light"
     },
     "output_type": "display_data"
    },
    {
     "data": {
      "image/png": "[encoded data removed]",
      "text/plain": [
       "<Figure size 432x288 with 1 Axes>"
      ]
     },
     "metadata": {
      "needs_background": "light"
     },
     "output_type": "display_data"
    },
    {
     "data": {
      "image/png": "[encoded data removed]",
      "text/plain": [
       "<Figure size 432x288 with 1 Axes>"
      ]
     },
     "metadata": {
      "needs_background": "light"
     },
     "output_type": "display_data"
    },
    {
     "data": {
      "image/png": "[encoded data removed]",
      "text/plain": [
       "<Figure size 432x288 with 1 Axes>"
      ]
     },
     "metadata": {
      "needs_background": "light"
     },
     "output_type": "display_data"
    },
    {
     "data": {
      "image/png": "[encoded data removed]",
      "text/plain": [
       "<Figure size 432x288 with 1 Axes>"
      ]
     },
     "metadata": {
      "needs_background": "light"
     },
     "output_type": "display_data"
    },
    {
     "data": {
      "image/png": "[encoded data removed]",
      "text/plain": [
       "<Figure size 432x288 with 1 Axes>"
      ]
     },
     "metadata": {
      "needs_background": "light"
     },
     "output_type": "display_data"
    },
    {
     "data": {
      "image/png": "[encoded data removed]",
      "text/plain": [
       "<Figure size 432x288 with 1 Axes>"
      ]
     },
     "metadata": {
      "needs_background": "light"
     },
     "output_type": "display_data"
    },
    {
     "data": {
      "image/png": "[encoded data removed]",
      "text/plain": [
       "<Figure size 432x288 with 1 Axes>"
      ]
     },
     "metadata": {
      "needs_background": "light"
     },
     "output_type": "display_data"
    },
    {
     "data": {
      "image/png": "[encoded data removed]",
      "text/plain": [
       "<Figure size 432x288 with 1 Axes>"
      ]
     },
     "metadata": {
      "needs_background": "light"
     },
     "output_type": "display_data"
    },
    {
     "data": {
      "image/png": "[encoded data removed]",
      "text/plain": [
       "<Figure size 432x288 with 1 Axes>"
      ]
     },
     "metadata": {
      "needs_background": "light"
     },
     "output_type": "display_data"
    },
    {
     "data": {
      "image/png": "[encoded data removed]",
      "text/plain": [
       "<Figure size 432x288 with 1 Axes>"
      ]
     },
     "metadata": {
      "needs_background": "light"
     },
     "output_type": "display_data"
    },
    {
     "data": {
      "image/png": "[encoded data removed]",
      "text/plain": [
       "<Figure size 432x288 with 1 Axes>"
      ]
     },
     "metadata": {
      "needs_background": "light"
     },
     "output_type": "display_data"
    }
   ],
   "source": [
    "for col in df.columns.drop('Winning Candidate'):\n",
    "    fig, ax = plt.subplots()\n",
    "    sns.distplot(df[col], bins=20, ax=ax)\n",
    "    ax.set_title(f'{col} Histogram')"
   ]
  },
  {
   "cell_type": "markdown",
   "id": "3bf2fc79",
   "metadata": {
    "id": "3bf2fc79"
   },
   "source": [
    "Plot relationship between each independent variable and the dependent variable"
   ]
  },
  {
   "cell_type": "code",
   "execution_count": null,
   "id": "b7adf203",
   "metadata": {
    "colab": {
     "base_uri": "https://localhost:8080/",
     "height": 937
    },
    "id": "b7adf203",
    "outputId": "e8e1fb7a-5234-4247-c6d1-c17684fc7f1e"
   },
   "outputs": [
    {
     "data": {
      "image/png": "[encoded data removed]",
      "text/plain": [
       "<Figure size 540x180 with 3 Axes>"
      ]
     },
     "metadata": {
      "needs_background": "light"
     },
     "output_type": "display_data"
    },
    {
     "data": {
      "image/png": "[encoded data removed]",
      "text/plain": [
       "<Figure size 540x180 with 3 Axes>"
      ]
     },
     "metadata": {
      "needs_background": "light"
     },
     "output_type": "display_data"
    },
    {
     "data": {
      "image/png": "[encoded data removed]",
      "text/plain": [
       "<Figure size 540x180 with 3 Axes>"
      ]
     },
     "metadata": {
      "needs_background": "light"
     },
     "output_type": "display_data"
    },
    {
     "data": {
      "image/png": "[encoded data removed]",
      "text/plain": [
       "<Figure size 540x180 with 3 Axes>"
      ]
     },
     "metadata": {
      "needs_background": "light"
     },
     "output_type": "display_data"
    },
    {
     "data": {
      "image/png": "[encoded data removed]",
      "text/plain": [
       "<Figure size 180x180 with 1 Axes>"
      ]
     },
     "metadata": {
      "needs_background": "light"
     },
     "output_type": "display_data"
    }
   ],
   "source": [
    "y_var = 'Winning Candidate'\n",
    "x_vars = list(df.columns)\n",
    "x_vars.remove(y_var)\n",
    "\n",
    "x_vars_lists = []\n",
    "for num in range(0, len(x_vars), 3):\n",
    "    x_vars_lists.append(x_vars[num: num+3])\n",
    "x_vars_lists\n",
    "\n",
    "for x_vars_list in x_vars_lists:\n",
    "    pairplot = sns.pairplot(df, x_vars=x_vars_list, y_vars=y_var, kind='reg')\n",
    "    pairplot.fig.suptitle('Relationship Between Features and Depedent Variable')"
   ]
  },
  {
   "cell_type": "markdown",
   "id": "27acf917",
   "metadata": {
    "id": "27acf917"
   },
   "source": [
    "Confirm need to drop correlated features with vif"
   ]
  },
  {
   "cell_type": "code",
   "execution_count": null,
   "id": "c3545d3a",
   "metadata": {
    "colab": {
     "base_uri": "https://localhost:8080/",
     "height": 488
    },
    "id": "c3545d3a",
    "outputId": "2b78ca5a-2376-4355-a524-aa0a7e181c70"
   },
   "outputs": [
    {
     "data": {
      "text/html": [
       "<div>\n",
       "<style scoped>\n",
       "    .dataframe tbody tr th:only-of-type {\n",
       "        vertical-align: middle;\n",
       "    }\n",
       "\n",
       "    .dataframe tbody tr th {\n",
       "        vertical-align: top;\n",
       "    }\n",
       "\n",
       "    .dataframe thead th {\n",
       "        text-align: right;\n",
       "    }\n",
       "</style>\n",
       "<table border=\"1\" class=\"dataframe\">\n",
       "  <thead>\n",
       "    <tr style=\"text-align: right;\">\n",
       "      <th></th>\n",
       "      <th>Column</th>\n",
       "      <th>VIF</th>\n",
       "    </tr>\n",
       "  </thead>\n",
       "  <tbody>\n",
       "    <tr>\n",
       "      <th>0</th>\n",
       "      <td>const</td>\n",
       "      <td>823.3</td>\n",
       "    </tr>\n",
       "    <tr>\n",
       "      <th>1</th>\n",
       "      <td>Bachelors Degree Proportion</td>\n",
       "      <td>5.8</td>\n",
       "    </tr>\n",
       "    <tr>\n",
       "      <th>2</th>\n",
       "      <td>Per Capita Income</td>\n",
       "      <td>5.4</td>\n",
       "    </tr>\n",
       "    <tr>\n",
       "      <th>3</th>\n",
       "      <td>Disability Proportion</td>\n",
       "      <td>2.7</td>\n",
       "    </tr>\n",
       "    <tr>\n",
       "      <th>4</th>\n",
       "      <td>Median Age</td>\n",
       "      <td>2.4</td>\n",
       "    </tr>\n",
       "    <tr>\n",
       "      <th>5</th>\n",
       "      <td>White Population Proportion</td>\n",
       "      <td>2.0</td>\n",
       "    </tr>\n",
       "    <tr>\n",
       "      <th>6</th>\n",
       "      <td>Population Density</td>\n",
       "      <td>1.7</td>\n",
       "    </tr>\n",
       "    <tr>\n",
       "      <th>7</th>\n",
       "      <td>Manufacturing Employment Proportion</td>\n",
       "      <td>1.7</td>\n",
       "    </tr>\n",
       "    <tr>\n",
       "      <th>8</th>\n",
       "      <td>Unemployment Rate</td>\n",
       "      <td>1.6</td>\n",
       "    </tr>\n",
       "    <tr>\n",
       "      <th>9</th>\n",
       "      <td>Hispanic Population Proportion</td>\n",
       "      <td>1.6</td>\n",
       "    </tr>\n",
       "    <tr>\n",
       "      <th>10</th>\n",
       "      <td>Veteran Population Proportion</td>\n",
       "      <td>1.5</td>\n",
       "    </tr>\n",
       "    <tr>\n",
       "      <th>11</th>\n",
       "      <td>Agriculture Employment Proportion</td>\n",
       "      <td>1.5</td>\n",
       "    </tr>\n",
       "    <tr>\n",
       "      <th>12</th>\n",
       "      <td>Sex Ratio (M/F)</td>\n",
       "      <td>1.4</td>\n",
       "    </tr>\n",
       "    <tr>\n",
       "      <th>13</th>\n",
       "      <td>Mining Employment Proportion</td>\n",
       "      <td>1.3</td>\n",
       "    </tr>\n",
       "  </tbody>\n",
       "</table>\n",
       "</div>"
      ],
      "text/plain": [
       "                                 Column    VIF\n",
       "0                                 const  823.3\n",
       "1           Bachelors Degree Proportion    5.8\n",
       "2                     Per Capita Income    5.4\n",
       "3                 Disability Proportion    2.7\n",
       "4                            Median Age    2.4\n",
       "5           White Population Proportion    2.0\n",
       "6                    Population Density    1.7\n",
       "7   Manufacturing Employment Proportion    1.7\n",
       "8                     Unemployment Rate    1.6\n",
       "9        Hispanic Population Proportion    1.6\n",
       "10        Veteran Population Proportion    1.5\n",
       "11    Agriculture Employment Proportion    1.5\n",
       "12                      Sex Ratio (M/F)    1.4\n",
       "13         Mining Employment Proportion    1.3"
      ]
     },
     "execution_count": 35,
     "metadata": {},
     "output_type": "execute_result"
    }
   ],
   "source": [
    "vif_df = add_constant(df.drop(columns='Winning Candidate'))\n",
    "vif_output = []\n",
    "for num in range(0, len(vif_df.columns)):\n",
    "    vif_output.append([vif_df.columns[num], variance_inflation_factor(vif_df.values, num)])\n",
    "vif_output_df = pd.DataFrame(vif_output, columns=['Column', 'VIF'])\n",
    "vif_output_df.sort_values(by='VIF', ascending=False, inplace=True)\n",
    "vif_output_df.round(decimals=1).reset_index(drop=True)"
   ]
  },
  {
   "cell_type": "markdown",
   "id": "AtORG6_P3EWi",
   "metadata": {
    "id": "AtORG6_P3EWi"
   },
   "source": [
    "Calculate correlations between features"
   ]
  },
  {
   "cell_type": "code",
   "execution_count": null,
   "id": "5imfV_jiB57V",
   "metadata": {
    "colab": {
     "base_uri": "https://localhost:8080/",
     "height": 873
    },
    "id": "5imfV_jiB57V",
    "outputId": "baf99de6-f90f-4017-88e8-af1a5c56c1a3"
   },
   "outputs": [
    {
     "data": {
      "text/html": [
       "<div>\n",
       "<style scoped>\n",
       "    .dataframe tbody tr th:only-of-type {\n",
       "        vertical-align: middle;\n",
       "    }\n",
       "\n",
       "    .dataframe tbody tr th {\n",
       "        vertical-align: top;\n",
       "    }\n",
       "\n",
       "    .dataframe thead th {\n",
       "        text-align: right;\n",
       "    }\n",
       "</style>\n",
       "<table border=\"1\" class=\"dataframe\">\n",
       "  <thead>\n",
       "    <tr style=\"text-align: right;\">\n",
       "      <th></th>\n",
       "      <th>Per Capita Income</th>\n",
       "      <th>Sex Ratio (M/F)</th>\n",
       "      <th>Disability Proportion</th>\n",
       "      <th>Median Age</th>\n",
       "      <th>Bachelors Degree Proportion</th>\n",
       "      <th>Unemployment Rate</th>\n",
       "      <th>Hispanic Population Proportion</th>\n",
       "      <th>White Population Proportion</th>\n",
       "      <th>Veteran Population Proportion</th>\n",
       "      <th>Agriculture Employment Proportion</th>\n",
       "      <th>Mining Employment Proportion</th>\n",
       "      <th>Manufacturing Employment Proportion</th>\n",
       "      <th>Population Density</th>\n",
       "      <th>Winning Candidate</th>\n",
       "    </tr>\n",
       "  </thead>\n",
       "  <tbody>\n",
       "    <tr>\n",
       "      <th>Per Capita Income</th>\n",
       "      <td>1.00</td>\n",
       "      <td>-0.05</td>\n",
       "      <td>-0.57</td>\n",
       "      <td>0.18</td>\n",
       "      <td>0.82</td>\n",
       "      <td>-0.38</td>\n",
       "      <td>-0.06</td>\n",
       "      <td>-0.02</td>\n",
       "      <td>-0.20</td>\n",
       "      <td>-0.23</td>\n",
       "      <td>-0.22</td>\n",
       "      <td>-0.24</td>\n",
       "      <td>0.38</td>\n",
       "      <td>0.32</td>\n",
       "    </tr>\n",
       "    <tr>\n",
       "      <th>Sex Ratio (M/F)</th>\n",
       "      <td>-0.05</td>\n",
       "      <td>1.00</td>\n",
       "      <td>-0.03</td>\n",
       "      <td>-0.12</td>\n",
       "      <td>-0.12</td>\n",
       "      <td>-0.10</td>\n",
       "      <td>0.16</td>\n",
       "      <td>0.32</td>\n",
       "      <td>0.15</td>\n",
       "      <td>0.28</td>\n",
       "      <td>0.10</td>\n",
       "      <td>0.04</td>\n",
       "      <td>-0.20</td>\n",
       "      <td>-0.20</td>\n",
       "    </tr>\n",
       "    <tr>\n",
       "      <th>Disability Proportion</th>\n",
       "      <td>-0.57</td>\n",
       "      <td>-0.03</td>\n",
       "      <td>1.00</td>\n",
       "      <td>0.35</td>\n",
       "      <td>-0.64</td>\n",
       "      <td>0.40</td>\n",
       "      <td>-0.17</td>\n",
       "      <td>0.17</td>\n",
       "      <td>0.39</td>\n",
       "      <td>0.11</td>\n",
       "      <td>0.14</td>\n",
       "      <td>0.14</td>\n",
       "      <td>-0.27</td>\n",
       "      <td>-0.33</td>\n",
       "    </tr>\n",
       "    <tr>\n",
       "      <th>Median Age</th>\n",
       "      <td>0.18</td>\n",
       "      <td>-0.12</td>\n",
       "      <td>0.35</td>\n",
       "      <td>1.00</td>\n",
       "      <td>-0.13</td>\n",
       "      <td>-0.05</td>\n",
       "      <td>-0.29</td>\n",
       "      <td>0.35</td>\n",
       "      <td>0.25</td>\n",
       "      <td>-0.07</td>\n",
       "      <td>-0.10</td>\n",
       "      <td>0.08</td>\n",
       "      <td>-0.16</td>\n",
       "      <td>-0.22</td>\n",
       "    </tr>\n",
       "    <tr>\n",
       "      <th>Bachelors Degree Proportion</th>\n",
       "      <td>0.82</td>\n",
       "      <td>-0.12</td>\n",
       "      <td>-0.64</td>\n",
       "      <td>-0.13</td>\n",
       "      <td>1.00</td>\n",
       "      <td>-0.34</td>\n",
       "      <td>-0.09</td>\n",
       "      <td>-0.10</td>\n",
       "      <td>-0.28</td>\n",
       "      <td>-0.27</td>\n",
       "      <td>-0.27</td>\n",
       "      <td>-0.32</td>\n",
       "      <td>0.38</td>\n",
       "      <td>0.47</td>\n",
       "    </tr>\n",
       "    <tr>\n",
       "      <th>Unemployment Rate</th>\n",
       "      <td>-0.38</td>\n",
       "      <td>-0.10</td>\n",
       "      <td>0.40</td>\n",
       "      <td>-0.05</td>\n",
       "      <td>-0.34</td>\n",
       "      <td>1.00</td>\n",
       "      <td>0.17</td>\n",
       "      <td>-0.31</td>\n",
       "      <td>0.04</td>\n",
       "      <td>0.26</td>\n",
       "      <td>0.01</td>\n",
       "      <td>-0.04</td>\n",
       "      <td>0.02</td>\n",
       "      <td>0.10</td>\n",
       "    </tr>\n",
       "    <tr>\n",
       "      <th>Hispanic Population Proportion</th>\n",
       "      <td>-0.06</td>\n",
       "      <td>0.16</td>\n",
       "      <td>-0.17</td>\n",
       "      <td>-0.29</td>\n",
       "      <td>-0.09</td>\n",
       "      <td>0.17</td>\n",
       "      <td>1.00</td>\n",
       "      <td>-0.19</td>\n",
       "      <td>-0.21</td>\n",
       "      <td>0.34</td>\n",
       "      <td>0.16</td>\n",
       "      <td>-0.28</td>\n",
       "      <td>0.15</td>\n",
       "      <td>0.21</td>\n",
       "    </tr>\n",
       "    <tr>\n",
       "      <th>White Population Proportion</th>\n",
       "      <td>-0.02</td>\n",
       "      <td>0.32</td>\n",
       "      <td>0.17</td>\n",
       "      <td>0.35</td>\n",
       "      <td>-0.10</td>\n",
       "      <td>-0.31</td>\n",
       "      <td>-0.19</td>\n",
       "      <td>1.00</td>\n",
       "      <td>0.11</td>\n",
       "      <td>0.08</td>\n",
       "      <td>0.06</td>\n",
       "      <td>0.28</td>\n",
       "      <td>-0.44</td>\n",
       "      <td>-0.46</td>\n",
       "    </tr>\n",
       "    <tr>\n",
       "      <th>Veteran Population Proportion</th>\n",
       "      <td>-0.20</td>\n",
       "      <td>0.15</td>\n",
       "      <td>0.39</td>\n",
       "      <td>0.25</td>\n",
       "      <td>-0.28</td>\n",
       "      <td>0.04</td>\n",
       "      <td>-0.21</td>\n",
       "      <td>0.11</td>\n",
       "      <td>1.00</td>\n",
       "      <td>0.02</td>\n",
       "      <td>-0.02</td>\n",
       "      <td>-0.08</td>\n",
       "      <td>-0.31</td>\n",
       "      <td>-0.29</td>\n",
       "    </tr>\n",
       "    <tr>\n",
       "      <th>Agriculture Employment Proportion</th>\n",
       "      <td>-0.23</td>\n",
       "      <td>0.28</td>\n",
       "      <td>0.11</td>\n",
       "      <td>-0.07</td>\n",
       "      <td>-0.27</td>\n",
       "      <td>0.26</td>\n",
       "      <td>0.34</td>\n",
       "      <td>0.08</td>\n",
       "      <td>0.02</td>\n",
       "      <td>1.00</td>\n",
       "      <td>-0.01</td>\n",
       "      <td>-0.02</td>\n",
       "      <td>-0.23</td>\n",
       "      <td>-0.10</td>\n",
       "    </tr>\n",
       "    <tr>\n",
       "      <th>Mining Employment Proportion</th>\n",
       "      <td>-0.22</td>\n",
       "      <td>0.10</td>\n",
       "      <td>0.14</td>\n",
       "      <td>-0.10</td>\n",
       "      <td>-0.27</td>\n",
       "      <td>0.01</td>\n",
       "      <td>0.16</td>\n",
       "      <td>0.06</td>\n",
       "      <td>-0.02</td>\n",
       "      <td>-0.01</td>\n",
       "      <td>1.00</td>\n",
       "      <td>-0.15</td>\n",
       "      <td>-0.14</td>\n",
       "      <td>-0.22</td>\n",
       "    </tr>\n",
       "    <tr>\n",
       "      <th>Manufacturing Employment Proportion</th>\n",
       "      <td>-0.24</td>\n",
       "      <td>0.04</td>\n",
       "      <td>0.14</td>\n",
       "      <td>0.08</td>\n",
       "      <td>-0.32</td>\n",
       "      <td>-0.04</td>\n",
       "      <td>-0.28</td>\n",
       "      <td>0.28</td>\n",
       "      <td>-0.08</td>\n",
       "      <td>-0.02</td>\n",
       "      <td>-0.15</td>\n",
       "      <td>1.00</td>\n",
       "      <td>-0.22</td>\n",
       "      <td>-0.28</td>\n",
       "    </tr>\n",
       "    <tr>\n",
       "      <th>Population Density</th>\n",
       "      <td>0.38</td>\n",
       "      <td>-0.20</td>\n",
       "      <td>-0.27</td>\n",
       "      <td>-0.16</td>\n",
       "      <td>0.38</td>\n",
       "      <td>0.02</td>\n",
       "      <td>0.15</td>\n",
       "      <td>-0.44</td>\n",
       "      <td>-0.31</td>\n",
       "      <td>-0.23</td>\n",
       "      <td>-0.14</td>\n",
       "      <td>-0.22</td>\n",
       "      <td>1.00</td>\n",
       "      <td>0.38</td>\n",
       "    </tr>\n",
       "    <tr>\n",
       "      <th>Winning Candidate</th>\n",
       "      <td>0.32</td>\n",
       "      <td>-0.20</td>\n",
       "      <td>-0.33</td>\n",
       "      <td>-0.22</td>\n",
       "      <td>0.47</td>\n",
       "      <td>0.10</td>\n",
       "      <td>0.21</td>\n",
       "      <td>-0.46</td>\n",
       "      <td>-0.29</td>\n",
       "      <td>-0.10</td>\n",
       "      <td>-0.22</td>\n",
       "      <td>-0.28</td>\n",
       "      <td>0.38</td>\n",
       "      <td>1.00</td>\n",
       "    </tr>\n",
       "  </tbody>\n",
       "</table>\n",
       "</div>"
      ],
      "text/plain": [
       "                                     Per Capita Income  ...  Winning Candidate\n",
       "Per Capita Income                                 1.00  ...               0.32\n",
       "Sex Ratio (M/F)                                  -0.05  ...              -0.20\n",
       "Disability Proportion                            -0.57  ...              -0.33\n",
       "Median Age                                        0.18  ...              -0.22\n",
       "Bachelors Degree Proportion                       0.82  ...               0.47\n",
       "Unemployment Rate                                -0.38  ...               0.10\n",
       "Hispanic Population Proportion                   -0.06  ...               0.21\n",
       "White Population Proportion                      -0.02  ...              -0.46\n",
       "Veteran Population Proportion                    -0.20  ...              -0.29\n",
       "Agriculture Employment Proportion                -0.23  ...              -0.10\n",
       "Mining Employment Proportion                     -0.22  ...              -0.22\n",
       "Manufacturing Employment Proportion              -0.24  ...              -0.28\n",
       "Population Density                                0.38  ...               0.38\n",
       "Winning Candidate                                 0.32  ...               1.00\n",
       "\n",
       "[14 rows x 14 columns]"
      ]
     },
     "execution_count": 36,
     "metadata": {},
     "output_type": "execute_result"
    }
   ],
   "source": [
    "df.corr().round(decimals=2)"
   ]
  },
  {
   "cell_type": "markdown",
   "id": "VjGK0PW-YXAW",
   "metadata": {
    "id": "VjGK0PW-YXAW"
   },
   "source": [
    "Drop Per Capita Income feature due to high correlation and recalculate vif"
   ]
  },
  {
   "cell_type": "code",
   "execution_count": null,
   "id": "r5Jock5tUz-s",
   "metadata": {
    "colab": {
     "base_uri": "https://localhost:8080/",
     "height": 457
    },
    "id": "r5Jock5tUz-s",
    "outputId": "b468e392-f238-45dc-9f17-15b389baf1b4"
   },
   "outputs": [
    {
     "data": {
      "text/html": [
       "<div>\n",
       "<style scoped>\n",
       "    .dataframe tbody tr th:only-of-type {\n",
       "        vertical-align: middle;\n",
       "    }\n",
       "\n",
       "    .dataframe tbody tr th {\n",
       "        vertical-align: top;\n",
       "    }\n",
       "\n",
       "    .dataframe thead th {\n",
       "        text-align: right;\n",
       "    }\n",
       "</style>\n",
       "<table border=\"1\" class=\"dataframe\">\n",
       "  <thead>\n",
       "    <tr style=\"text-align: right;\">\n",
       "      <th></th>\n",
       "      <th>Column</th>\n",
       "      <th>VIF</th>\n",
       "    </tr>\n",
       "  </thead>\n",
       "  <tbody>\n",
       "    <tr>\n",
       "      <th>0</th>\n",
       "      <td>const</td>\n",
       "      <td>783.8</td>\n",
       "    </tr>\n",
       "    <tr>\n",
       "      <th>1</th>\n",
       "      <td>Bachelors Degree Proportion</td>\n",
       "      <td>2.7</td>\n",
       "    </tr>\n",
       "    <tr>\n",
       "      <th>2</th>\n",
       "      <td>Disability Proportion</td>\n",
       "      <td>2.5</td>\n",
       "    </tr>\n",
       "    <tr>\n",
       "      <th>3</th>\n",
       "      <td>White Population Proportion</td>\n",
       "      <td>1.9</td>\n",
       "    </tr>\n",
       "    <tr>\n",
       "      <th>4</th>\n",
       "      <td>Manufacturing Employment Proportion</td>\n",
       "      <td>1.6</td>\n",
       "    </tr>\n",
       "    <tr>\n",
       "      <th>5</th>\n",
       "      <td>Population Density</td>\n",
       "      <td>1.6</td>\n",
       "    </tr>\n",
       "    <tr>\n",
       "      <th>6</th>\n",
       "      <td>Unemployment Rate</td>\n",
       "      <td>1.6</td>\n",
       "    </tr>\n",
       "    <tr>\n",
       "      <th>7</th>\n",
       "      <td>Hispanic Population Proportion</td>\n",
       "      <td>1.6</td>\n",
       "    </tr>\n",
       "    <tr>\n",
       "      <th>8</th>\n",
       "      <td>Veteran Population Proportion</td>\n",
       "      <td>1.5</td>\n",
       "    </tr>\n",
       "    <tr>\n",
       "      <th>9</th>\n",
       "      <td>Median Age</td>\n",
       "      <td>1.5</td>\n",
       "    </tr>\n",
       "    <tr>\n",
       "      <th>10</th>\n",
       "      <td>Agriculture Employment Proportion</td>\n",
       "      <td>1.5</td>\n",
       "    </tr>\n",
       "    <tr>\n",
       "      <th>11</th>\n",
       "      <td>Sex Ratio (M/F)</td>\n",
       "      <td>1.4</td>\n",
       "    </tr>\n",
       "    <tr>\n",
       "      <th>12</th>\n",
       "      <td>Mining Employment Proportion</td>\n",
       "      <td>1.3</td>\n",
       "    </tr>\n",
       "  </tbody>\n",
       "</table>\n",
       "</div>"
      ],
      "text/plain": [
       "                                 Column    VIF\n",
       "0                                 const  783.8\n",
       "1           Bachelors Degree Proportion    2.7\n",
       "2                 Disability Proportion    2.5\n",
       "3           White Population Proportion    1.9\n",
       "4   Manufacturing Employment Proportion    1.6\n",
       "5                    Population Density    1.6\n",
       "6                     Unemployment Rate    1.6\n",
       "7        Hispanic Population Proportion    1.6\n",
       "8         Veteran Population Proportion    1.5\n",
       "9                            Median Age    1.5\n",
       "10    Agriculture Employment Proportion    1.5\n",
       "11                      Sex Ratio (M/F)    1.4\n",
       "12         Mining Employment Proportion    1.3"
      ]
     },
     "execution_count": 37,
     "metadata": {},
     "output_type": "execute_result"
    }
   ],
   "source": [
    "df.drop(columns='Per Capita Income', inplace=True)\n",
    "vif_df = add_constant(df.drop(columns='Winning Candidate'))\n",
    "vif_output = []\n",
    "for num in range(0, len(vif_df.columns)):\n",
    "    vif_output.append([vif_df.columns[num], variance_inflation_factor(vif_df.values, num)])\n",
    "vif_output_df = pd.DataFrame(vif_output, columns=['Column', 'VIF'])\n",
    "vif_output_df.sort_values(by='VIF', ascending=False, inplace=True)\n",
    "vif_output_df.round(decimals=1).reset_index(drop=True)"
   ]
  },
  {
   "cell_type": "markdown",
   "id": "354ab546",
   "metadata": {
    "id": "354ab546"
   },
   "source": [
    "# Model Data"
   ]
  },
  {
   "cell_type": "markdown",
   "id": "e5c2983c",
   "metadata": {
    "id": "e5c2983c"
   },
   "source": [
    "Create x and y variables"
   ]
  },
  {
   "cell_type": "code",
   "execution_count": null,
   "id": "2cdf1b64",
   "metadata": {
    "id": "2cdf1b64"
   },
   "outputs": [],
   "source": [
    "y = df['Winning Candidate']\n",
    "x = df.drop(columns='Winning Candidate')"
   ]
  },
  {
   "cell_type": "markdown",
   "id": "c8238fa4",
   "metadata": {
    "id": "c8238fa4"
   },
   "source": [
    "Perform Train Test Split"
   ]
  },
  {
   "cell_type": "code",
   "execution_count": null,
   "id": "25b6bd18",
   "metadata": {
    "id": "25b6bd18"
   },
   "outputs": [],
   "source": [
    "x_train, x_test, y_train, y_test = train_test_split(x, y, random_state=31, test_size=.2)"
   ]
  },
  {
   "cell_type": "markdown",
   "id": "d8caefae",
   "metadata": {
    "id": "d8caefae"
   },
   "source": [
    "Apply standard scaler to x and y variables"
   ]
  },
  {
   "cell_type": "code",
   "execution_count": null,
   "id": "23b01a9b",
   "metadata": {
    "colab": {
     "base_uri": "https://localhost:8080/",
     "height": 261
    },
    "id": "23b01a9b",
    "outputId": "39cfdf3e-64d7-4d1e-8ce4-776970e16ff1"
   },
   "outputs": [
    {
     "data": {
      "text/html": [
       "<div>\n",
       "<style scoped>\n",
       "    .dataframe tbody tr th:only-of-type {\n",
       "        vertical-align: middle;\n",
       "    }\n",
       "\n",
       "    .dataframe tbody tr th {\n",
       "        vertical-align: top;\n",
       "    }\n",
       "\n",
       "    .dataframe thead th {\n",
       "        text-align: right;\n",
       "    }\n",
       "</style>\n",
       "<table border=\"1\" class=\"dataframe\">\n",
       "  <thead>\n",
       "    <tr style=\"text-align: right;\">\n",
       "      <th></th>\n",
       "      <th>Sex Ratio (M/F)</th>\n",
       "      <th>Disability Proportion</th>\n",
       "      <th>Median Age</th>\n",
       "      <th>Bachelors Degree Proportion</th>\n",
       "      <th>Unemployment Rate</th>\n",
       "      <th>Hispanic Population Proportion</th>\n",
       "      <th>White Population Proportion</th>\n",
       "      <th>Veteran Population Proportion</th>\n",
       "      <th>Agriculture Employment Proportion</th>\n",
       "      <th>Mining Employment Proportion</th>\n",
       "      <th>Manufacturing Employment Proportion</th>\n",
       "      <th>Population Density</th>\n",
       "    </tr>\n",
       "  </thead>\n",
       "  <tbody>\n",
       "    <tr>\n",
       "      <th>0</th>\n",
       "      <td>0.679763</td>\n",
       "      <td>-0.116952</td>\n",
       "      <td>0.564303</td>\n",
       "      <td>0.234494</td>\n",
       "      <td>0.028943</td>\n",
       "      <td>-0.080975</td>\n",
       "      <td>0.184126</td>\n",
       "      <td>1.064640</td>\n",
       "      <td>-0.464765</td>\n",
       "      <td>-0.440574</td>\n",
       "      <td>0.308242</td>\n",
       "      <td>-0.207823</td>\n",
       "    </tr>\n",
       "    <tr>\n",
       "      <th>1</th>\n",
       "      <td>-1.614680</td>\n",
       "      <td>0.344906</td>\n",
       "      <td>-0.191990</td>\n",
       "      <td>0.355167</td>\n",
       "      <td>0.190036</td>\n",
       "      <td>-0.600689</td>\n",
       "      <td>-1.782677</td>\n",
       "      <td>-0.151856</td>\n",
       "      <td>-0.639347</td>\n",
       "      <td>-0.357010</td>\n",
       "      <td>-0.076998</td>\n",
       "      <td>0.016613</td>\n",
       "    </tr>\n",
       "    <tr>\n",
       "      <th>2</th>\n",
       "      <td>-0.772683</td>\n",
       "      <td>0.402639</td>\n",
       "      <td>-0.107957</td>\n",
       "      <td>0.266435</td>\n",
       "      <td>0.869728</td>\n",
       "      <td>0.398641</td>\n",
       "      <td>-1.008031</td>\n",
       "      <td>-0.834883</td>\n",
       "      <td>-0.603506</td>\n",
       "      <td>-0.516601</td>\n",
       "      <td>-0.672170</td>\n",
       "      <td>1.534922</td>\n",
       "    </tr>\n",
       "    <tr>\n",
       "      <th>3</th>\n",
       "      <td>0.006165</td>\n",
       "      <td>-0.694274</td>\n",
       "      <td>-0.191990</td>\n",
       "      <td>-1.044885</td>\n",
       "      <td>-0.863496</td>\n",
       "      <td>-0.322211</td>\n",
       "      <td>-0.593011</td>\n",
       "      <td>0.419075</td>\n",
       "      <td>0.529764</td>\n",
       "      <td>-0.043462</td>\n",
       "      <td>-0.730595</td>\n",
       "      <td>-0.432529</td>\n",
       "    </tr>\n",
       "    <tr>\n",
       "      <th>4</th>\n",
       "      <td>-0.246434</td>\n",
       "      <td>-0.954069</td>\n",
       "      <td>0.669343</td>\n",
       "      <td>1.011747</td>\n",
       "      <td>-0.912089</td>\n",
       "      <td>0.163543</td>\n",
       "      <td>0.336588</td>\n",
       "      <td>0.117361</td>\n",
       "      <td>-0.599999</td>\n",
       "      <td>-0.519858</td>\n",
       "      <td>-0.948348</td>\n",
       "      <td>-0.280635</td>\n",
       "    </tr>\n",
       "  </tbody>\n",
       "</table>\n",
       "</div>"
      ],
      "text/plain": [
       "   Sex Ratio (M/F)  ...  Population Density\n",
       "0         0.679763  ...           -0.207823\n",
       "1        -1.614680  ...            0.016613\n",
       "2        -0.772683  ...            1.534922\n",
       "3         0.006165  ...           -0.432529\n",
       "4        -0.246434  ...           -0.280635\n",
       "\n",
       "[5 rows x 12 columns]"
      ]
     },
     "execution_count": 40,
     "metadata": {},
     "output_type": "execute_result"
    }
   ],
   "source": [
    "ss = StandardScaler()\n",
    "ss.fit(x_train)\n",
    "x_train = pd.DataFrame(ss.transform(x_train), columns = x.columns)\n",
    "x_test = pd.DataFrame(ss.transform(x_test), columns = x.columns)\n",
    "x_train.head()"
   ]
  },
  {
   "cell_type": "markdown",
   "id": "c62ec941",
   "metadata": {
    "id": "c62ec941"
   },
   "source": [
    "Build and validate dummy classifier model"
   ]
  },
  {
   "cell_type": "code",
   "execution_count": null,
   "id": "5b24bc62",
   "metadata": {
    "colab": {
     "base_uri": "https://localhost:8080/"
    },
    "id": "5b24bc62",
    "outputId": "4cdc58c5-37ac-476f-82c9-a26892347b7d"
   },
   "outputs": [
    {
     "name": "stdout",
     "output_type": "stream",
     "text": [
      "Dummy Classifier\n",
      "Train f1 Score:  0.3612903225806452\n",
      "Train Accuracy:  0.55\n",
      "Test f1 Score:  0.4375\n",
      "Test Accuracy:  0.5662650602409639\n"
     ]
    }
   ],
   "source": [
    "dc = DummyClassifier(strategy='stratified')\n",
    "dc.fit(x_train, y_train)\n",
    "y_train_pred_dc = dc.predict(x_train)\n",
    "y_test_pred_dc = dc.predict(x_test)\n",
    "print('Dummy Classifier')\n",
    "print('Train f1 Score: ', f1_score(y_train, y_train_pred_dc))\n",
    "print('Train Accuracy: ', accuracy_score(y_train, y_train_pred_dc))\n",
    "print('Test f1 Score: ', f1_score(y_test, y_test_pred_dc))\n",
    "print('Test Accuracy: ', accuracy_score(y_test, y_test_pred_dc))"
   ]
  },
  {
   "cell_type": "markdown",
   "id": "e210c642",
   "metadata": {
    "id": "e210c642"
   },
   "source": [
    "Gridsearch elasticnet Logistic Regression model"
   ]
  },
  {
   "cell_type": "code",
   "execution_count": null,
   "id": "c67fcf23",
   "metadata": {
    "colab": {
     "base_uri": "https://localhost:8080/"
    },
    "id": "c67fcf23",
    "outputId": "f58bd892-d25a-4cba-80d7-3cf6a4bb7510"
   },
   "outputs": [
    {
     "name": "stdout",
     "output_type": "stream",
     "text": [
      "Fitting 5 folds for each of 231 candidates, totalling 1155 fits\n",
      "Logistic Regression Gridsearch\n",
      "Best Params {'C': 0.097, 'l1_ratio': 0.0}\n",
      "Best Score 0.7775299203417789\n"
     ]
    }
   ],
   "source": [
    "lr_gs_dic = {'C': [x/1000 for x in range(90, 111)], 'l1_ratio': [x/100 for x in range(0, 11)]}\n",
    "lr_gs_model = LogisticRegression(penalty='elasticnet', solver='saga', random_state=7)\n",
    "lr_gs = GridSearchCV(lr_gs_model, lr_gs_dic, scoring='f1', cv=5, verbose=1)\n",
    "lr_gs.fit(x_train, y_train)\n",
    "print('Logistic Regression Gridsearch')\n",
    "print('Best Params', lr_gs.best_params_)\n",
    "print('Best Score', lr_gs.best_score_)"
   ]
  },
  {
   "cell_type": "markdown",
   "id": "209265ed",
   "metadata": {
    "id": "209265ed"
   },
   "source": [
    "Gridsearch l2 Logistic Regression model"
   ]
  },
  {
   "cell_type": "code",
   "execution_count": null,
   "id": "20e9fe56",
   "metadata": {
    "colab": {
     "base_uri": "https://localhost:8080/"
    },
    "id": "20e9fe56",
    "outputId": "9e1b5c85-567e-435c-d9ba-5c9cd143f02a"
   },
   "outputs": [
    {
     "name": "stdout",
     "output_type": "stream",
     "text": [
      "Fitting 5 folds for each of 505 candidates, totalling 2525 fits\n",
      "Logistic Regression Gridsearch\n",
      "Best Params {'C': 0.0542, 'solver': 'liblinear'}\n",
      "Best Score 0.7839757935895457\n"
     ]
    }
   ],
   "source": [
    "lr_gs_dic = {'C': [x/10000 for x in range(500, 601)], 'solver': ['newton-cg','liblinear','sag', 'saga', 'lbfgs']}\n",
    "lr_gs_model = LogisticRegression(random_state=7)\n",
    "lr_gs = GridSearchCV(lr_gs_model, lr_gs_dic, scoring='f1', cv=5, verbose=1)\n",
    "lr_gs.fit(x_train, y_train)\n",
    "print('Logistic Regression Gridsearch')\n",
    "print('Best Params', lr_gs.best_params_)\n",
    "print('Best Score', lr_gs.best_score_)"
   ]
  },
  {
   "cell_type": "markdown",
   "id": "f8058b04",
   "metadata": {
    "id": "f8058b04"
   },
   "source": [
    "Build and validate top performing logistic regression model"
   ]
  },
  {
   "cell_type": "code",
   "execution_count": null,
   "id": "1aa457d0",
   "metadata": {
    "colab": {
     "base_uri": "https://localhost:8080/"
    },
    "id": "1aa457d0",
    "outputId": "dab0c890-3e4e-4911-93f6-7f278807f0dd"
   },
   "outputs": [
    {
     "name": "stdout",
     "output_type": "stream",
     "text": [
      "Logistic Regression\n",
      "Train f1 Score:  0.7833333333333334\n",
      "Train Accuracy:  0.8424242424242424\n",
      "Test f1 Score:  0.8034188034188035\n",
      "Test Accuracy:  0.8614457831325302\n"
     ]
    }
   ],
   "source": [
    "lr = LogisticRegression(C=.0542, solver='liblinear', random_state=7)\n",
    "lr.fit(x_train, y_train)\n",
    "y_train_pred_lr = lr.predict(x_train)\n",
    "y_test_pred_lr = lr.predict(x_test)\n",
    "print('Logistic Regression')\n",
    "print('Train f1 Score: ', f1_score(y_train, y_train_pred_lr))\n",
    "print('Train Accuracy: ', accuracy_score(y_train, y_train_pred_lr))\n",
    "print('Test f1 Score: ', f1_score(y_test, y_test_pred_lr))\n",
    "print('Test Accuracy: ', accuracy_score(y_test, y_test_pred_lr))"
   ]
  },
  {
   "cell_type": "markdown",
   "id": "kVQoaORPmBuL",
   "metadata": {
    "id": "kVQoaORPmBuL"
   },
   "source": [
    "Build a Confusion Matrix for the top performing Logistic Regression model"
   ]
  },
  {
   "cell_type": "code",
   "execution_count": null,
   "id": "rAOLHyOnmCCU",
   "metadata": {
    "colab": {
     "base_uri": "https://localhost:8080/",
     "height": 367
    },
    "id": "rAOLHyOnmCCU",
    "outputId": "52a8575f-b87b-4009-e8db-60f9933172be"
   },
   "outputs": [
    {
     "data": {
      "text/plain": [
       "[Text(0, 0.5, 'Trump'), Text(0, 1.5, 'Biden')]"
      ]
     },
     "execution_count": 45,
     "metadata": {},
     "output_type": "execute_result"
    },
    {
     "data": {
      "image/png": "[encoded data removed]",
      "text/plain": [
       "<Figure size 360x360 with 2 Axes>"
      ]
     },
     "metadata": {
      "needs_background": "light"
     },
     "output_type": "display_data"
    }
   ],
   "source": [
    "lr_cm = confusion_matrix(y_test, y_test_pred_lr)\n",
    "fig, ax = plt.subplots(figsize=(5,5))\n",
    "lr_matrix = sns.heatmap(lr_cm/np.sum(lr_cm), annot=True, ax = ax, cmap = 'Blues', fmt = '.1%')\n",
    "lr_matrix.set_title('Logistic Regression Confusion Matrix')\n",
    "lr_matrix.set_xlabel('Predicted')\n",
    "lr_matrix.set_xticklabels(['Trump','Biden'])\n",
    "lr_matrix.set_ylabel('Actual')\n",
    "lr_matrix.set_yticklabels(['Trump','Biden'])"
   ]
  },
  {
   "cell_type": "markdown",
   "id": "f1117b66",
   "metadata": {
    "id": "f1117b66"
   },
   "source": [
    "Gridsearch Adaboost model"
   ]
  },
  {
   "cell_type": "code",
   "execution_count": null,
   "id": "f188813c",
   "metadata": {
    "colab": {
     "base_uri": "https://localhost:8080/"
    },
    "id": "f188813c",
    "outputId": "5cab2745-de8c-48a3-c9e1-d1e39793c17d",
    "scrolled": true
   },
   "outputs": [
    {
     "name": "stdout",
     "output_type": "stream",
     "text": [
      "Fitting 5 folds for each of 202 candidates, totalling 1010 fits\n",
      "Logistic Regression Gridsearch\n",
      "Best Params {'algorithm': 'SAMME.R', 'learning_rate': 0.917}\n",
      "Best Score 0.7854701927386822\n"
     ]
    }
   ],
   "source": [
    "ab_gs_dic = {'learning_rate': [x/1000 for x in range(850, 951)], 'algorithm': ['SAMME', 'SAMME.R']}\n",
    "ab_gs_model = AdaBoostClassifier(random_state=32)\n",
    "ab_gs = GridSearchCV(ab_gs_model, ab_gs_dic, scoring='f1', cv=5, verbose=1)\n",
    "ab_gs.fit(x_train, y_train)\n",
    "print('Logistic Regression Gridsearch')\n",
    "print('Best Params', ab_gs.best_params_)\n",
    "print('Best Score', ab_gs.best_score_)"
   ]
  },
  {
   "cell_type": "markdown",
   "id": "61bf454e",
   "metadata": {
    "id": "61bf454e"
   },
   "source": [
    "Build and validate top performing Adaboost model"
   ]
  },
  {
   "cell_type": "code",
   "execution_count": null,
   "id": "b962dc6a",
   "metadata": {
    "colab": {
     "base_uri": "https://localhost:8080/"
    },
    "id": "b962dc6a",
    "outputId": "27d9a778-711f-4a05-9f72-9f7e20c4aaf0"
   },
   "outputs": [
    {
     "name": "stdout",
     "output_type": "stream",
     "text": [
      "Adaboost\n",
      "Train f1 Score:  0.8676171079429736\n",
      "Train Accuracy:  0.9015151515151515\n",
      "Test f1 Score:  0.8130081300813008\n",
      "Test Accuracy:  0.8614457831325302\n"
     ]
    }
   ],
   "source": [
    "ab = AdaBoostClassifier(learning_rate=.917, algorithm='SAMME.R', random_state=32)\n",
    "ab.fit(x_train, y_train)\n",
    "y_train_pred_ab = ab.predict(x_train)\n",
    "y_test_pred_ab = ab.predict(x_test)\n",
    "print('Adaboost')\n",
    "print('Train f1 Score: ', f1_score(y_train, y_train_pred_ab))\n",
    "print('Train Accuracy: ', accuracy_score(y_train, y_train_pred_ab))\n",
    "print('Test f1 Score: ', f1_score(y_test, y_test_pred_ab))\n",
    "print('Test Accuracy: ', accuracy_score(y_test, y_test_pred_ab))"
   ]
  },
  {
   "cell_type": "markdown",
   "id": "JPKk8db2oBL3",
   "metadata": {
    "id": "JPKk8db2oBL3"
   },
   "source": [
    "Build a confusion matrix for the top performing Adaboost model"
   ]
  },
  {
   "cell_type": "code",
   "execution_count": null,
   "id": "SRpMwJQNoBhD",
   "metadata": {
    "colab": {
     "base_uri": "https://localhost:8080/",
     "height": 367
    },
    "id": "SRpMwJQNoBhD",
    "outputId": "96c5d57d-217a-4e63-d130-954f79b1b2aa"
   },
   "outputs": [
    {
     "data": {
      "text/plain": [
       "[Text(0, 0.5, 'Trump'), Text(0, 1.5, 'Biden')]"
      ]
     },
     "execution_count": 44,
     "metadata": {},
     "output_type": "execute_result"
    },
    {
     "data": {
      "image/png": "[encoded data removed]",
      "text/plain": [
       "<Figure size 360x360 with 2 Axes>"
      ]
     },
     "metadata": {
      "needs_background": "light"
     },
     "output_type": "display_data"
    }
   ],
   "source": [
    "ab_cm = confusion_matrix(y_test, y_test_pred_ab)\n",
    "fig, ax = plt.subplots(figsize=(5,5))\n",
    "ab_matrix = sns.heatmap(ab_cm/np.sum(ab_cm), annot=True, ax = ax, cmap = 'Blues', fmt = '.1%')\n",
    "ab_matrix.set_title('AdaBoost Confusion Matrix')\n",
    "ab_matrix.set_xlabel('Predicted')\n",
    "ab_matrix.set_xticklabels(['Trump','Biden'])\n",
    "ab_matrix.set_ylabel('Actual')\n",
    "ab_matrix.set_yticklabels(['Trump','Biden'])"
   ]
  },
  {
   "cell_type": "markdown",
   "id": "VyOCIkT8vpOL",
   "metadata": {
    "id": "VyOCIkT8vpOL"
   },
   "source": [
    "Gridsearch Random Forest Model"
   ]
  },
  {
   "cell_type": "code",
   "execution_count": null,
   "id": "ZLLDTzijvpd4",
   "metadata": {
    "colab": {
     "base_uri": "https://localhost:8080/"
    },
    "id": "ZLLDTzijvpd4",
    "outputId": "ca52d4f5-bc84-4df2-90be-7437ceb19886"
   },
   "outputs": [
    {
     "name": "stdout",
     "output_type": "stream",
     "text": [
      "Fitting 5 folds for each of 1210 candidates, totalling 6050 fits\n",
      "Random Forest Gridsearch\n",
      "Best Params {'criterion': 'gini', 'max_features': 0.75, 'max_samples': 0.829, 'min_samples_split': 7}\n",
      "Best Score 0.7873232148694719\n"
     ]
    }
   ],
   "source": [
    "rf_gs_dic = {'max_features': [x/1000 for x in range(745, 756)],\n",
    "             'max_samples': [x/1000 for x in range(825, 836)],\n",
    "             'min_samples_split': [5, 6, 7, 8, 9],\n",
    "             'criterion': ['gini', 'entropy']}\n",
    "rf_gs_model = RandomForestClassifier(random_state=74)\n",
    "rf_gs = GridSearchCV(rf_gs_model, rf_gs_dic, scoring='f1', cv=5, verbose=1)\n",
    "rf_gs.fit(x_train, y_train)\n",
    "print('Random Forest Gridsearch')\n",
    "print('Best Params', rf_gs.best_params_)\n",
    "print('Best Score', rf_gs.best_score_)"
   ]
  },
  {
   "cell_type": "markdown",
   "id": "xuNlxqRJv1DJ",
   "metadata": {
    "id": "xuNlxqRJv1DJ"
   },
   "source": [
    "Build and validate top performing Random Forest model"
   ]
  },
  {
   "cell_type": "code",
   "execution_count": null,
   "id": "Aoo53Kd7vzc0",
   "metadata": {
    "colab": {
     "base_uri": "https://localhost:8080/"
    },
    "id": "Aoo53Kd7vzc0",
    "outputId": "d7bf57df-4de7-4736-e1f8-053f8ff937a2"
   },
   "outputs": [
    {
     "name": "stdout",
     "output_type": "stream",
     "text": [
      "Random Forest\n",
      "Train f1 Score:  0.98\n",
      "Train Accuracy:  0.9848484848484849\n",
      "Test f1 Score:  0.7903225806451613\n",
      "Test Accuracy:  0.8433734939759037\n"
     ]
    }
   ],
   "source": [
    "rf = RandomForestClassifier(random_state=74, criterion='gini', max_features=0.75, max_samples=0.829, min_samples_split=7)\n",
    "rf.fit(x_train, y_train)\n",
    "y_train_pred_rf = rf.predict(x_train)\n",
    "y_test_pred_rf = rf.predict(x_test)\n",
    "print('Random Forest')\n",
    "print('Train f1 Score: ', f1_score(y_train, y_train_pred_rf))\n",
    "print('Train Accuracy: ', accuracy_score(y_train, y_train_pred_rf))\n",
    "print('Test f1 Score: ', f1_score(y_test, y_test_pred_rf))\n",
    "print('Test Accuracy: ', accuracy_score(y_test, y_test_pred_rf))"
   ]
  },
  {
   "cell_type": "markdown",
   "id": "29087adb",
   "metadata": {
    "id": "29087adb"
   },
   "source": [
    "Gridsearch xgboost model"
   ]
  },
  {
   "cell_type": "code",
   "execution_count": null,
   "id": "6e9fda10",
   "metadata": {
    "colab": {
     "base_uri": "https://localhost:8080/"
    },
    "id": "6e9fda10",
    "outputId": "f9a33399-1d68-4c5e-982e-1346d0cd1392",
    "scrolled": true
   },
   "outputs": [
    {
     "name": "stdout",
     "output_type": "stream",
     "text": [
      "Fitting 5 folds for each of 3125 candidates, totalling 15625 fits\n",
      "XGBoost Gridsearch\n",
      "Best Params {'colsample_bylevel': 0.334, 'gamma': 1.46, 'learning_rate': 0.199, 'reg_lambda': 2.51, 'subsample': 0.59}\n",
      "Best Score 0.8007820347252116\n"
     ]
    }
   ],
   "source": [
    "xgb_gs_dic = {'learning_rate': [.198, .199, .20, .21, .22],\n",
    "              'reg_lambda': [2.5, 2.51, 2.52, 2.53, 2.54], \n",
    "              'gamma': [1.43, 1.44, 1.45, 1.46, 1.47],\n",
    "             'subsample': [.588, .589, .59, .591, .592], \n",
    "              'colsample_bylevel': [.333, .334, .335, .336, .337]}\n",
    "xgb_gs_model = XGBClassifier(random_state=53)\n",
    "xgb_gs = GridSearchCV(xgb_gs_model, xgb_gs_dic, scoring='f1', cv=5, verbose=1, n_jobs=1)\n",
    "xgb_gs.fit(x_train, y_train)\n",
    "print('XGBoost Gridsearch')\n",
    "print('Best Params', xgb_gs.best_params_)\n",
    "print('Best Score', xgb_gs.best_score_)"
   ]
  },
  {
   "cell_type": "markdown",
   "id": "abd89bca",
   "metadata": {
    "id": "abd89bca"
   },
   "source": [
    "Build and evaluate top performing xgboost model"
   ]
  },
  {
   "cell_type": "code",
   "execution_count": null,
   "id": "00a5a270",
   "metadata": {
    "colab": {
     "base_uri": "https://localhost:8080/"
    },
    "id": "00a5a270",
    "outputId": "c2b42e56-5292-4c3a-c4f8-1ea0d3b34974",
    "scrolled": true
   },
   "outputs": [
    {
     "name": "stdout",
     "output_type": "stream",
     "text": [
      "XGBoost\n",
      "Train f1 Score:  0.9452332657200813\n",
      "Train Accuracy:  0.9590909090909091\n",
      "Test f1 Score:  0.784\n",
      "Test Accuracy:  0.8373493975903614\n"
     ]
    }
   ],
   "source": [
    "xgb = XGBClassifier(colsample_bylevel=0.334, gamma=1.46, learning_rate=0.199, reg_lambda=2.51, subsample=0.59,\n",
    "                   random_state=53)\n",
    "xgb.fit(x_train, y_train)\n",
    "y_train_pred_xgb = xgb.predict(x_train)\n",
    "y_test_pred_xgb = xgb.predict(x_test)\n",
    "print('XGBoost')\n",
    "print('Train f1 Score: ', f1_score(y_train, y_train_pred_xgb))\n",
    "print('Train Accuracy: ', accuracy_score(y_train, y_train_pred_xgb))\n",
    "print('Test f1 Score: ', f1_score(y_test, y_test_pred_xgb))\n",
    "print('Test Accuracy: ', accuracy_score(y_test, y_test_pred_xgb))"
   ]
  },
  {
   "cell_type": "markdown",
   "id": "bc5527dd",
   "metadata": {
    "id": "bc5527dd"
   },
   "source": [
    "# Analyze Results"
   ]
  },
  {
   "cell_type": "markdown",
   "id": "6f463d62",
   "metadata": {
    "id": "6f463d62"
   },
   "source": [
    "Create df with coefficients from logistic regression model"
   ]
  },
  {
   "cell_type": "code",
   "execution_count": null,
   "id": "bd50f0dd",
   "metadata": {
    "colab": {
     "base_uri": "https://localhost:8080/",
     "height": 426
    },
    "id": "bd50f0dd",
    "outputId": "884ef3a7-6a74-421e-e7d2-60a0135f7eaa"
   },
   "outputs": [
    {
     "data": {
      "text/html": [
       "<div>\n",
       "<style scoped>\n",
       "    .dataframe tbody tr th:only-of-type {\n",
       "        vertical-align: middle;\n",
       "    }\n",
       "\n",
       "    .dataframe tbody tr th {\n",
       "        vertical-align: top;\n",
       "    }\n",
       "\n",
       "    .dataframe thead th {\n",
       "        text-align: right;\n",
       "    }\n",
       "</style>\n",
       "<table border=\"1\" class=\"dataframe\">\n",
       "  <thead>\n",
       "    <tr style=\"text-align: right;\">\n",
       "      <th></th>\n",
       "      <th>Coefficient</th>\n",
       "      <th>Feature</th>\n",
       "    </tr>\n",
       "  </thead>\n",
       "  <tbody>\n",
       "    <tr>\n",
       "      <th>0</th>\n",
       "      <td>-0.659723</td>\n",
       "      <td>White Population Proportion</td>\n",
       "    </tr>\n",
       "    <tr>\n",
       "      <th>1</th>\n",
       "      <td>-0.488872</td>\n",
       "      <td>Mining Employment Proportion</td>\n",
       "    </tr>\n",
       "    <tr>\n",
       "      <th>2</th>\n",
       "      <td>-0.281560</td>\n",
       "      <td>Veteran Population Proportion</td>\n",
       "    </tr>\n",
       "    <tr>\n",
       "      <th>3</th>\n",
       "      <td>-0.222097</td>\n",
       "      <td>Manufacturing Employment Proportion</td>\n",
       "    </tr>\n",
       "    <tr>\n",
       "      <th>4</th>\n",
       "      <td>-0.136779</td>\n",
       "      <td>Sex Ratio (M/F)</td>\n",
       "    </tr>\n",
       "    <tr>\n",
       "      <th>5</th>\n",
       "      <td>-0.135098</td>\n",
       "      <td>Median Age</td>\n",
       "    </tr>\n",
       "    <tr>\n",
       "      <th>6</th>\n",
       "      <td>-0.132143</td>\n",
       "      <td>Agriculture Employment Proportion</td>\n",
       "    </tr>\n",
       "    <tr>\n",
       "      <th>7</th>\n",
       "      <td>-0.075255</td>\n",
       "      <td>Disability Proportion</td>\n",
       "    </tr>\n",
       "    <tr>\n",
       "      <th>8</th>\n",
       "      <td>0.328041</td>\n",
       "      <td>Unemployment Rate</td>\n",
       "    </tr>\n",
       "    <tr>\n",
       "      <th>9</th>\n",
       "      <td>0.361707</td>\n",
       "      <td>Hispanic Population Proportion</td>\n",
       "    </tr>\n",
       "    <tr>\n",
       "      <th>10</th>\n",
       "      <td>0.493468</td>\n",
       "      <td>Population Density</td>\n",
       "    </tr>\n",
       "    <tr>\n",
       "      <th>11</th>\n",
       "      <td>0.870976</td>\n",
       "      <td>Bachelors Degree Proportion</td>\n",
       "    </tr>\n",
       "  </tbody>\n",
       "</table>\n",
       "</div>"
      ],
      "text/plain": [
       "    Coefficient                              Feature\n",
       "0     -0.659723          White Population Proportion\n",
       "1     -0.488872         Mining Employment Proportion\n",
       "2     -0.281560        Veteran Population Proportion\n",
       "3     -0.222097  Manufacturing Employment Proportion\n",
       "4     -0.136779                      Sex Ratio (M/F)\n",
       "5     -0.135098                           Median Age\n",
       "6     -0.132143    Agriculture Employment Proportion\n",
       "7     -0.075255                Disability Proportion\n",
       "8      0.328041                    Unemployment Rate\n",
       "9      0.361707       Hispanic Population Proportion\n",
       "10     0.493468                   Population Density\n",
       "11     0.870976          Bachelors Degree Proportion"
      ]
     },
     "execution_count": 50,
     "metadata": {},
     "output_type": "execute_result"
    }
   ],
   "source": [
    "lr_coefficients_df = pd.DataFrame(lr.coef_, index=['Coefficient']).T\n",
    "lr_coefficients_df['Feature'] = x_train.columns\n",
    "lr_coefficients_df.sort_values(by='Coefficient', inplace=True)\n",
    "lr_coefficients_df.reset_index(drop=True, inplace=True)\n",
    "lr_coefficients_df"
   ]
  },
  {
   "cell_type": "markdown",
   "id": "29a644ad",
   "metadata": {
    "id": "29a644ad"
   },
   "source": [
    "Plot Biden Vote Proportion logistic regression model coefficients"
   ]
  },
  {
   "cell_type": "code",
   "execution_count": null,
   "id": "9f51f177",
   "metadata": {
    "colab": {
     "base_uri": "https://localhost:8080/",
     "height": 510
    },
    "id": "9f51f177",
    "outputId": "e1c4b863-db00-4802-fe9f-efa4c9baed6d"
   },
   "outputs": [
    {
     "data": {
      "text/plain": [
       "Text(0.5, 1.0, '2020 Joe Biden Winning Counties Logistic Regression Coefficients')"
      ]
     },
     "execution_count": 71,
     "metadata": {},
     "output_type": "execute_result"
    },
    {
     "data": {
      "image/png": "[encoded data removed]",
      "text/plain": [
       "<Figure size 720x360 with 1 Axes>"
      ]
     },
     "metadata": {
      "needs_background": "light"
     },
     "output_type": "display_data"
    }
   ],
   "source": [
    "fig, ax = plt.subplots(figsize=(10,5))\n",
    "sns.barplot(x='Feature', y='Coefficient', data=lr_coefficients_df, ax=ax)\n",
    "\n",
    "x_tick_labels = ['White Population Proportion', 'Mining \\n Employment Proportion',\n",
    "       'Veteran Population Proportion',\n",
    "       'Manufacturing \\n Employment Proportion', 'Sex Ratio (M/F)',\n",
    "       'Median Age', 'Agriculture \\n Employment Proportion',\n",
    "       'Disability Proportion', 'Unemployment Rate',\n",
    "       'Hispanic Population Proportion', 'Population Density',\n",
    "       'Bachelors Degree Proportion']\n",
    "ax.set_xticklabels(x_tick_labels, rotation=90)\n",
    "ax.set_title('2020 Joe Biden Winning Counties Logistic Regression Coefficients')"
   ]
  },
  {
   "cell_type": "markdown",
   "id": "f85f27d6",
   "metadata": {
    "id": "f85f27d6"
   },
   "source": [
    "Create df with feature importances from Adaboost model"
   ]
  },
  {
   "cell_type": "code",
   "execution_count": null,
   "id": "cc5a9dc1",
   "metadata": {
    "colab": {
     "base_uri": "https://localhost:8080/",
     "height": 426
    },
    "id": "cc5a9dc1",
    "outputId": "4ab63bf5-ef02-42c5-9b30-39e851d91300",
    "scrolled": false
   },
   "outputs": [
    {
     "data": {
      "text/html": [
       "<div>\n",
       "<style scoped>\n",
       "    .dataframe tbody tr th:only-of-type {\n",
       "        vertical-align: middle;\n",
       "    }\n",
       "\n",
       "    .dataframe tbody tr th {\n",
       "        vertical-align: top;\n",
       "    }\n",
       "\n",
       "    .dataframe thead th {\n",
       "        text-align: right;\n",
       "    }\n",
       "</style>\n",
       "<table border=\"1\" class=\"dataframe\">\n",
       "  <thead>\n",
       "    <tr style=\"text-align: right;\">\n",
       "      <th></th>\n",
       "      <th>Importance</th>\n",
       "      <th>Feature</th>\n",
       "    </tr>\n",
       "  </thead>\n",
       "  <tbody>\n",
       "    <tr>\n",
       "      <th>0</th>\n",
       "      <td>0.16</td>\n",
       "      <td>Bachelors Degree Proportion</td>\n",
       "    </tr>\n",
       "    <tr>\n",
       "      <th>1</th>\n",
       "      <td>0.14</td>\n",
       "      <td>Mining Employment Proportion</td>\n",
       "    </tr>\n",
       "    <tr>\n",
       "      <th>2</th>\n",
       "      <td>0.12</td>\n",
       "      <td>Hispanic Population Proportion</td>\n",
       "    </tr>\n",
       "    <tr>\n",
       "      <th>3</th>\n",
       "      <td>0.10</td>\n",
       "      <td>White Population Proportion</td>\n",
       "    </tr>\n",
       "    <tr>\n",
       "      <th>4</th>\n",
       "      <td>0.10</td>\n",
       "      <td>Veteran Population Proportion</td>\n",
       "    </tr>\n",
       "    <tr>\n",
       "      <th>5</th>\n",
       "      <td>0.08</td>\n",
       "      <td>Population Density</td>\n",
       "    </tr>\n",
       "    <tr>\n",
       "      <th>6</th>\n",
       "      <td>0.06</td>\n",
       "      <td>Sex Ratio (M/F)</td>\n",
       "    </tr>\n",
       "    <tr>\n",
       "      <th>7</th>\n",
       "      <td>0.06</td>\n",
       "      <td>Disability Proportion</td>\n",
       "    </tr>\n",
       "    <tr>\n",
       "      <th>8</th>\n",
       "      <td>0.06</td>\n",
       "      <td>Unemployment Rate</td>\n",
       "    </tr>\n",
       "    <tr>\n",
       "      <th>9</th>\n",
       "      <td>0.06</td>\n",
       "      <td>Agriculture Employment Proportion</td>\n",
       "    </tr>\n",
       "    <tr>\n",
       "      <th>10</th>\n",
       "      <td>0.04</td>\n",
       "      <td>Median Age</td>\n",
       "    </tr>\n",
       "    <tr>\n",
       "      <th>11</th>\n",
       "      <td>0.02</td>\n",
       "      <td>Manufacturing Employment Proportion</td>\n",
       "    </tr>\n",
       "  </tbody>\n",
       "</table>\n",
       "</div>"
      ],
      "text/plain": [
       "    Importance                              Feature\n",
       "0         0.16          Bachelors Degree Proportion\n",
       "1         0.14         Mining Employment Proportion\n",
       "2         0.12       Hispanic Population Proportion\n",
       "3         0.10          White Population Proportion\n",
       "4         0.10        Veteran Population Proportion\n",
       "5         0.08                   Population Density\n",
       "6         0.06                      Sex Ratio (M/F)\n",
       "7         0.06                Disability Proportion\n",
       "8         0.06                    Unemployment Rate\n",
       "9         0.06    Agriculture Employment Proportion\n",
       "10        0.04                           Median Age\n",
       "11        0.02  Manufacturing Employment Proportion"
      ]
     },
     "execution_count": 45,
     "metadata": {},
     "output_type": "execute_result"
    }
   ],
   "source": [
    "ab_importances_df = pd.DataFrame(ab.feature_importances_, columns=['Importance'])\n",
    "ab_importances_df['Feature'] = x_train.columns\n",
    "ab_importances_df.sort_values(by='Importance', ascending=False, inplace=True)\n",
    "ab_importances_df.reset_index(inplace=True, drop=True)\n",
    "ab_importances_df"
   ]
  },
  {
   "cell_type": "markdown",
   "id": "XdREtp2l72dw",
   "metadata": {
    "id": "XdREtp2l72dw"
   },
   "source": [
    "Plot Adaboost feature importances"
   ]
  },
  {
   "cell_type": "code",
   "execution_count": null,
   "id": "XSAm4cT272qx",
   "metadata": {
    "colab": {
     "base_uri": "https://localhost:8080/",
     "height": 510
    },
    "id": "XSAm4cT272qx",
    "outputId": "fffef4ed-5c5b-4b10-d12c-3574881af5ca"
   },
   "outputs": [
    {
     "data": {
      "text/plain": [
       "Text(0.5, 1.0, '2020 Election Classification AdaBoost Feature Importances')"
      ]
     },
     "execution_count": 52,
     "metadata": {},
     "output_type": "execute_result"
    },
    {
     "data": {
      "image/png": "[encoded data removed]",
      "text/plain": [
       "<Figure size 720x360 with 1 Axes>"
      ]
     },
     "metadata": {
      "needs_background": "light"
     },
     "output_type": "display_data"
    }
   ],
   "source": [
    "fig, ax = plt.subplots(figsize=(10,5))\n",
    "sns.barplot(x='Feature', y='Importance', data=ab_importances_df, ax=ax)\n",
    "\n",
    "ab_importances_features = ['Bachelors Degree Proportion', 'Mining \\n Employment Proportion',\n",
    "       'Hispanic Population Proportion', 'White Population Proportion',\n",
    "       'Veteran Population Proportion', 'Population Density',\n",
    "       'Sex Ratio (M/F)', 'Disability Proportion', 'Unemployment Rate',\n",
    "       'Agriculture \\n Employment Proportion', 'Median Age',\n",
    "       'Manufacturing \\n Employment Proportion']\n",
    "ax.set_xticklabels(ab_importances_features, rotation=90)\n",
    "ax.set_title('2020 Election Classification AdaBoost Feature Importances')"
   ]
  }
 ],
 "metadata": {
  "accelerator": "GPU",
  "colab": {
   "collapsed_sections": [],
   "name": "Copy of Biden_Classification_Modeling_2.ipynb",
   "provenance": []
  },
  "kernelspec": {
   "display_name": "Python 3",
   "language": "python",
   "name": "python3"
  },
  "language_info": {
   "codemirror_mode": {
    "name": "ipython",
    "version": 3
   },
   "file_extension": ".py",
   "mimetype": "text/x-python",
   "name": "python",
   "nbconvert_exporter": "python",
   "pygments_lexer": "ipython3",
   "version": "3.9.5"
  }
 },
 "nbformat": 4,
 "nbformat_minor": 5
}
